{
 "cells": [
  {
   "cell_type": "code",
   "execution_count": 1,
   "metadata": {},
   "outputs": [],
   "source": [
    "# !pip install torch-scatter -f https://data.pyg.org/whl/torch-{torch.__version__}.html\n",
    "# !pip install torch-sparse -f https://data.pyg.org/whl/torch-{torch.__version__}.html\n",
    "# !pip install torch-cluster -f https://data.pyg.org/whl/torch-{torch.__version__}.html\n",
    "# !pip install git+https://github.com/pyg-team/pytorch_geometric.git"
   ]
  },
  {
   "cell_type": "markdown",
   "metadata": {},
   "source": [
    "# Imports"
   ]
  },
  {
   "cell_type": "code",
   "execution_count": 203,
   "metadata": {
    "colab": {
     "base_uri": "https://localhost:8080/",
     "height": 519
    },
    "id": "GNzUSXRP8bTc",
    "outputId": "45daf40a-2361-4293-bce6-f7a938bd9261"
   },
   "outputs": [],
   "source": [
    "import os\n",
    "import scipy\n",
    "import json\n",
    "import matplotlib.pyplot as plt\n",
    "import numpy as np\n",
    "import pandas as pd\n",
    "from scipy import io\n",
    "from typing import Union, Any, Optional, List, Dict, Tuple\n",
    "from tqdm import tqdm\n",
    "\n",
    "from dataclasses import dataclass, field\n",
    "from pathlib import Path\n",
    "\n",
    "import torch\n",
    "from torch import nn\n",
    "from torch.nn import functional as F\n",
    "from torch import Tensor\n",
    "from torch.nn import Parameter, Linear\n",
    "\n",
    "from sklearn.metrics import f1_score, accuracy_score, roc_auc_score\n",
    "\n",
    "import torch_geometric\n",
    "import torch_geometric as pyg\n",
    "from torch_geometric.typing import Size, OptTensor\n",
    "from torch_geometric.nn import global_add_pool, global_mean_pool, MessagePassing, GATConv, GCNConv, PNAConv\n",
    "from torch_sparse import SparseTensor, matmul, fill_diag, sum as sparsesum, mul\n",
    "from torch_geometric.nn.inits import glorot, zeros\n",
    "from torch_geometric.utils import softmax\n",
    "from torch_geometric.data import Data, InMemoryDataset\n",
    "from torch_geometric.loader import DataLoader"
   ]
  },
  {
   "cell_type": "code",
   "execution_count": 3,
   "metadata": {},
   "outputs": [
    {
     "name": "stdout",
     "output_type": "stream",
     "text": [
      "torch 2.0.0+cu118\n",
      "torch_geometric 2.3.0\n",
      "cuda\n"
     ]
    }
   ],
   "source": [
    "print('torch', torch.__version__)\n",
    "print('torch_geometric', torch_geometric.__version__)\n",
    "device = torch.device(\"cuda\" if torch.cuda.is_available() else \"cpu\")\n",
    "print(device)"
   ]
  },
  {
   "cell_type": "code",
   "execution_count": 4,
   "metadata": {
    "id": "e2_ocGa6JRMK"
   },
   "outputs": [],
   "source": [
    "abide_txt_path = 'DATA/abide/subject_ID.txt'\n",
    "abide_desc_path = 'DATA/abide/ABIDE_pcp/Phenotypic_V1_0b_preprocessed1.csv'\n",
    "abide_folders = 'DATA/abide/ABIDE_pcp/cpac/filt_noglobal/'\n",
    "\n",
    "cobre_csvs_path =  'DATA/cobre/aal/'"
   ]
  },
  {
   "cell_type": "markdown",
   "metadata": {},
   "source": [
    "# Our data example"
   ]
  },
  {
   "cell_type": "code",
   "execution_count": 5,
   "metadata": {},
   "outputs": [
    {
     "data": {
      "text/plain": [
       "((200, 200), dtype('<f8'))"
      ]
     },
     "execution_count": 5,
     "metadata": {},
     "output_type": "execute_result"
    }
   ],
   "source": [
    "mat = io.loadmat(abide_folders+'51355/51355_cc200_correlation.mat')['connectivity']\n",
    "mat.shape, mat.dtype"
   ]
  },
  {
   "cell_type": "code",
   "execution_count": 6,
   "metadata": {},
   "outputs": [
    {
     "data": {
      "text/plain": [
       "array([[1.        , 0.27721658, 0.44255188, ..., 0.05532044, 0.30002629,\n",
       "        0.49002441],\n",
       "       [0.27721658, 1.        , 0.71593713, ..., 0.19948448, 0.2464389 ,\n",
       "        0.52754512],\n",
       "       [0.44255188, 0.71593713, 1.        , ..., 0.10978258, 0.25019925,\n",
       "        0.50727236],\n",
       "       ...,\n",
       "       [0.05532044, 0.19948448, 0.10978258, ..., 1.        , 0.36693132,\n",
       "        0.14509277],\n",
       "       [0.30002629, 0.2464389 , 0.25019925, ..., 0.36693132, 1.        ,\n",
       "        0.26102196],\n",
       "       [0.49002441, 0.52754512, 0.50727236, ..., 0.14509277, 0.26102196,\n",
       "        1.        ]])"
      ]
     },
     "execution_count": 6,
     "metadata": {},
     "output_type": "execute_result"
    }
   ],
   "source": [
    "mat # we have 200x200 connectivity matrix with ones on the diagonal"
   ]
  },
  {
   "cell_type": "markdown",
   "metadata": {
    "id": "6VZnmDd69xvR"
   },
   "source": [
    "# Fom connectivity matrices to pytorch geometric (PyG) data"
   ]
  },
  {
   "cell_type": "code",
   "execution_count": 7,
   "metadata": {
    "colab": {
     "base_uri": "https://localhost:8080/",
     "height": 235
    },
    "id": "ufPifdJv99PL",
    "outputId": "52274e2e-e686-4a47-b814-2aa120bc5b2f"
   },
   "outputs": [],
   "source": [
    "def cm_to_edges(cm: np.ndarray):\n",
    "    \"\"\"\n",
    "    Convert CM to (edge_index, edge_weights) of a fully connected weighted graph\n",
    "    (including self-loops with zero weights)\n",
    "    return: (edge_index, edge_weights)\n",
    "    \"\"\"\n",
    "    cm = torch.FloatTensor(cm)\n",
    "    index = (torch.isnan(cm) == 0).nonzero(as_tuple=True)\n",
    "    edge_attr = torch.abs(cm[index])\n",
    "    \n",
    "    return torch.stack(index, dim=0), edge_attr\n",
    "\n",
    "def prepare_pyg_data(\n",
    "    cm: np.ndarray,\n",
    "    subj_id: str,\n",
    "    targets: int,\n",
    ") -> Data:\n",
    "    \n",
    "    # fully connected graph\n",
    "    n = cm.shape[0]\n",
    "    edge_index, edge_attr = cm_to_edges(cm)\n",
    "    \n",
    "    # compute initial node embeddings -> just original weights\n",
    "    x = torch.from_numpy(cm).to(device)\n",
    "\n",
    "    # get encoded labels\n",
    "    y = F.one_hot(torch.tensor([targets-1]), num_classes=2).to(device) # we took targets-1 because targets in abide are 1 and 2\n",
    "    \n",
    "    data = Data(\n",
    "        edge_index=edge_index,\n",
    "        edge_attr=edge_attr,\n",
    "        x=x,\n",
    "        num_nodes=n,\n",
    "        y=y,\n",
    "        subj_id=subj_id,\n",
    "    ) \n",
    "    \n",
    "    return data"
   ]
  },
  {
   "cell_type": "markdown",
   "metadata": {
    "id": "e8zs7ZQM4YXC"
   },
   "source": [
    "# ABIDE"
   ]
  },
  {
   "cell_type": "markdown",
   "metadata": {
    "id": "byeasKkA78z2"
   },
   "source": [
    "Description of columns in Phenotypic_V1_0b_preprocessed1.csv: http://fcon_1000.projects.nitrc.org/indi/abide/ABIDEII_Data_Legend.pdf"
   ]
  },
  {
   "cell_type": "code",
   "execution_count": 8,
   "metadata": {
    "colab": {
     "base_uri": "https://localhost:8080/",
     "height": 317
    },
    "id": "Se7lL4vU57bW",
    "outputId": "89d2e1aa-07a9-43bb-fd8d-33dfa97c5950"
   },
   "outputs": [
    {
     "data": {
      "text/html": [
       "<div>\n",
       "<style scoped>\n",
       "    .dataframe tbody tr th:only-of-type {\n",
       "        vertical-align: middle;\n",
       "    }\n",
       "\n",
       "    .dataframe tbody tr th {\n",
       "        vertical-align: top;\n",
       "    }\n",
       "\n",
       "    .dataframe thead th {\n",
       "        text-align: right;\n",
       "    }\n",
       "</style>\n",
       "<table border=\"1\" class=\"dataframe\">\n",
       "  <thead>\n",
       "    <tr style=\"text-align: right;\">\n",
       "      <th></th>\n",
       "      <th>Unnamed: 0</th>\n",
       "      <th>Unnamed: 0.1</th>\n",
       "      <th>SUB_ID</th>\n",
       "      <th>X</th>\n",
       "      <th>subject</th>\n",
       "      <th>SITE_ID</th>\n",
       "      <th>FILE_ID</th>\n",
       "      <th>DX_GROUP</th>\n",
       "      <th>DSM_IV_TR</th>\n",
       "      <th>AGE_AT_SCAN</th>\n",
       "      <th>...</th>\n",
       "      <th>qc_notes_rater_1</th>\n",
       "      <th>qc_anat_rater_2</th>\n",
       "      <th>qc_anat_notes_rater_2</th>\n",
       "      <th>qc_func_rater_2</th>\n",
       "      <th>qc_func_notes_rater_2</th>\n",
       "      <th>qc_anat_rater_3</th>\n",
       "      <th>qc_anat_notes_rater_3</th>\n",
       "      <th>qc_func_rater_3</th>\n",
       "      <th>qc_func_notes_rater_3</th>\n",
       "      <th>SUB_IN_SMP</th>\n",
       "    </tr>\n",
       "  </thead>\n",
       "  <tbody>\n",
       "    <tr>\n",
       "      <th>0</th>\n",
       "      <td>0</td>\n",
       "      <td>1</td>\n",
       "      <td>50002</td>\n",
       "      <td>1</td>\n",
       "      <td>50002</td>\n",
       "      <td>PITT</td>\n",
       "      <td>no_filename</td>\n",
       "      <td>1</td>\n",
       "      <td>1</td>\n",
       "      <td>16.77</td>\n",
       "      <td>...</td>\n",
       "      <td>NaN</td>\n",
       "      <td>OK</td>\n",
       "      <td>NaN</td>\n",
       "      <td>fail</td>\n",
       "      <td>ic-parietal-cerebellum</td>\n",
       "      <td>OK</td>\n",
       "      <td>NaN</td>\n",
       "      <td>fail</td>\n",
       "      <td>ERROR #24</td>\n",
       "      <td>1</td>\n",
       "    </tr>\n",
       "    <tr>\n",
       "      <th>1</th>\n",
       "      <td>1</td>\n",
       "      <td>2</td>\n",
       "      <td>50003</td>\n",
       "      <td>2</td>\n",
       "      <td>50003</td>\n",
       "      <td>PITT</td>\n",
       "      <td>Pitt_0050003</td>\n",
       "      <td>1</td>\n",
       "      <td>1</td>\n",
       "      <td>24.45</td>\n",
       "      <td>...</td>\n",
       "      <td>NaN</td>\n",
       "      <td>OK</td>\n",
       "      <td>NaN</td>\n",
       "      <td>OK</td>\n",
       "      <td>NaN</td>\n",
       "      <td>OK</td>\n",
       "      <td>NaN</td>\n",
       "      <td>OK</td>\n",
       "      <td>NaN</td>\n",
       "      <td>1</td>\n",
       "    </tr>\n",
       "    <tr>\n",
       "      <th>2</th>\n",
       "      <td>2</td>\n",
       "      <td>3</td>\n",
       "      <td>50004</td>\n",
       "      <td>3</td>\n",
       "      <td>50004</td>\n",
       "      <td>PITT</td>\n",
       "      <td>Pitt_0050004</td>\n",
       "      <td>1</td>\n",
       "      <td>1</td>\n",
       "      <td>19.09</td>\n",
       "      <td>...</td>\n",
       "      <td>NaN</td>\n",
       "      <td>OK</td>\n",
       "      <td>NaN</td>\n",
       "      <td>OK</td>\n",
       "      <td>NaN</td>\n",
       "      <td>OK</td>\n",
       "      <td>NaN</td>\n",
       "      <td>OK</td>\n",
       "      <td>NaN</td>\n",
       "      <td>1</td>\n",
       "    </tr>\n",
       "    <tr>\n",
       "      <th>3</th>\n",
       "      <td>3</td>\n",
       "      <td>4</td>\n",
       "      <td>50005</td>\n",
       "      <td>4</td>\n",
       "      <td>50005</td>\n",
       "      <td>PITT</td>\n",
       "      <td>Pitt_0050005</td>\n",
       "      <td>1</td>\n",
       "      <td>1</td>\n",
       "      <td>13.73</td>\n",
       "      <td>...</td>\n",
       "      <td>NaN</td>\n",
       "      <td>OK</td>\n",
       "      <td>NaN</td>\n",
       "      <td>maybe</td>\n",
       "      <td>ic-parietal-cerebellum</td>\n",
       "      <td>OK</td>\n",
       "      <td>NaN</td>\n",
       "      <td>OK</td>\n",
       "      <td>NaN</td>\n",
       "      <td>0</td>\n",
       "    </tr>\n",
       "    <tr>\n",
       "      <th>4</th>\n",
       "      <td>4</td>\n",
       "      <td>5</td>\n",
       "      <td>50006</td>\n",
       "      <td>5</td>\n",
       "      <td>50006</td>\n",
       "      <td>PITT</td>\n",
       "      <td>Pitt_0050006</td>\n",
       "      <td>1</td>\n",
       "      <td>1</td>\n",
       "      <td>13.37</td>\n",
       "      <td>...</td>\n",
       "      <td>NaN</td>\n",
       "      <td>OK</td>\n",
       "      <td>NaN</td>\n",
       "      <td>maybe</td>\n",
       "      <td>ic-parietal slight</td>\n",
       "      <td>OK</td>\n",
       "      <td>NaN</td>\n",
       "      <td>OK</td>\n",
       "      <td>NaN</td>\n",
       "      <td>1</td>\n",
       "    </tr>\n",
       "  </tbody>\n",
       "</table>\n",
       "<p>5 rows × 106 columns</p>\n",
       "</div>"
      ],
      "text/plain": [
       "   Unnamed: 0  Unnamed: 0.1  SUB_ID  X  subject SITE_ID       FILE_ID  \\\n",
       "0           0             1   50002  1    50002    PITT   no_filename   \n",
       "1           1             2   50003  2    50003    PITT  Pitt_0050003   \n",
       "2           2             3   50004  3    50004    PITT  Pitt_0050004   \n",
       "3           3             4   50005  4    50005    PITT  Pitt_0050005   \n",
       "4           4             5   50006  5    50006    PITT  Pitt_0050006   \n",
       "\n",
       "   DX_GROUP  DSM_IV_TR  AGE_AT_SCAN  ...  qc_notes_rater_1 qc_anat_rater_2  \\\n",
       "0         1          1        16.77  ...               NaN              OK   \n",
       "1         1          1        24.45  ...               NaN              OK   \n",
       "2         1          1        19.09  ...               NaN              OK   \n",
       "3         1          1        13.73  ...               NaN              OK   \n",
       "4         1          1        13.37  ...               NaN              OK   \n",
       "\n",
       "   qc_anat_notes_rater_2  qc_func_rater_2   qc_func_notes_rater_2  \\\n",
       "0                    NaN             fail  ic-parietal-cerebellum   \n",
       "1                    NaN               OK                     NaN   \n",
       "2                    NaN               OK                     NaN   \n",
       "3                    NaN            maybe  ic-parietal-cerebellum   \n",
       "4                    NaN            maybe      ic-parietal slight   \n",
       "\n",
       "   qc_anat_rater_3 qc_anat_notes_rater_3 qc_func_rater_3  \\\n",
       "0               OK                   NaN            fail   \n",
       "1               OK                   NaN              OK   \n",
       "2               OK                   NaN              OK   \n",
       "3               OK                   NaN              OK   \n",
       "4               OK                   NaN              OK   \n",
       "\n",
       "  qc_func_notes_rater_3  SUB_IN_SMP  \n",
       "0             ERROR #24           1  \n",
       "1                   NaN           1  \n",
       "2                   NaN           1  \n",
       "3                   NaN           0  \n",
       "4                   NaN           1  \n",
       "\n",
       "[5 rows x 106 columns]"
      ]
     },
     "execution_count": 8,
     "metadata": {},
     "output_type": "execute_result"
    }
   ],
   "source": [
    "abide_desc = pd.read_csv(abide_desc_path)\n",
    "abide_desc.head()\n",
    "\n",
    "# DX_GROUP. Diagnostic Group. Numeric. 1 = Autism; 2 = Control.\n",
    "# PDD_DSM_IV_TR DSM-IV-TR PDD Category Numeric 0=none; 1=Autism; 2=Aspergers; 3=PDD-NOS"
   ]
  },
  {
   "cell_type": "code",
   "execution_count": 9,
   "metadata": {
    "colab": {
     "base_uri": "https://localhost:8080/"
    },
    "id": "390ckYgB8roF",
    "outputId": "8b6dee61-6cbc-4906-9a25-a3f95276fa09"
   },
   "outputs": [
    {
     "data": {
      "text/plain": [
       "(array([1, 2], dtype=int64), array([539, 573], dtype=int64))"
      ]
     },
     "execution_count": 9,
     "metadata": {},
     "output_type": "execute_result"
    }
   ],
   "source": [
    "np.unique(abide_desc.DX_GROUP, return_counts=True)"
   ]
  },
  {
   "cell_type": "code",
   "execution_count": 10,
   "metadata": {
    "colab": {
     "base_uri": "https://localhost:8080/"
    },
    "id": "VVU_oWfN8gd4",
    "outputId": "6a682bce-e572-4ffd-8e5a-d0293e0a50bd"
   },
   "outputs": [
    {
     "data": {
      "text/plain": [
       "(array([-9999,     0,     1,     2,     3,     4], dtype=int64),\n",
       " array([ 72, 558, 347,  93,  36,   6], dtype=int64))"
      ]
     },
     "execution_count": 10,
     "metadata": {},
     "output_type": "execute_result"
    }
   ],
   "source": [
    "np.unique(abide_desc.DSM_IV_TR, return_counts=True)"
   ]
  },
  {
   "cell_type": "code",
   "execution_count": 11,
   "metadata": {
    "colab": {
     "base_uri": "https://localhost:8080/"
    },
    "id": "3m6gGfm99eQF",
    "outputId": "6dca4bb1-cb1f-492d-ef3a-c7892059bb83"
   },
   "outputs": [
    {
     "data": {
      "text/plain": [
       "([50002, 50003, 50004, 50005, 50006, 50007, 50008, 50009, 50010, 50011],\n",
       " array([1, 1, 1, 1, 1, 1, 1, 1, 1, 1], dtype=int64))"
      ]
     },
     "execution_count": 11,
     "metadata": {},
     "output_type": "execute_result"
    }
   ],
   "source": [
    "abide_subj = list(abide_desc.subject)\n",
    "group = np.array(abide_desc.DX_GROUP)\n",
    "abide_subj[:10], group[:10]"
   ]
  },
  {
   "cell_type": "code",
   "execution_count": 12,
   "metadata": {
    "id": "YaRdKnKy4fxL"
   },
   "outputs": [],
   "source": [
    "X = []\n",
    "Y = []\n",
    "subj_ids = []\n",
    "missed_ids = []\n",
    "for subj, y in zip(abide_subj, group):\n",
    "    try:\n",
    "        X.append(scipy.io.loadmat(abide_folders+str(subj)+'/'+str(subj)+'_cc200_correlation.mat')['connectivity'])\n",
    "        Y.append(y)\n",
    "        subj_ids.append(str(subj))\n",
    "    except:\n",
    "        missed_ids.append(str(subj))\n",
    "    \n",
    "X = np.array(X)\n",
    "Y = np.array(Y)\n",
    "\n",
    "subj_ids = np.array(subj_ids)"
   ]
  },
  {
   "cell_type": "code",
   "execution_count": 13,
   "metadata": {},
   "outputs": [],
   "source": [
    "dict_X = dict(zip(subj_ids, X))\n",
    "dict_Y =  dict(zip(subj_ids, Y))"
   ]
  },
  {
   "cell_type": "code",
   "execution_count": 14,
   "metadata": {
    "scrolled": true
   },
   "outputs": [],
   "source": [
    "abide_splits = json.load(open('DATA/abide/abide_splits.json')) # we use same train-test split for classic ML and deep NL models \n",
    "train_ids = abide_splits['0']['train']+abide_splits['0']['valid']\n",
    "test_ids = abide_splits['test']"
   ]
  },
  {
   "cell_type": "code",
   "execution_count": 15,
   "metadata": {},
   "outputs": [
    {
     "data": {
      "text/plain": [
       "(828, 207)"
      ]
     },
     "execution_count": 15,
     "metadata": {},
     "output_type": "execute_result"
    }
   ],
   "source": [
    "len(train_ids), len(test_ids) # the dataset is pretty small, we need to be sure not to overfit"
   ]
  },
  {
   "cell_type": "markdown",
   "metadata": {},
   "source": [
    "Graph NN has specific batching - Graph layers can serve only one matrix as input (only $2D$ input) so for batch several matrices $A_i$ are stacked in one big matrix $A$. Because of that we create two dataloaders - common one from torch and specific from torch_geometric.\n",
    "\n",
    "for reference: https://pytorch-geometric.readthedocs.io/en/latest/advanced/batching.html"
   ]
  },
  {
   "attachments": {
    "image.png": {
     "image/png": "[encoded data removed]"
    }
   },
   "cell_type": "markdown",
   "metadata": {},
   "source": [
    "![image.png](attachment:image.png)"
   ]
  },
  {
   "cell_type": "code",
   "execution_count": 16,
   "metadata": {
    "id": "yGvZeprvAfJz"
   },
   "outputs": [
    {
     "name": "stderr",
     "output_type": "stream",
     "text": [
      "C:\\Users\\med20\\AppData\\Local\\Temp/ipykernel_11548/3330422635.py:18: UserWarning: Creating a tensor from a list of numpy.ndarrays is extremely slow. Please consider converting the list to a single numpy.ndarray with numpy.array() before converting to a tensor. (Triggered internally at C:\\actions-runner\\_work\\pytorch\\pytorch\\builder\\windows\\pytorch\\torch\\csrc\\utils\\tensor_new.cpp:248.)\n",
      "  dataset = torch.utils.data.TensorDataset(torch.Tensor(train_inps).to(device), torch.cat(train_tgts, axis=0).to(device))\n"
     ]
    }
   ],
   "source": [
    "# creation of PyG dataloaders and common dataloaders\n",
    "# PyG data has specific batching\n",
    "\n",
    "train_inps, train_tgts = [], []\n",
    "train_loader_pyg = []\n",
    "for x, subj_id, y in zip(X, train_ids, Y):\n",
    "    train_loader_pyg.append(prepare_pyg_data(dict_X[subj_id], subj_id, dict_Y[subj_id]))\n",
    "    train_inps.append(dict_X[subj_id])\n",
    "    train_tgts.append(F.one_hot(torch.tensor([dict_Y[subj_id]-1]), num_classes=2).to(device))\n",
    "\n",
    "test_inps, test_tgts = [], []\n",
    "test_loader_pyg = []\n",
    "for x, subj_id, y in zip(X, test_ids, Y):\n",
    "    test_loader_pyg.append(prepare_pyg_data(dict_X[subj_id], subj_id, dict_Y[subj_id]))\n",
    "    test_inps.append(dict_X[subj_id])\n",
    "    test_tgts.append(F.one_hot(torch.tensor([dict_Y[subj_id]-1]), num_classes=2).to(device))\n",
    "    \n",
    "dataset = torch.utils.data.TensorDataset(torch.Tensor(train_inps).to(device), torch.cat(train_tgts, axis=0).to(device))\n",
    "train_loader_abide = torch.utils.data.DataLoader(dataset, batch_size=16)\n",
    "dataset = torch.utils.data.TensorDataset(torch.Tensor(test_inps).to(device), torch.cat(test_tgts, axis=0).to(device))\n",
    "test_loader_abide = torch.utils.data.DataLoader(dataset, batch_size=16)\n",
    "    \n",
    "train_loader_abide_pyg = DataLoader(train_loader_pyg, batch_size=8)\n",
    "test_loader_abide_pyg = DataLoader(test_loader_pyg, batch_size=8)"
   ]
  },
  {
   "cell_type": "code",
   "execution_count": 17,
   "metadata": {
    "scrolled": false
   },
   "outputs": [
    {
     "data": {
      "text/plain": [
       "(torch.Size([16, 200, 200]), torch.Size([16, 2]))"
      ]
     },
     "execution_count": 17,
     "metadata": {},
     "output_type": "execute_result"
    }
   ],
   "source": [
    "next(iter(train_loader_abide))[0].shape, next(iter(train_loader_abide))[1].shape"
   ]
  },
  {
   "cell_type": "code",
   "execution_count": 22,
   "metadata": {},
   "outputs": [
    {
     "data": {
      "text/plain": [
       "DataBatch(x=[1600, 200], edge_index=[2, 320000], edge_attr=[320000], y=[8, 2], num_nodes=1600, subj_id=[8], batch=[1600], ptr=[9])"
      ]
     },
     "execution_count": 22,
     "metadata": {},
     "output_type": "execute_result"
    }
   ],
   "source": [
    "next(iter(train_loader_abide_pyg)) # x"
   ]
  },
  {
   "cell_type": "markdown",
   "metadata": {},
   "source": [
    "## COBRE"
   ]
  },
  {
   "cell_type": "markdown",
   "metadata": {},
   "source": [
    "COBRE dataset is pretty small so the deep ML models overfit too easily "
   ]
  },
  {
   "cell_type": "code",
   "execution_count": 26,
   "metadata": {},
   "outputs": [
    {
     "data": {
      "text/html": [
       "<div>\n",
       "<style scoped>\n",
       "    .dataframe tbody tr th:only-of-type {\n",
       "        vertical-align: middle;\n",
       "    }\n",
       "\n",
       "    .dataframe tbody tr th {\n",
       "        vertical-align: top;\n",
       "    }\n",
       "\n",
       "    .dataframe thead th {\n",
       "        text-align: right;\n",
       "    }\n",
       "</style>\n",
       "<table border=\"1\" class=\"dataframe\">\n",
       "  <thead>\n",
       "    <tr style=\"text-align: right;\">\n",
       "      <th></th>\n",
       "      <th>Study</th>\n",
       "      <th>Projectid</th>\n",
       "      <th>Description</th>\n",
       "      <th>Subjectid</th>\n",
       "      <th>Age</th>\n",
       "      <th>Sex</th>\n",
       "      <th>Dx</th>\n",
       "      <th>Field_strength</th>\n",
       "      <th>Img_date</th>\n",
       "      <th>Datauri</th>\n",
       "      <th>Maker</th>\n",
       "      <th>Model</th>\n",
       "      <th>Szc_protocol_hier</th>\n",
       "      <th>Notes</th>\n",
       "      <th>Imaging_protocol_site</th>\n",
       "      <th>Visit</th>\n",
       "    </tr>\n",
       "  </thead>\n",
       "  <tbody>\n",
       "    <tr>\n",
       "      <th>0</th>\n",
       "      <td>COBRE</td>\n",
       "      <td>1139</td>\n",
       "      <td>The Center for Biomedical Research Excellence ...</td>\n",
       "      <td>A00000300</td>\n",
       "      <td>36</td>\n",
       "      <td>male</td>\n",
       "      <td>No_Known_Disorder</td>\n",
       "      <td>3</td>\n",
       "      <td>2011-01-01 00:00:00.0</td>\n",
       "      <td>970414</td>\n",
       "      <td>Siemens</td>\n",
       "      <td>MIND TRIO 3.0T</td>\n",
       "      <td>Resting_State</td>\n",
       "      <td>NaN</td>\n",
       "      <td>MRN</td>\n",
       "      <td>NaN</td>\n",
       "    </tr>\n",
       "    <tr>\n",
       "      <th>1</th>\n",
       "      <td>COBRE</td>\n",
       "      <td>1139</td>\n",
       "      <td>The Center for Biomedical Research Excellence ...</td>\n",
       "      <td>A00000300</td>\n",
       "      <td>36</td>\n",
       "      <td>male</td>\n",
       "      <td>No_Known_Disorder</td>\n",
       "      <td>3</td>\n",
       "      <td>2011-01-01 00:00:00.0</td>\n",
       "      <td>980034</td>\n",
       "      <td>Siemens</td>\n",
       "      <td>MIND TRIO 3.0T</td>\n",
       "      <td>MPRAGE</td>\n",
       "      <td>NaN</td>\n",
       "      <td>MRN</td>\n",
       "      <td>NaN</td>\n",
       "    </tr>\n",
       "    <tr>\n",
       "      <th>2</th>\n",
       "      <td>COBRE</td>\n",
       "      <td>1139</td>\n",
       "      <td>The Center for Biomedical Research Excellence ...</td>\n",
       "      <td>A00000300</td>\n",
       "      <td>36</td>\n",
       "      <td>male</td>\n",
       "      <td>No_Known_Disorder</td>\n",
       "      <td>3</td>\n",
       "      <td>2011-01-01 00:00:00.0</td>\n",
       "      <td>980054</td>\n",
       "      <td>Siemens</td>\n",
       "      <td>MIND TRIO 3.0T</td>\n",
       "      <td>MPRAGE</td>\n",
       "      <td>NaN</td>\n",
       "      <td>MRN</td>\n",
       "      <td>NaN</td>\n",
       "    </tr>\n",
       "    <tr>\n",
       "      <th>3</th>\n",
       "      <td>COBRE</td>\n",
       "      <td>1139</td>\n",
       "      <td>The Center for Biomedical Research Excellence ...</td>\n",
       "      <td>A00000300</td>\n",
       "      <td>36</td>\n",
       "      <td>male</td>\n",
       "      <td>No_Known_Disorder</td>\n",
       "      <td>3</td>\n",
       "      <td>2011-01-01 00:00:00.0</td>\n",
       "      <td>980134</td>\n",
       "      <td>Siemens</td>\n",
       "      <td>MIND TRIO 3.0T</td>\n",
       "      <td>Diffusion</td>\n",
       "      <td>NaN</td>\n",
       "      <td>MRN</td>\n",
       "      <td>NaN</td>\n",
       "    </tr>\n",
       "    <tr>\n",
       "      <th>4</th>\n",
       "      <td>COBRE</td>\n",
       "      <td>1139</td>\n",
       "      <td>The Center for Biomedical Research Excellence ...</td>\n",
       "      <td>A00000300</td>\n",
       "      <td>36</td>\n",
       "      <td>male</td>\n",
       "      <td>No_Known_Disorder</td>\n",
       "      <td>3</td>\n",
       "      <td>2011-01-01 00:00:00.0</td>\n",
       "      <td>980154</td>\n",
       "      <td>Siemens</td>\n",
       "      <td>MIND TRIO 3.0T</td>\n",
       "      <td>Diffusion</td>\n",
       "      <td>NaN</td>\n",
       "      <td>MRN</td>\n",
       "      <td>NaN</td>\n",
       "    </tr>\n",
       "  </tbody>\n",
       "</table>\n",
       "</div>"
      ],
      "text/plain": [
       "   Study  Projectid                                        Description  \\\n",
       "0  COBRE       1139  The Center for Biomedical Research Excellence ...   \n",
       "1  COBRE       1139  The Center for Biomedical Research Excellence ...   \n",
       "2  COBRE       1139  The Center for Biomedical Research Excellence ...   \n",
       "3  COBRE       1139  The Center for Biomedical Research Excellence ...   \n",
       "4  COBRE       1139  The Center for Biomedical Research Excellence ...   \n",
       "\n",
       "   Subjectid  Age   Sex                 Dx  Field_strength  \\\n",
       "0  A00000300   36  male  No_Known_Disorder               3   \n",
       "1  A00000300   36  male  No_Known_Disorder               3   \n",
       "2  A00000300   36  male  No_Known_Disorder               3   \n",
       "3  A00000300   36  male  No_Known_Disorder               3   \n",
       "4  A00000300   36  male  No_Known_Disorder               3   \n",
       "\n",
       "                Img_date  Datauri    Maker           Model Szc_protocol_hier  \\\n",
       "0  2011-01-01 00:00:00.0   970414  Siemens  MIND TRIO 3.0T     Resting_State   \n",
       "1  2011-01-01 00:00:00.0   980034  Siemens  MIND TRIO 3.0T            MPRAGE   \n",
       "2  2011-01-01 00:00:00.0   980054  Siemens  MIND TRIO 3.0T            MPRAGE   \n",
       "3  2011-01-01 00:00:00.0   980134  Siemens  MIND TRIO 3.0T         Diffusion   \n",
       "4  2011-01-01 00:00:00.0   980154  Siemens  MIND TRIO 3.0T         Diffusion   \n",
       "\n",
       "   Notes Imaging_protocol_site  Visit  \n",
       "0    NaN                   MRN    NaN  \n",
       "1    NaN                   MRN    NaN  \n",
       "2    NaN                   MRN    NaN  \n",
       "3    NaN                   MRN    NaN  \n",
       "4    NaN                   MRN    NaN  "
      ]
     },
     "execution_count": 26,
     "metadata": {},
     "output_type": "execute_result"
    }
   ],
   "source": [
    "cobre_y = pd.read_csv('DATA/cobre/meta_data.tsv', delimiter='\\t')\n",
    "cobre_y.head()"
   ]
  },
  {
   "cell_type": "code",
   "execution_count": 27,
   "metadata": {
    "scrolled": true
   },
   "outputs": [],
   "source": [
    "cobre_splits = json.load(open('DATA/cobre/cobre_splits_new.json')) # here we also use the same train test splits as for classic ML\n",
    "train_ids = [i['train']+i['valid'] for i in cobre_splits['train']]\n",
    "train_ids = train_ids[0]+train_ids[1]+train_ids[2]+train_ids[3]+train_ids[4]\n",
    "train_ids = list(set(train_ids))\n",
    "test_ids = cobre_splits['test']"
   ]
  },
  {
   "cell_type": "code",
   "execution_count": 28,
   "metadata": {},
   "outputs": [],
   "source": [
    "X = []\n",
    "Y = []\n",
    "subj_ids = []\n",
    "missed_ids = []\n",
    "for subj, y in zip(train_ids+test_ids, group):\n",
    "    try:\n",
    "        X.append(np.array(pd.read_csv('DATA/cobre/aal/sub-'+subj+'.csv').drop('Unnamed: 0', axis=1)))\n",
    "        Y.append(y)\n",
    "        subj_ids.append(str(subj))\n",
    "    except:\n",
    "        missed_ids.append(str(subj))\n",
    "    \n",
    "X = np.array(X)\n",
    "Y = np.array(Y)\n",
    "\n",
    "dict_X = dict(zip(subj_ids, X))\n",
    "dict_Y = dict(zip(cobre_y[cobre_y.Subjectid.isin(subj_ids)].Subjectid, cobre_y[cobre_y.Subjectid.isin(subj_ids)].Dx))\n",
    "xx, yy = dict_Y.keys(), dict_Y.values()\n",
    "yy = [1 if i == 'Schizophrenia_Strict' else 2 for i in yy]\n",
    "dict_Y = dict(zip(xx, yy))"
   ]
  },
  {
   "cell_type": "code",
   "execution_count": 29,
   "metadata": {},
   "outputs": [],
   "source": [
    "# creation of PyG dataloaders and common dataloaders\n",
    "# PyG data has specific batching\n",
    "\n",
    "train_inps, train_tgts = [], []\n",
    "train_loader_pyg = []\n",
    "for x, subj_id, y in zip(X, train_ids, Y):\n",
    "    train_loader_pyg.append(prepare_pyg_data(dict_X[subj_id], subj_id, dict_Y[subj_id]))\n",
    "    train_inps.append(dict_X[subj_id])\n",
    "    train_tgts.append(F.one_hot(torch.tensor([dict_Y[subj_id]-1]), num_classes=2).to(device))\n",
    "\n",
    "test_inps, test_tgts = [], []\n",
    "test_loader_pyg = []\n",
    "for x, subj_id, y in zip(X, test_ids, Y):\n",
    "    test_loader_pyg.append(prepare_pyg_data(dict_X[subj_id], subj_id, dict_Y[subj_id]))\n",
    "    test_inps.append(dict_X[subj_id])\n",
    "    test_tgts.append(F.one_hot(torch.tensor([dict_Y[subj_id]-1]), num_classes=2).to(device))\n",
    "    \n",
    "dataset = torch.utils.data.TensorDataset(torch.Tensor(train_inps).to(device), torch.cat(train_tgts, axis=0).to(device))\n",
    "train_loader_cobre = torch.utils.data.DataLoader(dataset, batch_size=16)\n",
    "dataset = torch.utils.data.TensorDataset(torch.Tensor(test_inps).to(device), torch.cat(test_tgts, axis=0).to(device))\n",
    "test_loader_cobre = torch.utils.data.DataLoader(dataset, batch_size=16)\n",
    "    \n",
    "train_loader_cobre_pyg = DataLoader(train_loader_pyg, batch_size=8)\n",
    "test_loader_cobre_pyg = DataLoader(test_loader_pyg, batch_size=8)"
   ]
  },
  {
   "cell_type": "code",
   "execution_count": 30,
   "metadata": {
    "scrolled": false
   },
   "outputs": [
    {
     "data": {
      "text/plain": [
       "(torch.Size([16, 116, 116]), torch.Size([16, 2]))"
      ]
     },
     "execution_count": 30,
     "metadata": {},
     "output_type": "execute_result"
    }
   ],
   "source": [
    "next(iter(train_loader_cobre))[0].shape, next(iter(train_loader_cobre))[1].shape"
   ]
  },
  {
   "cell_type": "code",
   "execution_count": 31,
   "metadata": {},
   "outputs": [
    {
     "data": {
      "text/plain": [
       "DataBatch(x=[928, 116], edge_index=[2, 107648], edge_attr=[107648], y=[8, 2], num_nodes=928, subj_id=[8], batch=[928], ptr=[9])"
      ]
     },
     "execution_count": 31,
     "metadata": {},
     "output_type": "execute_result"
    }
   ],
   "source": [
    "next(iter(train_loader_cobre_pyg)) # x"
   ]
  },
  {
   "cell_type": "markdown",
   "metadata": {},
   "source": [
    "# Train and evaluate functions"
   ]
  },
  {
   "cell_type": "code",
   "execution_count": 217,
   "metadata": {},
   "outputs": [],
   "source": [
    "def evaluate(model, device, loader):\n",
    "    # set model to eval\n",
    "    model.eval()\n",
    "    \n",
    "    # init list\n",
    "    loss_all = 0\n",
    "    y_pred = []\n",
    "    y_true = []\n",
    "    \n",
    "    for data in loader:\n",
    "        \n",
    "        data = data.to(device)\n",
    "        \n",
    "        out = model(data)\n",
    "        \n",
    "        loss = F.binary_cross_entropy_with_logits(out, data.y.float())\n",
    "        loss_all += loss.item()\n",
    "        \n",
    "        y_pred.append(out.detach().cpu().numpy())\n",
    "        y_true.append(data.y.detach().cpu().numpy())\n",
    "    \n",
    "    y_pred = np.concatenate(y_pred, axis=0)\n",
    "    y_true = np.concatenate(y_true, axis=0)\n",
    "    \n",
    "    f1, acc, roc_auc = f1_score(y_true.argmax(-1), y_pred.argmax(-1)), accuracy_score(y_true.argmax(-1), y_pred.argmax(-1)), roc_auc_score(y_true.argmax(-1), y_pred[:, 1])\n",
    "        \n",
    "    return loss_all/len(loader.dataset), f1, acc, roc_auc"
   ]
  },
  {
   "cell_type": "code",
   "execution_count": 242,
   "metadata": {
    "id": "KWDS1ip7Eh9g"
   },
   "outputs": [],
   "source": [
    "def train_and_evaluate(model, train_loader, test_loader, optimizer, scheduler=None, device=device, n_epochs=20, verbose=True):\n",
    "    # set model to train\n",
    "    model.train()\n",
    "    \n",
    "    # init list\n",
    "    f1s = []\n",
    "    accs = []\n",
    "    roc_aucs = []\n",
    "\n",
    "    for i in range(n_epochs):\n",
    "        loss_all = 0\n",
    "        for data in train_loader:\n",
    "            data = data.to(device)\n",
    "            \n",
    "            # zero grads\n",
    "            optimizer.zero_grad()\n",
    "            \n",
    "            # forward\n",
    "            out = model(data)\n",
    "            \n",
    "            loss = F.cross_entropy(out, data.y.to(device).float())\n",
    "\n",
    "            loss.backward()\n",
    "            optimizer.step()\n",
    "\n",
    "            loss_all += loss.item()\n",
    "        \n",
    "        if scheduler:\n",
    "            scheduler.step()\n",
    "        \n",
    "        epoch_loss = loss_all / len(train_loader.dataset)\n",
    "\n",
    "        train_loss, train_f1, train_acc, train_roc_auc = evaluate(model, device, train_loader)\n",
    "        if verbose:\n",
    "            print(f'(Train) | Epoch={i:03d}, loss={epoch_loss:.4f}', f'train_acc={(train_acc * 100):.2f}')\n",
    "\n",
    "        \n",
    "        test_loss, test_f1, test_acc, test_roc_auc = evaluate(model, device, test_loader)\n",
    "        f1s.append(test_f1)\n",
    "        accs.append(test_acc)\n",
    "        roc_aucs.append(test_roc_auc)\n",
    "\n",
    "        text = f'(Train Epoch {i}), loss={test_loss:.4f}, test_acc={(test_acc * 100):.2f}'\n",
    "        \n",
    "        if verbose:\n",
    "            print(text)\n",
    "            if scheduler:\n",
    "                print('lr', scheduler.get_last_lr()[0])\n",
    "            print()\n",
    "    \n",
    "    f1s = np.array(f1s)\n",
    "    accs = np.array(accs)\n",
    "    roc_aucs = np.array(roc_aucs)\n",
    "    \n",
    "    return f1s.max(), accs.max(), roc_aucs.max()"
   ]
  },
  {
   "cell_type": "markdown",
   "metadata": {},
   "source": [
    "# Neurograph \n",
    "main idea of architechture was taken from https://github.com/gennadylaptev/neurograph/tree/main/neurograph with additions"
   ]
  },
  {
   "cell_type": "code",
   "execution_count": 243,
   "metadata": {},
   "outputs": [],
   "source": [
    "@dataclass\n",
    "class MLPlayer:\n",
    "    \"\"\" Config of one MLP layer \"\"\"\n",
    "    out_size: int = 10\n",
    "    act_func: Optional[str] = 'ReLU'\n",
    "    act_func_params: Optional[dict] = None\n",
    "    dropout: Optional[float] = None"
   ]
  },
  {
   "cell_type": "code",
   "execution_count": 244,
   "metadata": {},
   "outputs": [],
   "source": [
    "@dataclass\n",
    "class MLPConfig:\n",
    "    \"\"\" Config of MLP model \"\"\"\n",
    "    # layers define only hidden dimensions, so final MLP will have n+1 layer.\n",
    "    # So, if you want to create a 1-layer network, just leave layers empty\n",
    "\n",
    "    # in and out sizes are optional and usually depend on upstream model and the task\n",
    "    # for now, they are ignored\n",
    "    in_size: Optional[int] = None\n",
    "    out_size: Optional[int] = None\n",
    "\n",
    "    # act func for the last layer. None -> no activation function\n",
    "    act_func: Optional[str] = None\n",
    "    act_func_params: Optional[dict] = None\n",
    "    layers: List[MLPlayer] = field(default_factory=lambda: [\n",
    "        MLPlayer(\n",
    "            out_size=32, dropout=0.6, act_func='LeakyReLU', act_func_params=dict(negative_slope=0.2)\n",
    "        ),\n",
    "        MLPlayer(\n",
    "            out_size=32, dropout=0.6, act_func='LeakyReLU', act_func_params=dict(negative_slope=0.2)\n",
    "        ),\n",
    "    ])"
   ]
  },
  {
   "cell_type": "code",
   "execution_count": 245,
   "metadata": {},
   "outputs": [],
   "source": [
    "def build_mlp_layer(in_size: int, layer: MLPlayer) -> nn.Sequential:\n",
    "    \"\"\" Factory that returns nn.Sequential from input size and MLPlayer \"\"\"\n",
    "    act_params = layer.act_func_params if layer.act_func_params else {}\n",
    "\n",
    "    lst: list[nn.Module] = [nn.Linear(in_size, layer.out_size)]\n",
    "    #lst.append(\n",
    "    if layer.act_func:\n",
    "        lst.append(nn.LeakyReLU(**act_params)) # available_activations[layer.act_func](**act_params))\n",
    "    if layer.dropout:\n",
    "        lst.append(nn.Dropout(layer.dropout, inplace=True))\n",
    "    return nn.Sequential(*lst)"
   ]
  },
  {
   "cell_type": "code",
   "execution_count": 246,
   "metadata": {},
   "outputs": [],
   "source": [
    "@dataclass\n",
    "class ModelConfig:\n",
    "    \"\"\" Base class for model config \"\"\"\n",
    "    name: str  # see neurograph.models/\n",
    "    n_classes: int  # must match with loss\n",
    "\n",
    "    # required for correct init of models\n",
    "    # see `train.train.init_model`\n",
    "\n",
    "    data_type: str"
   ]
  },
  {
   "cell_type": "code",
   "execution_count": 247,
   "metadata": {},
   "outputs": [],
   "source": [
    "class BasicMLP(nn.Module):\n",
    "    \"\"\" Basic MLP class \"\"\"\n",
    "    def __init__(self, in_size: int, out_size: int, config: MLPConfig):\n",
    "        super().__init__()\n",
    "        self.in_size = in_size\n",
    "        self.out_size = out_size\n",
    "\n",
    "        self.net = nn.Sequential()\n",
    "        curr_size = self.in_size\n",
    "        for layer_conf in config.layers:\n",
    "            subnet = build_mlp_layer(curr_size, layer_conf)\n",
    "            self.net.append(subnet)\n",
    "            curr_size = layer_conf.out_size\n",
    "\n",
    "        # the last layer\n",
    "        self.net.append(build_mlp_layer(\n",
    "            curr_size,\n",
    "            MLPlayer(\n",
    "                out_size=self.out_size,\n",
    "                act_func=config.act_func,\n",
    "                act_func_params=config.act_func_params,\n",
    "            ),\n",
    "        ))\n",
    "\n",
    "    def forward(self, x):\n",
    "        return self.net(x)"
   ]
  },
  {
   "cell_type": "code",
   "execution_count": 248,
   "metadata": {},
   "outputs": [],
   "source": [
    "def build_gat_block(\n",
    "    input_dim: int,\n",
    "    hidden_dim: int,\n",
    "    proj_dim: Optional[int] = None,\n",
    "    mp_type: str = 'edge_node_concate',\n",
    "    num_heads: int = 1,\n",
    "    dropout: float = 0.0,\n",
    "    use_batchnorm: bool = True,\n",
    "    use_abs_weight: bool = True,\n",
    "):\n",
    "    proj_dim = hidden_dim if proj_dim is None else proj_dim\n",
    "    return pygSequential(\n",
    "        'x, edge_index, edge_attr',\n",
    "        [\n",
    "            (\n",
    "                GATConv(\n",
    "                    input_dim,\n",
    "                    hidden_dim,\n",
    "                    heads=num_heads,\n",
    "                    dropout=dropout,\n",
    "                    mp_type=mp_type,\n",
    "                    use_abs_weight=use_abs_weight,\n",
    "                ),\n",
    "#                 MPGATConv(\n",
    "#                     input_dim,\n",
    "#                     hidden_dim,\n",
    "#                     heads=num_heads,\n",
    "#                     dropout=dropout,\n",
    "#                     mp_type=mp_type,\n",
    "#                     use_abs_weight=use_abs_weight,\n",
    "#                 ),\n",
    "                'x, edge_index, edge_attr -> x'\n",
    "            ),\n",
    "            # project concatenated head embeds back into proj_dim (hidden_dim)\n",
    "            nn.Linear(hidden_dim * num_heads, proj_dim),\n",
    "            nn.LeakyReLU(negative_slope = 0.2),\n",
    "#             nn.BatchNorm1d(proj_dim), # if use_batchnorm else nn.Identity(),\n",
    "            nn.Dropout(p=dropout)\n",
    "        ]\n",
    "    )"
   ]
  },
  {
   "cell_type": "code",
   "execution_count": 249,
   "metadata": {},
   "outputs": [],
   "source": [
    "def concat_pool(x: torch.Tensor, input_dim: int, num_nodes: int) -> torch.Tensor:\n",
    "    # NB: x must be a batch of xs\n",
    "    return x.reshape((x.shape[0] // input_dim, input_dim*x.shape[-1]))"
   ]
  },
  {
   "cell_type": "code",
   "execution_count": 250,
   "metadata": {},
   "outputs": [],
   "source": [
    "class BrainGAT(nn.Module):\n",
    "    def __init__(\n",
    "        self,\n",
    "        # determined by dataset\n",
    "        input_dim: int,\n",
    "        num_nodes: int,\n",
    "        num_classes: int\n",
    "    ):\n",
    "        \"\"\"\n",
    "        Architecture:\n",
    "            - a list of GATConv blocks (n-1)\n",
    "            - the last layer GATConv block with diff final embedding size\n",
    "            - (prepool projection layer)\n",
    "            - pooling -> graph embeddgin\n",
    "            - fcn clf\n",
    "        \"\"\"\n",
    "        super().__init__()\n",
    "\n",
    "        self.convs = torch.nn.ModuleList()\n",
    "        self.input_dim = input_dim\n",
    "        self.num_nodes = num_nodes\n",
    "\n",
    "        num_classes = num_classes\n",
    "        hidden_dim = 32\n",
    "        \n",
    "        num_layers = 3\n",
    "        \n",
    "        use_batchnorm = True\n",
    "        use_abs_weight = True\n",
    "        mp_type = 'node_concate'\n",
    "        dropout = 0\n",
    "\n",
    "        num_heads = 2\n",
    "\n",
    "        # pack a bunch of convs into a ModuleList\n",
    "        gat_input_dim = input_dim\n",
    "        for _ in range(num_layers - 1):\n",
    "            conv = build_gat_block(\n",
    "                gat_input_dim,\n",
    "                hidden_dim,\n",
    "                proj_dim=None,\n",
    "                mp_type=mp_type,\n",
    "                num_heads=num_heads,\n",
    "                dropout=dropout,\n",
    "                use_batchnorm=use_batchnorm,\n",
    "                use_abs_weight=use_abs_weight,\n",
    "            )\n",
    "            # update current input_dim\n",
    "            gat_input_dim = hidden_dim\n",
    "            self.convs.append(conv)\n",
    "        \n",
    "        # gat block return embeddings of `inter_dim` size\n",
    "        conv = build_gat_block(\n",
    "            gat_input_dim,\n",
    "            hidden_dim,\n",
    "            proj_dim=64,\n",
    "            mp_type=mp_type,\n",
    "            num_heads=num_heads,\n",
    "            dropout=dropout,\n",
    "            use_batchnorm=False,  # batchnorm is applied in prepool layer\n",
    "            use_abs_weight=use_abs_weight,\n",
    "        )\n",
    "        # add extra projection and batchnorm\n",
    "        self.prepool = nn.Sequential(\n",
    "            nn.Linear(64, 8),\n",
    "            nn.LeakyReLU(negative_slope=0.2),\n",
    "            nn.BatchNorm1d(8) if use_batchnorm else nn.Identity(),\n",
    "        )\n",
    "\n",
    "        fcn_dim = 8 * num_nodes\n",
    "        \n",
    "        # add last conv layer\n",
    "        self.convs.append(conv)\n",
    "        \n",
    "        self.fcn = BasicMLP(in_size=fcn_dim, out_size=num_classes, config=MLPConfig())\n",
    "\n",
    "    def forward(self, data):\n",
    "        x, edge_index, edge_attr, batch = data.x, data.edge_index, data.edge_attr, data.batch\n",
    "        z = x\n",
    "        z = z.float()\n",
    "\n",
    "        # apply conv layers\n",
    "        for _, conv in enumerate(self.convs):\n",
    "            z = conv(z, edge_index, edge_attr)\n",
    "        \n",
    "        # prepool dim reduction\n",
    "        z = self.prepool(z)\n",
    "\n",
    "        z = nn.BatchNorm1d(num_features=z.shape[-1], eps=1e-05, momentum=0.1, affine=True, track_running_stats=True).to(device)(z)\n",
    "        \n",
    "        # pooling\n",
    "        z = concat_pool(z, self.input_dim, self.num_nodes)\n",
    "        # FCN clf on graph embedding\n",
    "        z = nn.BatchNorm1d(num_features=z.shape[-1], eps=1e-05, momentum=0.1, affine=True, track_running_stats=True).to(device)(z)\n",
    "        out = self.fcn(z)\n",
    "        out=nn.Softmax(dim=-1)(out)\n",
    "        return out"
   ]
  },
  {
   "cell_type": "markdown",
   "metadata": {},
   "source": [
    "## ABIDE"
   ]
  },
  {
   "cell_type": "code",
   "execution_count": 251,
   "metadata": {},
   "outputs": [],
   "source": [
    "bgbGAT = BrainGAT(200, 200, 2)\n",
    "bgbGAT = bgbGAT.to(device)\n",
    "bgbGAT = bgbGAT.float()\n",
    "optimizer = torch.optim.AdamW(bgbGAT.parameters(), lr=0.001)"
   ]
  },
  {
   "cell_type": "code",
   "execution_count": 252,
   "metadata": {},
   "outputs": [
    {
     "data": {
      "text/plain": [
       "BrainGAT(\n",
       "  (convs): ModuleList(\n",
       "    (0): Sequential(\n",
       "      (0): GATConv(200, 32, heads=2)\n",
       "      (1): Linear(in_features=64, out_features=32, bias=True)\n",
       "      (2): LeakyReLU(negative_slope=0.2)\n",
       "      (3): Dropout(p=0, inplace=False)\n",
       "    )\n",
       "    (1): Sequential(\n",
       "      (0): GATConv(32, 32, heads=2)\n",
       "      (1): Linear(in_features=64, out_features=32, bias=True)\n",
       "      (2): LeakyReLU(negative_slope=0.2)\n",
       "      (3): Dropout(p=0, inplace=False)\n",
       "    )\n",
       "    (2): Sequential(\n",
       "      (0): GATConv(32, 32, heads=2)\n",
       "      (1): Linear(in_features=64, out_features=64, bias=True)\n",
       "      (2): LeakyReLU(negative_slope=0.2)\n",
       "      (3): Dropout(p=0, inplace=False)\n",
       "    )\n",
       "  )\n",
       "  (prepool): Sequential(\n",
       "    (0): Linear(in_features=64, out_features=8, bias=True)\n",
       "    (1): LeakyReLU(negative_slope=0.2)\n",
       "    (2): BatchNorm1d(8, eps=1e-05, momentum=0.1, affine=True, track_running_stats=True)\n",
       "  )\n",
       "  (fcn): BasicMLP(\n",
       "    (net): Sequential(\n",
       "      (0): Sequential(\n",
       "        (0): Linear(in_features=1600, out_features=32, bias=True)\n",
       "        (1): LeakyReLU(negative_slope=0.2)\n",
       "        (2): Dropout(p=0.6, inplace=True)\n",
       "      )\n",
       "      (1): Sequential(\n",
       "        (0): Linear(in_features=32, out_features=32, bias=True)\n",
       "        (1): LeakyReLU(negative_slope=0.2)\n",
       "        (2): Dropout(p=0.6, inplace=True)\n",
       "      )\n",
       "      (2): Sequential(\n",
       "        (0): Linear(in_features=32, out_features=2, bias=True)\n",
       "      )\n",
       "    )\n",
       "  )\n",
       ")"
      ]
     },
     "execution_count": 252,
     "metadata": {},
     "output_type": "execute_result"
    }
   ],
   "source": [
    "bgbGAT"
   ]
  },
  {
   "cell_type": "code",
   "execution_count": 254,
   "metadata": {
    "scrolled": true
   },
   "outputs": [
    {
     "name": "stdout",
     "output_type": "stream",
     "text": [
      "(Train) | Epoch=000, loss=0.0783 train_acc=71.26\n",
      "(Train Epoch 0), loss=0.0890, test_acc=57.49\n",
      "\n",
      "(Train) | Epoch=001, loss=0.0798 train_acc=69.32\n",
      "(Train Epoch 1), loss=0.0910, test_acc=52.66\n",
      "\n",
      "(Train) | Epoch=002, loss=0.0754 train_acc=70.53\n",
      "(Train Epoch 2), loss=0.0908, test_acc=53.62\n",
      "\n",
      "(Train) | Epoch=003, loss=0.0741 train_acc=75.48\n",
      "(Train Epoch 3), loss=0.0881, test_acc=58.45\n",
      "\n",
      "(Train) | Epoch=004, loss=0.0702 train_acc=74.52\n",
      "(Train Epoch 4), loss=0.0882, test_acc=57.97\n",
      "\n",
      "(Train) | Epoch=005, loss=0.0685 train_acc=75.12\n",
      "(Train Epoch 5), loss=0.0882, test_acc=58.45\n",
      "\n",
      "(Train) | Epoch=006, loss=0.0661 train_acc=79.47\n",
      "(Train Epoch 6), loss=0.0869, test_acc=61.35\n",
      "\n",
      "(Train) | Epoch=007, loss=0.0662 train_acc=73.55\n",
      "(Train Epoch 7), loss=0.0884, test_acc=59.42\n",
      "\n",
      "(Train) | Epoch=008, loss=0.0656 train_acc=79.59\n",
      "(Train Epoch 8), loss=0.0876, test_acc=60.39\n",
      "\n",
      "(Train) | Epoch=009, loss=0.0623 train_acc=79.59\n",
      "(Train Epoch 9), loss=0.0881, test_acc=59.42\n",
      "\n",
      "(Train) | Epoch=010, loss=0.0622 train_acc=82.85\n",
      "(Train Epoch 10), loss=0.0859, test_acc=63.77\n",
      "\n",
      "(Train) | Epoch=011, loss=0.0623 train_acc=81.88\n",
      "(Train Epoch 11), loss=0.0865, test_acc=62.32\n",
      "\n",
      "(Train) | Epoch=012, loss=0.0640 train_acc=75.00\n",
      "(Train Epoch 12), loss=0.0898, test_acc=57.00\n",
      "\n",
      "(Train) | Epoch=013, loss=0.0612 train_acc=83.82\n",
      "(Train Epoch 13), loss=0.0847, test_acc=64.73\n",
      "\n",
      "(Train) | Epoch=014, loss=0.0599 train_acc=80.56\n",
      "(Train Epoch 14), loss=0.0862, test_acc=62.32\n",
      "\n",
      "(Train) | Epoch=015, loss=0.0625 train_acc=80.43\n",
      "(Train Epoch 15), loss=0.0862, test_acc=62.80\n",
      "\n",
      "(Train) | Epoch=016, loss=0.0593 train_acc=85.51\n",
      "(Train Epoch 16), loss=0.0856, test_acc=63.29\n",
      "\n",
      "(Train) | Epoch=017, loss=0.0617 train_acc=81.52\n",
      "(Train Epoch 17), loss=0.0853, test_acc=64.73\n",
      "\n",
      "(Train) | Epoch=018, loss=0.0572 train_acc=82.61\n",
      "(Train Epoch 18), loss=0.0866, test_acc=63.29\n",
      "\n",
      "(Train) | Epoch=019, loss=0.0597 train_acc=85.75\n",
      "(Train Epoch 19), loss=0.0859, test_acc=63.29\n",
      "\n",
      "(Train) | Epoch=020, loss=0.0605 train_acc=84.30\n",
      "(Train Epoch 20), loss=0.0855, test_acc=63.77\n",
      "\n",
      "(Train) | Epoch=021, loss=0.0575 train_acc=85.51\n",
      "(Train Epoch 21), loss=0.0861, test_acc=62.32\n",
      "\n",
      "(Train) | Epoch=022, loss=0.0590 train_acc=86.11\n",
      "(Train Epoch 22), loss=0.0866, test_acc=61.84\n",
      "\n",
      "(Train) | Epoch=023, loss=0.0579 train_acc=86.71\n",
      "(Train Epoch 23), loss=0.0859, test_acc=63.77\n",
      "\n",
      "(Train) | Epoch=024, loss=0.0576 train_acc=85.27\n",
      "(Train Epoch 24), loss=0.0853, test_acc=64.25\n",
      "\n",
      "(Train) | Epoch=025, loss=0.0616 train_acc=84.42\n",
      "(Train Epoch 25), loss=0.0855, test_acc=63.29\n",
      "\n",
      "(Train) | Epoch=026, loss=0.0569 train_acc=88.04\n",
      "(Train Epoch 26), loss=0.0861, test_acc=62.80\n",
      "\n",
      "(Train) | Epoch=027, loss=0.0560 train_acc=87.44\n",
      "(Train Epoch 27), loss=0.0870, test_acc=61.35\n",
      "\n",
      "(Train) | Epoch=028, loss=0.0560 train_acc=86.35\n",
      "(Train Epoch 28), loss=0.0873, test_acc=61.35\n",
      "\n",
      "(Train) | Epoch=029, loss=0.0555 train_acc=83.09\n",
      "(Train Epoch 29), loss=0.0870, test_acc=61.84\n",
      "\n",
      "(Train) | Epoch=030, loss=0.0569 train_acc=87.20\n",
      "(Train Epoch 30), loss=0.0853, test_acc=64.25\n",
      "\n",
      "(Train) | Epoch=031, loss=0.0558 train_acc=87.32\n",
      "(Train Epoch 31), loss=0.0869, test_acc=61.84\n",
      "\n",
      "(Train) | Epoch=032, loss=0.0558 train_acc=86.11\n",
      "(Train Epoch 32), loss=0.0853, test_acc=64.73\n",
      "\n",
      "(Train) | Epoch=033, loss=0.0563 train_acc=85.75\n",
      "(Train Epoch 33), loss=0.0849, test_acc=65.70\n",
      "\n",
      "(Train) | Epoch=034, loss=0.0568 train_acc=82.49\n",
      "(Train Epoch 34), loss=0.0852, test_acc=64.25\n",
      "\n",
      "(Train) | Epoch=035, loss=0.0561 train_acc=82.73\n",
      "(Train Epoch 35), loss=0.0849, test_acc=65.70\n",
      "\n",
      "(Train) | Epoch=036, loss=0.0561 train_acc=87.56\n",
      "(Train Epoch 36), loss=0.0854, test_acc=62.80\n",
      "\n",
      "(Train) | Epoch=037, loss=0.0569 train_acc=81.40\n",
      "(Train Epoch 37), loss=0.0837, test_acc=67.63\n",
      "\n",
      "(Train) | Epoch=038, loss=0.0560 train_acc=88.53\n",
      "(Train Epoch 38), loss=0.0836, test_acc=67.15\n",
      "\n",
      "(Train) | Epoch=039, loss=0.0538 train_acc=88.41\n",
      "(Train Epoch 39), loss=0.0858, test_acc=63.77\n",
      "\n",
      "(Train) | Epoch=040, loss=0.0551 train_acc=76.45\n",
      "(Train Epoch 40), loss=0.0853, test_acc=65.22\n",
      "\n",
      "(Train) | Epoch=041, loss=0.0575 train_acc=86.96\n",
      "(Train Epoch 41), loss=0.0824, test_acc=70.53\n",
      "\n",
      "(Train) | Epoch=042, loss=0.0562 train_acc=87.68\n",
      "(Train Epoch 42), loss=0.0843, test_acc=66.18\n",
      "\n",
      "(Train) | Epoch=043, loss=0.0595 train_acc=86.96\n",
      "(Train Epoch 43), loss=0.0838, test_acc=66.67\n",
      "\n",
      "(Train) | Epoch=044, loss=0.0553 train_acc=86.47\n",
      "(Train Epoch 44), loss=0.0856, test_acc=64.25\n",
      "\n",
      "(Train) | Epoch=045, loss=0.0549 train_acc=88.89\n",
      "(Train Epoch 45), loss=0.0845, test_acc=66.18\n",
      "\n",
      "(Train) | Epoch=046, loss=0.0539 train_acc=88.16\n",
      "(Train Epoch 46), loss=0.0842, test_acc=65.70\n",
      "\n",
      "(Train) | Epoch=047, loss=0.0532 train_acc=89.13\n",
      "(Train Epoch 47), loss=0.0845, test_acc=65.70\n",
      "\n",
      "(Train) | Epoch=048, loss=0.0543 train_acc=86.84\n",
      "(Train Epoch 48), loss=0.0840, test_acc=66.67\n",
      "\n",
      "(Train) | Epoch=049, loss=0.0590 train_acc=88.04\n",
      "(Train Epoch 49), loss=0.0846, test_acc=65.70\n",
      "\n",
      "(Train) | Epoch=050, loss=0.0551 train_acc=87.68\n",
      "(Train Epoch 50), loss=0.0840, test_acc=66.67\n",
      "\n",
      "(Train) | Epoch=051, loss=0.0552 train_acc=88.89\n",
      "(Train Epoch 51), loss=0.0836, test_acc=67.15\n",
      "\n",
      "(Train) | Epoch=052, loss=0.0529 train_acc=87.44\n",
      "(Train Epoch 52), loss=0.0855, test_acc=63.29\n",
      "\n",
      "(Train) | Epoch=053, loss=0.0564 train_acc=86.84\n",
      "(Train Epoch 53), loss=0.0842, test_acc=66.18\n",
      "\n",
      "(Train) | Epoch=054, loss=0.0553 train_acc=87.32\n",
      "(Train Epoch 54), loss=0.0840, test_acc=67.15\n",
      "\n",
      "(Train) | Epoch=055, loss=0.0542 train_acc=86.47\n",
      "(Train Epoch 55), loss=0.0834, test_acc=67.63\n",
      "\n",
      "(Train) | Epoch=056, loss=0.0539 train_acc=89.61\n",
      "(Train Epoch 56), loss=0.0844, test_acc=65.70\n",
      "\n",
      "(Train) | Epoch=057, loss=0.0531 train_acc=86.84\n",
      "(Train Epoch 57), loss=0.0831, test_acc=69.08\n",
      "\n",
      "(Train) | Epoch=058, loss=0.0552 train_acc=87.80\n",
      "(Train Epoch 58), loss=0.0841, test_acc=66.67\n",
      "\n",
      "(Train) | Epoch=059, loss=0.0548 train_acc=86.35\n",
      "(Train Epoch 59), loss=0.0846, test_acc=65.22\n",
      "\n"
     ]
    },
    {
     "data": {
      "text/plain": [
       "(0.7136150234741783, 0.7053140096618358, 0.7171679432094152)"
      ]
     },
     "execution_count": 254,
     "metadata": {},
     "output_type": "execute_result"
    }
   ],
   "source": [
    "train_and_evaluate(\n",
    "    bgbGAT,\n",
    "    train_loader_abide_pyg,\n",
    "    test_loader_abide_pyg,\n",
    "    optimizer,\n",
    "    scheduler=None,\n",
    "    device=device,\n",
    "    n_epochs=60,\n",
    "    verbose=True\n",
    ")"
   ]
  },
  {
   "cell_type": "code",
   "execution_count": 255,
   "metadata": {},
   "outputs": [],
   "source": [
    "res_bgbgat_abide = []\n",
    "for _ in range(10):\n",
    "    bgbGAT = BrainGAT(200, 200, 2)\n",
    "    bgbGAT = bgbGAT.to(device)\n",
    "    bgbGAT = bgbGAT.float()\n",
    "    optimizer = torch.optim.AdamW(bgbGAT.parameters(), lr=0.001)\n",
    "    res = train_and_evaluate(\n",
    "        bgbGAT,\n",
    "        train_loader_abide_pyg,\n",
    "        test_loader_abide_pyg,\n",
    "        optimizer,\n",
    "        scheduler=None,\n",
    "        device=device,\n",
    "        n_epochs=60,\n",
    "        verbose=False\n",
    "    )\n",
    "    res_bgbgat_abide.append(res)"
   ]
  },
  {
   "cell_type": "code",
   "execution_count": 258,
   "metadata": {},
   "outputs": [
    {
     "data": {
      "text/plain": [
       "[(0.6797385620915032, 0.6280193236714976, 0.6595367083878199),\n",
       " (0.63, 0.642512077294686, 0.6639267700354942),\n",
       " (0.6759259259259259, 0.6618357487922706, 0.68456940033626),\n",
       " (0.6540284360189574, 0.6618357487922706, 0.6829815056977396),\n",
       " (0.6728971962616822, 0.6666666666666666, 0.7063796002241735),\n",
       " (0.6688524590163935, 0.6618357487922706, 0.7045114888847375),\n",
       " (0.6729857819905213, 0.6666666666666666, 0.702036241359985),\n",
       " (0.6602870813397128, 0.6570048309178744, 0.6703250513730619),\n",
       " (0.6773162939297125, 0.6473429951690821, 0.6894264898187932),\n",
       " (0.6773162939297125, 0.6280193236714976, 0.6669157481785914)]"
      ]
     },
     "execution_count": 258,
     "metadata": {},
     "output_type": "execute_result"
    }
   ],
   "source": [
    "res_bgbgat_abide"
   ]
  },
  {
   "cell_type": "markdown",
   "metadata": {},
   "source": [
    "## COBRE"
   ]
  },
  {
   "cell_type": "code",
   "execution_count": 259,
   "metadata": {},
   "outputs": [],
   "source": [
    "bgbGAT = BrainGAT(116, 116, 2)\n",
    "bgbGAT = bgbGAT.to(device)\n",
    "bgbGAT = bgbGAT.float()\n",
    "optimizer = torch.optim.AdamW(bgbGAT.parameters(), lr=0.001)"
   ]
  },
  {
   "cell_type": "code",
   "execution_count": 260,
   "metadata": {},
   "outputs": [
    {
     "name": "stdout",
     "output_type": "stream",
     "text": [
      "(Train) | Epoch=000, loss=0.0888 train_acc=70.30\n",
      "(Train Epoch 0), loss=0.1141, test_acc=57.69\n",
      "\n",
      "(Train) | Epoch=001, loss=0.0775 train_acc=78.22\n",
      "(Train Epoch 1), loss=0.1133, test_acc=57.69\n",
      "\n",
      "(Train) | Epoch=002, loss=0.0713 train_acc=77.23\n",
      "(Train Epoch 2), loss=0.1174, test_acc=57.69\n",
      "\n",
      "(Train) | Epoch=003, loss=0.0677 train_acc=85.15\n",
      "(Train Epoch 3), loss=0.1206, test_acc=53.85\n",
      "\n",
      "(Train) | Epoch=004, loss=0.0582 train_acc=91.09\n",
      "(Train Epoch 4), loss=0.1200, test_acc=53.85\n",
      "\n",
      "(Train) | Epoch=005, loss=0.0537 train_acc=92.08\n",
      "(Train Epoch 5), loss=0.1192, test_acc=57.69\n",
      "\n",
      "(Train) | Epoch=006, loss=0.0514 train_acc=92.08\n",
      "(Train Epoch 6), loss=0.1195, test_acc=53.85\n",
      "\n",
      "(Train) | Epoch=007, loss=0.0524 train_acc=93.07\n",
      "(Train Epoch 7), loss=0.1187, test_acc=53.85\n",
      "\n",
      "(Train) | Epoch=008, loss=0.0494 train_acc=93.07\n",
      "(Train Epoch 8), loss=0.1165, test_acc=57.69\n",
      "\n",
      "(Train) | Epoch=009, loss=0.0493 train_acc=93.07\n",
      "(Train Epoch 9), loss=0.1176, test_acc=57.69\n",
      "\n",
      "(Train) | Epoch=010, loss=0.0509 train_acc=93.07\n",
      "(Train Epoch 10), loss=0.1157, test_acc=61.54\n",
      "\n",
      "(Train) | Epoch=011, loss=0.0562 train_acc=91.09\n",
      "(Train Epoch 11), loss=0.1164, test_acc=57.69\n",
      "\n",
      "(Train) | Epoch=012, loss=0.0574 train_acc=88.12\n",
      "(Train Epoch 12), loss=0.1199, test_acc=53.85\n",
      "\n",
      "(Train) | Epoch=013, loss=0.0530 train_acc=92.08\n",
      "(Train Epoch 13), loss=0.1179, test_acc=57.69\n",
      "\n",
      "(Train) | Epoch=014, loss=0.0549 train_acc=93.07\n",
      "(Train Epoch 14), loss=0.1173, test_acc=57.69\n",
      "\n",
      "(Train) | Epoch=015, loss=0.0502 train_acc=93.07\n",
      "(Train Epoch 15), loss=0.1162, test_acc=61.54\n",
      "\n",
      "(Train) | Epoch=016, loss=0.0533 train_acc=94.06\n",
      "(Train Epoch 16), loss=0.1172, test_acc=57.69\n",
      "\n",
      "(Train) | Epoch=017, loss=0.0480 train_acc=95.05\n",
      "(Train Epoch 17), loss=0.1159, test_acc=61.54\n",
      "\n",
      "(Train) | Epoch=018, loss=0.0475 train_acc=94.06\n",
      "(Train Epoch 18), loss=0.1148, test_acc=65.38\n",
      "\n",
      "(Train) | Epoch=019, loss=0.0504 train_acc=95.05\n",
      "(Train Epoch 19), loss=0.1174, test_acc=57.69\n",
      "\n",
      "(Train) | Epoch=020, loss=0.0502 train_acc=94.06\n",
      "(Train Epoch 20), loss=0.1162, test_acc=61.54\n",
      "\n",
      "(Train) | Epoch=021, loss=0.0468 train_acc=95.05\n",
      "(Train Epoch 21), loss=0.1143, test_acc=65.38\n",
      "\n",
      "(Train) | Epoch=022, loss=0.0467 train_acc=95.05\n",
      "(Train Epoch 22), loss=0.1139, test_acc=65.38\n",
      "\n",
      "(Train) | Epoch=023, loss=0.0466 train_acc=95.05\n",
      "(Train Epoch 23), loss=0.1138, test_acc=65.38\n",
      "\n",
      "(Train) | Epoch=024, loss=0.0466 train_acc=95.05\n",
      "(Train Epoch 24), loss=0.1139, test_acc=65.38\n",
      "\n",
      "(Train) | Epoch=025, loss=0.0466 train_acc=95.05\n",
      "(Train Epoch 25), loss=0.1139, test_acc=65.38\n",
      "\n",
      "(Train) | Epoch=026, loss=0.0465 train_acc=95.05\n",
      "(Train Epoch 26), loss=0.1140, test_acc=65.38\n",
      "\n",
      "(Train) | Epoch=027, loss=0.0465 train_acc=95.05\n",
      "(Train Epoch 27), loss=0.1141, test_acc=65.38\n",
      "\n",
      "(Train) | Epoch=028, loss=0.0465 train_acc=95.05\n",
      "(Train Epoch 28), loss=0.1141, test_acc=65.38\n",
      "\n",
      "(Train) | Epoch=029, loss=0.0465 train_acc=95.05\n",
      "(Train Epoch 29), loss=0.1143, test_acc=65.38\n",
      "\n",
      "(Train) | Epoch=030, loss=0.0465 train_acc=95.05\n",
      "(Train Epoch 30), loss=0.1144, test_acc=65.38\n",
      "\n",
      "(Train) | Epoch=031, loss=0.0465 train_acc=95.05\n",
      "(Train Epoch 31), loss=0.1145, test_acc=65.38\n",
      "\n",
      "(Train) | Epoch=032, loss=0.0465 train_acc=95.05\n",
      "(Train Epoch 32), loss=0.1147, test_acc=65.38\n",
      "\n",
      "(Train) | Epoch=033, loss=0.0465 train_acc=95.05\n",
      "(Train Epoch 33), loss=0.1148, test_acc=61.54\n",
      "\n",
      "(Train) | Epoch=034, loss=0.0465 train_acc=95.05\n",
      "(Train Epoch 34), loss=0.1150, test_acc=61.54\n",
      "\n",
      "(Train) | Epoch=035, loss=0.0465 train_acc=95.05\n",
      "(Train Epoch 35), loss=0.1151, test_acc=61.54\n",
      "\n",
      "(Train) | Epoch=036, loss=0.0465 train_acc=95.05\n",
      "(Train Epoch 36), loss=0.1152, test_acc=61.54\n",
      "\n",
      "(Train) | Epoch=037, loss=0.0465 train_acc=95.05\n",
      "(Train Epoch 37), loss=0.1153, test_acc=61.54\n",
      "\n",
      "(Train) | Epoch=038, loss=0.0465 train_acc=95.05\n",
      "(Train Epoch 38), loss=0.1154, test_acc=61.54\n",
      "\n",
      "(Train) | Epoch=039, loss=0.0465 train_acc=95.05\n",
      "(Train Epoch 39), loss=0.1155, test_acc=61.54\n",
      "\n",
      "(Train) | Epoch=040, loss=0.0465 train_acc=95.05\n",
      "(Train Epoch 40), loss=0.1156, test_acc=61.54\n",
      "\n",
      "(Train) | Epoch=041, loss=0.0465 train_acc=95.05\n",
      "(Train Epoch 41), loss=0.1156, test_acc=61.54\n",
      "\n",
      "(Train) | Epoch=042, loss=0.0465 train_acc=95.05\n",
      "(Train Epoch 42), loss=0.1157, test_acc=61.54\n",
      "\n",
      "(Train) | Epoch=043, loss=0.0465 train_acc=95.05\n",
      "(Train Epoch 43), loss=0.1157, test_acc=61.54\n",
      "\n",
      "(Train) | Epoch=044, loss=0.0465 train_acc=95.05\n",
      "(Train Epoch 44), loss=0.1158, test_acc=61.54\n",
      "\n",
      "(Train) | Epoch=045, loss=0.0465 train_acc=95.05\n",
      "(Train Epoch 45), loss=0.1158, test_acc=61.54\n",
      "\n",
      "(Train) | Epoch=046, loss=0.0465 train_acc=95.05\n",
      "(Train Epoch 46), loss=0.1158, test_acc=61.54\n",
      "\n",
      "(Train) | Epoch=047, loss=0.0465 train_acc=95.05\n",
      "(Train Epoch 47), loss=0.1159, test_acc=61.54\n",
      "\n",
      "(Train) | Epoch=048, loss=0.0465 train_acc=95.05\n",
      "(Train Epoch 48), loss=0.1159, test_acc=61.54\n",
      "\n",
      "(Train) | Epoch=049, loss=0.0465 train_acc=95.05\n",
      "(Train Epoch 49), loss=0.1159, test_acc=61.54\n",
      "\n",
      "(Train) | Epoch=050, loss=0.0465 train_acc=95.05\n",
      "(Train Epoch 50), loss=0.1159, test_acc=61.54\n",
      "\n",
      "(Train) | Epoch=051, loss=0.0465 train_acc=95.05\n",
      "(Train Epoch 51), loss=0.1159, test_acc=61.54\n",
      "\n",
      "(Train) | Epoch=052, loss=0.0465 train_acc=95.05\n",
      "(Train Epoch 52), loss=0.1160, test_acc=61.54\n",
      "\n",
      "(Train) | Epoch=053, loss=0.0465 train_acc=95.05\n",
      "(Train Epoch 53), loss=0.1160, test_acc=61.54\n",
      "\n",
      "(Train) | Epoch=054, loss=0.0465 train_acc=95.05\n",
      "(Train Epoch 54), loss=0.1160, test_acc=61.54\n",
      "\n",
      "(Train) | Epoch=055, loss=0.0465 train_acc=95.05\n",
      "(Train Epoch 55), loss=0.1160, test_acc=61.54\n",
      "\n",
      "(Train) | Epoch=056, loss=0.0465 train_acc=95.05\n",
      "(Train Epoch 56), loss=0.1160, test_acc=61.54\n",
      "\n",
      "(Train) | Epoch=057, loss=0.0465 train_acc=95.05\n",
      "(Train Epoch 57), loss=0.1160, test_acc=61.54\n",
      "\n",
      "(Train) | Epoch=058, loss=0.0465 train_acc=95.05\n",
      "(Train Epoch 58), loss=0.1160, test_acc=61.54\n",
      "\n",
      "(Train) | Epoch=059, loss=0.0465 train_acc=95.05\n",
      "(Train Epoch 59), loss=0.1160, test_acc=61.54\n",
      "\n"
     ]
    },
    {
     "data": {
      "text/plain": [
       "(0.689655172413793, 0.6538461538461539, 0.7151515151515152)"
      ]
     },
     "execution_count": 260,
     "metadata": {},
     "output_type": "execute_result"
    }
   ],
   "source": [
    "train_and_evaluate(\n",
    "    bgbGAT,\n",
    "    train_loader_cobre_pyg,\n",
    "    test_loader_cobre_pyg,\n",
    "    optimizer,\n",
    "    scheduler=None,\n",
    "    device=device,\n",
    "    n_epochs=60\n",
    ")"
   ]
  },
  {
   "cell_type": "code",
   "execution_count": 261,
   "metadata": {},
   "outputs": [],
   "source": [
    "res_bgbgat_cobre = []\n",
    "for _ in range(10):\n",
    "    bgbGAT = BrainGAT(116, 116, 2)\n",
    "    bgbGAT = bgbGAT.to(device)\n",
    "    bgbGAT = bgbGAT.float()\n",
    "    optimizer = torch.optim.AdamW(bgbGAT.parameters(), lr=0.001)\n",
    "    res = train_and_evaluate(\n",
    "        bgbGAT,\n",
    "        train_loader_cobre_pyg,\n",
    "        test_loader_cobre_pyg,\n",
    "        optimizer,\n",
    "        scheduler=None,\n",
    "        device=device,\n",
    "        n_epochs=60,\n",
    "        verbose=False\n",
    "    )\n",
    "    res_bgbgat_cobre.append(res)"
   ]
  },
  {
   "cell_type": "code",
   "execution_count": 262,
   "metadata": {},
   "outputs": [
    {
     "data": {
      "text/plain": [
       "[(0.689655172413793, 0.6538461538461539, 0.7090909090909091),\n",
       " (0.689655172413793, 0.6538461538461539, 0.696969696969697),\n",
       " (0.7878787878787877, 0.7307692307692307, 0.7909090909090909),\n",
       " (0.7500000000000001, 0.6923076923076923, 0.7303030303030303),\n",
       " (0.6206896551724138, 0.6153846153846154, 0.6303030303030304),\n",
       " (0.689655172413793, 0.6538461538461539, 0.7333333333333334),\n",
       " (0.689655172413793, 0.6538461538461539, 0.6515151515151515),\n",
       " (0.7142857142857142, 0.6923076923076923, 0.7303030303030303),\n",
       " (0.6666666666666666, 0.6153846153846154, 0.7424242424242424),\n",
       " (0.7142857142857142, 0.6923076923076923, 0.7454545454545455)]"
      ]
     },
     "execution_count": 262,
     "metadata": {},
     "output_type": "execute_result"
    }
   ],
   "source": [
    "res_bgbgat_cobre"
   ]
  },
  {
   "cell_type": "markdown",
   "metadata": {},
   "source": [
    "# Compare results of bgbGAT on different datasets"
   ]
  },
  {
   "cell_type": "code",
   "execution_count": 263,
   "metadata": {},
   "outputs": [],
   "source": [
    "res_bgbgat_cobre = np.array(res_bgbgat_cobre)\n",
    "res_bgbgat_abide = np.array(res_bgbgat_abide)"
   ]
  },
  {
   "cell_type": "code",
   "execution_count": 269,
   "metadata": {},
   "outputs": [],
   "source": [
    "df = {'dataset':[], 'metric':[], 'value':[]}\n",
    "\n",
    "for i, metric_name in enumerate(['F1 Score', 'Accuracy', 'ROC-AUC']):\n",
    "    df['dataset'] = df['dataset']+['ABIDE']*10+['COBRE']*10\n",
    "    df['metric'] = df['metric']+[metric_name]*20\n",
    "    df['value'] = df['value']+list(res_bgbgat_abide[:, i])+list(res_bgbgat_cobre[:, i])\n",
    "    \n",
    "df = pd.DataFrame(df)"
   ]
  },
  {
   "cell_type": "code",
   "execution_count": 303,
   "metadata": {},
   "outputs": [
    {
     "data": {
      "image/png": "[encoded data removed]",
      "text/plain": [
       "<Figure size 2000x500 with 3 Axes>"
      ]
     },
     "metadata": {
      "needs_background": "light"
     },
     "output_type": "display_data"
    }
   ],
   "source": [
    "fig, axes = plt.subplots(nrows=1, ncols=3, figsize=(20,5), dpi=100, sharey=True)\n",
    "for i, metric_name in enumerate(['F1 Score', 'Accuracy', 'ROC-AUC']):\n",
    "    sns.swarmplot(data=df[df.metric==metric_name], x='dataset', y='value', ax=axes[i])\n",
    "    sns.boxplot(data=df[df.metric==metric_name], x='dataset', y='value', showfliers=False, palette='pastel', ax=axes[i])\n",
    "    axes[i].set_ylabel('')\n",
    "    axes[i].set_xlabel('')\n",
    "    axes[i].set_title(metric_name)\n",
    "plt.suptitle('bgbGAT, best metrics on test set\\n60 epochs, 10 reinitializations', fontsize=16, fontweight='bold', y=1.05)\n",
    "plt.show()"
   ]
  },
  {
   "cell_type": "code",
   "execution_count": 294,
   "metadata": {},
   "outputs": [],
   "source": [
    "std = df.groupby(['dataset', 'metric'], as_index=False).std().value\n",
    "mean = df.groupby(['dataset', 'metric'], as_index=False).mean().value\n",
    "max_ = df.groupby(['dataset', 'metric'], as_index=False).max().value"
   ]
  },
  {
   "cell_type": "code",
   "execution_count": 300,
   "metadata": {},
   "outputs": [],
   "source": [
    "res = df.groupby(['dataset', 'metric'], as_index=False).mean().drop('value', axis=1)\n",
    "res['mean'] = mean\n",
    "res['std'] = std\n",
    "res['max'] = max_"
   ]
  },
  {
   "cell_type": "code",
   "execution_count": 301,
   "metadata": {},
   "outputs": [
    {
     "data": {
      "text/html": [
       "<div>\n",
       "<style scoped>\n",
       "    .dataframe tbody tr th:only-of-type {\n",
       "        vertical-align: middle;\n",
       "    }\n",
       "\n",
       "    .dataframe tbody tr th {\n",
       "        vertical-align: top;\n",
       "    }\n",
       "\n",
       "    .dataframe thead th {\n",
       "        text-align: right;\n",
       "    }\n",
       "</style>\n",
       "<table border=\"1\" class=\"dataframe\">\n",
       "  <thead>\n",
       "    <tr style=\"text-align: right;\">\n",
       "      <th></th>\n",
       "      <th>dataset</th>\n",
       "      <th>metric</th>\n",
       "      <th>mean</th>\n",
       "      <th>std</th>\n",
       "      <th>max</th>\n",
       "    </tr>\n",
       "  </thead>\n",
       "  <tbody>\n",
       "    <tr>\n",
       "      <th>0</th>\n",
       "      <td>ABIDE</td>\n",
       "      <td>Accuracy</td>\n",
       "      <td>0.652174</td>\n",
       "      <td>0.014933</td>\n",
       "      <td>0.666667</td>\n",
       "    </tr>\n",
       "    <tr>\n",
       "      <th>1</th>\n",
       "      <td>ABIDE</td>\n",
       "      <td>F1 Score</td>\n",
       "      <td>0.666935</td>\n",
       "      <td>0.015316</td>\n",
       "      <td>0.679739</td>\n",
       "    </tr>\n",
       "    <tr>\n",
       "      <th>2</th>\n",
       "      <td>ABIDE</td>\n",
       "      <td>ROC-AUC</td>\n",
       "      <td>0.683061</td>\n",
       "      <td>0.017477</td>\n",
       "      <td>0.706380</td>\n",
       "    </tr>\n",
       "    <tr>\n",
       "      <th>3</th>\n",
       "      <td>COBRE</td>\n",
       "      <td>Accuracy</td>\n",
       "      <td>0.665385</td>\n",
       "      <td>0.036488</td>\n",
       "      <td>0.730769</td>\n",
       "    </tr>\n",
       "    <tr>\n",
       "      <th>4</th>\n",
       "      <td>COBRE</td>\n",
       "      <td>F1 Score</td>\n",
       "      <td>0.701243</td>\n",
       "      <td>0.045270</td>\n",
       "      <td>0.787879</td>\n",
       "    </tr>\n",
       "    <tr>\n",
       "      <th>5</th>\n",
       "      <td>COBRE</td>\n",
       "      <td>ROC-AUC</td>\n",
       "      <td>0.716061</td>\n",
       "      <td>0.046903</td>\n",
       "      <td>0.790909</td>\n",
       "    </tr>\n",
       "  </tbody>\n",
       "</table>\n",
       "</div>"
      ],
      "text/plain": [
       "  dataset    metric      mean       std       max\n",
       "0   ABIDE  Accuracy  0.652174  0.014933  0.666667\n",
       "1   ABIDE  F1 Score  0.666935  0.015316  0.679739\n",
       "2   ABIDE   ROC-AUC  0.683061  0.017477  0.706380\n",
       "3   COBRE  Accuracy  0.665385  0.036488  0.730769\n",
       "4   COBRE  F1 Score  0.701243  0.045270  0.787879\n",
       "5   COBRE   ROC-AUC  0.716061  0.046903  0.790909"
      ]
     },
     "execution_count": 301,
     "metadata": {},
     "output_type": "execute_result"
    }
   ],
   "source": [
    "res"
   ]
  },
  {
   "cell_type": "markdown",
   "metadata": {},
   "source": [
    "# MPL\n",
    "Let's compare sophisticated Graph NN and simple MLP"
   ]
  },
  {
   "cell_type": "code",
   "execution_count": 420,
   "metadata": {},
   "outputs": [],
   "source": [
    "def epoch_train(loader, clf, criterion, opt):\n",
    "\n",
    "    clf.train(True)\n",
    "\n",
    "    running_loss = 0\n",
    "    correct = 0\n",
    "\n",
    "    for i, data in enumerate(loader):\n",
    "        inputs, labels = data\n",
    "        inputs, labels = inputs.float(), labels.float()\n",
    "        inputs, labels = inputs.to(device), labels.to(device)\n",
    "        opt.zero_grad()\n",
    "        outputs = clf(inputs)\n",
    "        loss = criterion(outputs, labels)\n",
    "        loss.backward()\n",
    "        opt.step()\n",
    "        running_loss += loss.item()\n",
    "        correct += (outputs.argmax(-1) == labels.argmax(-1)).sum() / len(labels)\n",
    "    \n",
    "    last_loss = running_loss / len(loader)\n",
    "    accuracy = correct / len(loader)\n",
    "    return last_loss, accuracy\n",
    "\n",
    "def epoch_test(loader, clf, criterion):\n",
    "\n",
    "    clf.eval()\n",
    "\n",
    "    running_loss = 0\n",
    "    y_pred = []\n",
    "    y_true = []\n",
    "\n",
    "    for i, data in enumerate(loader):\n",
    "        inputs, labels = data\n",
    "        inputs, labels = inputs.float(), labels.float()\n",
    "        inputs, labels = inputs.to(device), labels.to(device)\n",
    "        outputs = clf(inputs)\n",
    "        loss = criterion(outputs, labels)\n",
    "        running_loss += loss.item()\n",
    "        y_pred.append(outputs.detach().cpu().numpy())\n",
    "        y_true.append(labels.detach().cpu().numpy())\n",
    "        \n",
    "    \n",
    "    last_loss = running_loss / len(loader)\n",
    "    y_pred = np.concatenate(y_pred, axis=0)\n",
    "    y_true = np.concatenate(y_true, axis=0)\n",
    "    f1, acc, roc_auc = f1_score(y_true.argmax(-1), y_pred.argmax(-1)), accuracy_score(y_true.argmax(-1), y_pred.argmax(-1)), roc_auc_score(y_true.argmax(-1), y_pred[:, 1])\n",
    "  \n",
    "    return last_loss, f1, acc, roc_auc\n",
    "\n",
    "\n",
    "def train(train_loader, test_loader, clf, criterion, opt, n_epochs=50, verbose=True):\n",
    "    \n",
    "    f1s = []\n",
    "    accs = []\n",
    "    roc_aucs = []\n",
    "    \n",
    "    for epoch in range(n_epochs):\n",
    "        train_loss, train_acc = epoch_train(train_loader, clf, criterion, opt)\n",
    "        test_loss, test_f1, test_acc, test_roc_auc = epoch_test(test_loader, clf, criterion)\n",
    "        \n",
    "        f1s.append(test_f1)\n",
    "        accs.append(test_acc)\n",
    "        roc_aucs.append(test_roc_auc)\n",
    "        \n",
    "        if verbose:\n",
    "            print(f'[Epoch {epoch + 1}] train loss: {train_loss:.3f}; train acc: {train_acc:.2f}; ' + \n",
    "                  f'test loss: {test_loss:.3f}; test acc: {test_acc:.2f}')\n",
    "            \n",
    "    f1s = np.array(f1s)\n",
    "    accs = np.array(accs)\n",
    "    roc_aucs = np.array(roc_aucs)\n",
    "    \n",
    "    return f1s.max(), accs.max(), roc_aucs.max()"
   ]
  },
  {
   "cell_type": "code",
   "execution_count": 421,
   "metadata": {},
   "outputs": [
    {
     "name": "stdout",
     "output_type": "stream",
     "text": [
      "Number of weights: 41488898\n"
     ]
    }
   ],
   "source": [
    "class MLP(nn.Module):\n",
    "    def __init__(self, n=200, num_classes=2):\n",
    "        super(MLP, self).__init__()\n",
    "        self.n = n\n",
    "        self.layers = nn.Sequential(\n",
    "\n",
    "            nn.Flatten(),\n",
    "            nn.Linear(n*n, 1024),\n",
    "            nn.BatchNorm1d(1024),\n",
    "            nn.ReLU(),\n",
    "            nn.Dropout(0.1),\n",
    "            nn.Linear(1024, 512),\n",
    "            nn.ReLU(),\n",
    "            nn.Dropout(0.1),\n",
    "            nn.Linear(512, num_classes)\n",
    "\n",
    "        )\n",
    "        \n",
    "    def forward(self, x):\n",
    "        return F.softmax(self.layers(x), dim=-1)\n",
    "    \n",
    "clf_mlp = MLP(num_classes=2).cuda()\n",
    "print('Number of weights:', np.sum([np.prod(p.shape) for p in clf_mlp.parameters()]))\n",
    "\n",
    "X = next(iter(train_loader_abide))[0].cuda()\n",
    "with torch.no_grad():\n",
    "    clf_X = clf_mlp(X)\n",
    "    assert len(clf_X) == len(X)"
   ]
  },
  {
   "cell_type": "code",
   "execution_count": 462,
   "metadata": {},
   "outputs": [
    {
     "data": {
      "text/plain": [
       "MLP(\n",
       "  (layers): Sequential(\n",
       "    (0): Flatten(start_dim=1, end_dim=-1)\n",
       "    (1): Linear(in_features=13456, out_features=1024, bias=True)\n",
       "    (2): BatchNorm1d(1024, eps=1e-05, momentum=0.1, affine=True, track_running_stats=True)\n",
       "    (3): ReLU()\n",
       "    (4): Dropout(p=0.1, inplace=False)\n",
       "    (5): Linear(in_features=1024, out_features=512, bias=True)\n",
       "    (6): ReLU()\n",
       "    (7): Dropout(p=0.1, inplace=False)\n",
       "    (8): Linear(in_features=512, out_features=2, bias=True)\n",
       "  )\n",
       ")"
      ]
     },
     "execution_count": 462,
     "metadata": {},
     "output_type": "execute_result"
    }
   ],
   "source": [
    "clf_mlp"
   ]
  },
  {
   "cell_type": "code",
   "execution_count": 422,
   "metadata": {},
   "outputs": [],
   "source": [
    "opt = torch.optim.AdamW(clf_mlp.parameters(), lr=0.001)\n",
    "criterion = torch.nn.CrossEntropyLoss()"
   ]
  },
  {
   "cell_type": "code",
   "execution_count": 423,
   "metadata": {},
   "outputs": [
    {
     "name": "stdout",
     "output_type": "stream",
     "text": [
      "[Epoch 1] train loss: 0.701; train acc: 0.57; test loss: 0.695; test acc: 0.58\n",
      "[Epoch 2] train loss: 0.591; train acc: 0.72; test loss: 0.672; test acc: 0.63\n",
      "[Epoch 3] train loss: 0.551; train acc: 0.75; test loss: 0.705; test acc: 0.60\n",
      "[Epoch 4] train loss: 0.553; train acc: 0.76; test loss: 0.661; test acc: 0.64\n"
     ]
    },
    {
     "ename": "KeyboardInterrupt",
     "evalue": "",
     "output_type": "error",
     "traceback": [
      "\u001b[1;31m---------------------------------------------------------------------------\u001b[0m",
      "\u001b[1;31mKeyboardInterrupt\u001b[0m                         Traceback (most recent call last)",
      "\u001b[1;32m~\\AppData\\Local\\Temp/ipykernel_11548/707242643.py\u001b[0m in \u001b[0;36m<module>\u001b[1;34m\u001b[0m\n\u001b[1;32m----> 1\u001b[1;33m \u001b[0mtrain\u001b[0m\u001b[1;33m(\u001b[0m\u001b[0mtrain_loader_abide\u001b[0m\u001b[1;33m,\u001b[0m \u001b[0mtest_loader_abide\u001b[0m\u001b[1;33m,\u001b[0m \u001b[0mclf_mlp\u001b[0m\u001b[1;33m,\u001b[0m \u001b[0mcriterion\u001b[0m\u001b[1;33m,\u001b[0m \u001b[0mopt\u001b[0m\u001b[1;33m,\u001b[0m \u001b[0mn_epochs\u001b[0m\u001b[1;33m=\u001b[0m\u001b[1;36m5\u001b[0m\u001b[1;33m)\u001b[0m\u001b[1;33m\u001b[0m\u001b[1;33m\u001b[0m\u001b[0m\n\u001b[0m",
      "\u001b[1;32m~\\AppData\\Local\\Temp/ipykernel_11548/1262061526.py\u001b[0m in \u001b[0;36mtrain\u001b[1;34m(train_loader, test_loader, clf, criterion, opt, n_epochs, verbose)\u001b[0m\n\u001b[0;32m     62\u001b[0m \u001b[1;33m\u001b[0m\u001b[0m\n\u001b[0;32m     63\u001b[0m     \u001b[1;32mfor\u001b[0m \u001b[0mepoch\u001b[0m \u001b[1;32min\u001b[0m \u001b[0mrange\u001b[0m\u001b[1;33m(\u001b[0m\u001b[0mn_epochs\u001b[0m\u001b[1;33m)\u001b[0m\u001b[1;33m:\u001b[0m\u001b[1;33m\u001b[0m\u001b[1;33m\u001b[0m\u001b[0m\n\u001b[1;32m---> 64\u001b[1;33m         \u001b[0mtrain_loss\u001b[0m\u001b[1;33m,\u001b[0m \u001b[0mtrain_acc\u001b[0m \u001b[1;33m=\u001b[0m \u001b[0mepoch_train\u001b[0m\u001b[1;33m(\u001b[0m\u001b[0mtrain_loader\u001b[0m\u001b[1;33m,\u001b[0m \u001b[0mclf\u001b[0m\u001b[1;33m,\u001b[0m \u001b[0mcriterion\u001b[0m\u001b[1;33m,\u001b[0m \u001b[0mopt\u001b[0m\u001b[1;33m)\u001b[0m\u001b[1;33m\u001b[0m\u001b[1;33m\u001b[0m\u001b[0m\n\u001b[0m\u001b[0;32m     65\u001b[0m         \u001b[0mtest_loss\u001b[0m\u001b[1;33m,\u001b[0m \u001b[0mtest_f1\u001b[0m\u001b[1;33m,\u001b[0m \u001b[0mtest_acc\u001b[0m\u001b[1;33m,\u001b[0m \u001b[0mtest_roc_auc\u001b[0m \u001b[1;33m=\u001b[0m \u001b[0mepoch_test\u001b[0m\u001b[1;33m(\u001b[0m\u001b[0mtest_loader\u001b[0m\u001b[1;33m,\u001b[0m \u001b[0mclf\u001b[0m\u001b[1;33m,\u001b[0m \u001b[0mcriterion\u001b[0m\u001b[1;33m)\u001b[0m\u001b[1;33m\u001b[0m\u001b[1;33m\u001b[0m\u001b[0m\n\u001b[0;32m     66\u001b[0m \u001b[1;33m\u001b[0m\u001b[0m\n",
      "\u001b[1;32m~\\AppData\\Local\\Temp/ipykernel_11548/1262061526.py\u001b[0m in \u001b[0;36mepoch_train\u001b[1;34m(loader, clf, criterion, opt)\u001b[0m\n\u001b[0;32m     16\u001b[0m         \u001b[0mloss\u001b[0m\u001b[1;33m.\u001b[0m\u001b[0mbackward\u001b[0m\u001b[1;33m(\u001b[0m\u001b[1;33m)\u001b[0m\u001b[1;33m\u001b[0m\u001b[1;33m\u001b[0m\u001b[0m\n\u001b[0;32m     17\u001b[0m         \u001b[0mopt\u001b[0m\u001b[1;33m.\u001b[0m\u001b[0mstep\u001b[0m\u001b[1;33m(\u001b[0m\u001b[1;33m)\u001b[0m\u001b[1;33m\u001b[0m\u001b[1;33m\u001b[0m\u001b[0m\n\u001b[1;32m---> 18\u001b[1;33m         \u001b[0mrunning_loss\u001b[0m \u001b[1;33m+=\u001b[0m \u001b[0mloss\u001b[0m\u001b[1;33m.\u001b[0m\u001b[0mitem\u001b[0m\u001b[1;33m(\u001b[0m\u001b[1;33m)\u001b[0m\u001b[1;33m\u001b[0m\u001b[1;33m\u001b[0m\u001b[0m\n\u001b[0m\u001b[0;32m     19\u001b[0m         \u001b[0mcorrect\u001b[0m \u001b[1;33m+=\u001b[0m \u001b[1;33m(\u001b[0m\u001b[0moutputs\u001b[0m\u001b[1;33m.\u001b[0m\u001b[0margmax\u001b[0m\u001b[1;33m(\u001b[0m\u001b[1;33m-\u001b[0m\u001b[1;36m1\u001b[0m\u001b[1;33m)\u001b[0m \u001b[1;33m==\u001b[0m \u001b[0mlabels\u001b[0m\u001b[1;33m.\u001b[0m\u001b[0margmax\u001b[0m\u001b[1;33m(\u001b[0m\u001b[1;33m-\u001b[0m\u001b[1;36m1\u001b[0m\u001b[1;33m)\u001b[0m\u001b[1;33m)\u001b[0m\u001b[1;33m.\u001b[0m\u001b[0msum\u001b[0m\u001b[1;33m(\u001b[0m\u001b[1;33m)\u001b[0m \u001b[1;33m/\u001b[0m \u001b[0mlen\u001b[0m\u001b[1;33m(\u001b[0m\u001b[0mlabels\u001b[0m\u001b[1;33m)\u001b[0m\u001b[1;33m\u001b[0m\u001b[1;33m\u001b[0m\u001b[0m\n\u001b[0;32m     20\u001b[0m \u001b[1;33m\u001b[0m\u001b[0m\n",
      "\u001b[1;31mKeyboardInterrupt\u001b[0m: "
     ]
    }
   ],
   "source": [
    "train(train_loader_abide, test_loader_abide, clf_mlp, criterion, opt, n_epochs=5)"
   ]
  },
  {
   "cell_type": "markdown",
   "metadata": {},
   "source": [
    "## ABIDE"
   ]
  },
  {
   "cell_type": "code",
   "execution_count": 430,
   "metadata": {},
   "outputs": [],
   "source": [
    "res_mlp_abide = []\n",
    "for _ in range(10):\n",
    "    clf_mlp = MLP(n=200, num_classes=2).cuda()\n",
    "    opt = torch.optim.AdamW(clf_mlp.parameters(), lr=0.001)\n",
    "    criterion = torch.nn.CrossEntropyLoss()\n",
    "    res = train(train_loader_abide, test_loader_abide, clf_mlp, criterion, opt, n_epochs=60, verbose=False)\n",
    "    res_mlp_abide.append(res)"
   ]
  },
  {
   "cell_type": "code",
   "execution_count": 431,
   "metadata": {},
   "outputs": [
    {
     "data": {
      "text/plain": [
       "[(0.7007299270072993, 0.6618357487922706, 0.6986736409490005),\n",
       " (0.7164179104477613, 0.6714975845410628, 0.7176349710442742),\n",
       " (0.7072243346007604, 0.6570048309178744, 0.6898001120866805),\n",
       " (0.6829268292682927, 0.6521739130434783, 0.7012889968242106),\n",
       " (0.7226890756302522, 0.7053140096618358, 0.7216981132075472),\n",
       " (0.7224334600760456, 0.6763285024154589, 0.7124976648608257),\n",
       " (0.7091633466135459, 0.6618357487922706, 0.707874089295722),\n",
       " (0.714859437751004, 0.6714975845410628, 0.6955445544554455),\n",
       " (0.7067669172932332, 0.6473429951690821, 0.6789650663179526),\n",
       " (0.7106227106227108, 0.6859903381642513, 0.7274892583597983)]"
      ]
     },
     "execution_count": 431,
     "metadata": {},
     "output_type": "execute_result"
    }
   ],
   "source": [
    "res_mlp_abide"
   ]
  },
  {
   "cell_type": "markdown",
   "metadata": {},
   "source": [
    "## COBRE"
   ]
  },
  {
   "cell_type": "code",
   "execution_count": 432,
   "metadata": {},
   "outputs": [],
   "source": [
    "res_mlp_cobre = []\n",
    "for _ in range(10):\n",
    "    clf_mlp = MLP(n=116, num_classes=2).cuda()\n",
    "    opt = torch.optim.AdamW(clf_mlp.parameters(), lr=0.001)\n",
    "    criterion = torch.nn.CrossEntropyLoss()\n",
    "    res = train(train_loader_cobre, test_loader_cobre, clf_mlp, criterion, opt, n_epochs=60, verbose=False)\n",
    "    res_mlp_cobre.append(res)"
   ]
  },
  {
   "cell_type": "code",
   "execution_count": 433,
   "metadata": {},
   "outputs": [
    {
     "data": {
      "text/plain": [
       "[(0.7857142857142856, 0.7692307692307693, 0.7454545454545456),\n",
       " (0.8148148148148148, 0.8076923076923077, 0.793939393939394),\n",
       " (0.7857142857142856, 0.7692307692307693, 0.8242424242424243),\n",
       " (0.8148148148148148, 0.8076923076923077, 0.8393939393939395),\n",
       " (0.8000000000000002, 0.7692307692307693, 0.8242424242424242),\n",
       " (0.7857142857142856, 0.7692307692307693, 0.8),\n",
       " (0.8148148148148148, 0.8076923076923077, 0.7818181818181819),\n",
       " (0.7586206896551724, 0.7307692307692307, 0.7515151515151516),\n",
       " (0.8000000000000002, 0.7692307692307693, 0.8545454545454545),\n",
       " (0.7857142857142856, 0.7692307692307693, 0.7606060606060606)]"
      ]
     },
     "execution_count": 433,
     "metadata": {},
     "output_type": "execute_result"
    }
   ],
   "source": [
    "res_mlp_cobre"
   ]
  },
  {
   "cell_type": "markdown",
   "metadata": {},
   "source": [
    "# Compare results of MLP on different datasets"
   ]
  },
  {
   "cell_type": "code",
   "execution_count": 434,
   "metadata": {},
   "outputs": [],
   "source": [
    "res_mlp_cobre = np.array(res_mlp_cobre)\n",
    "res_mlp_abide = np.array(res_mlp_abide)"
   ]
  },
  {
   "cell_type": "code",
   "execution_count": 435,
   "metadata": {},
   "outputs": [],
   "source": [
    "df2 = {'dataset':[], 'metric':[], 'value':[]}\n",
    "\n",
    "for i, metric_name in enumerate(['F1 Score', 'Accuracy', 'ROC-AUC']):\n",
    "    df2['dataset'] = df2['dataset']+['ABIDE']*10+['COBRE']*10\n",
    "    df2['metric'] = df2['metric']+[metric_name]*20\n",
    "    df2['value'] = df2['value']+list(res_mlp_abide[:, i])+list(res_mlp_cobre[:, i])\n",
    "    \n",
    "df2 = pd.DataFrame(df2)"
   ]
  },
  {
   "cell_type": "code",
   "execution_count": 447,
   "metadata": {},
   "outputs": [
    {
     "data": {
      "image/png": "[encoded data removed]",
      "text/plain": [
       "<Figure size 2000x500 with 3 Axes>"
      ]
     },
     "metadata": {
      "needs_background": "light"
     },
     "output_type": "display_data"
    }
   ],
   "source": [
    "fig, axes = plt.subplots(nrows=1, ncols=3, figsize=(20,5), dpi=100, sharey=True)\n",
    "for i, metric_name in enumerate(['F1 Score', 'Accuracy', 'ROC-AUC']):\n",
    "    sns.swarmplot(data=df2[df2.metric==metric_name], x='dataset', y='value', ax=axes[i])\n",
    "    sns.boxplot(data=df2[df2.metric==metric_name], x='dataset', y='value', showfliers=False, palette='pastel', ax=axes[i])\n",
    "    axes[i].set_ylabel('')\n",
    "    axes[i].set_xlabel('')\n",
    "    axes[i].set_title(metric_name)\n",
    "plt.suptitle('MLP, best metrics on test set\\n60 epochs, 10 reinitializations', fontsize=16, fontweight='bold', y=1.05)\n",
    "plt.show()"
   ]
  },
  {
   "cell_type": "code",
   "execution_count": 437,
   "metadata": {},
   "outputs": [],
   "source": [
    "std = df2.groupby(['dataset', 'metric'], as_index=False).std().value\n",
    "mean = df2.groupby(['dataset', 'metric'], as_index=False).mean().value\n",
    "max_ = df2.groupby(['dataset', 'metric'], as_index=False).max().value"
   ]
  },
  {
   "cell_type": "code",
   "execution_count": 438,
   "metadata": {},
   "outputs": [],
   "source": [
    "res = df2.groupby(['dataset', 'metric'], as_index=False).mean().drop('value', axis=1)\n",
    "res['mean'] = mean\n",
    "res['std'] = std\n",
    "res['max'] = max_"
   ]
  },
  {
   "cell_type": "code",
   "execution_count": 439,
   "metadata": {},
   "outputs": [
    {
     "data": {
      "text/html": [
       "<div>\n",
       "<style scoped>\n",
       "    .dataframe tbody tr th:only-of-type {\n",
       "        vertical-align: middle;\n",
       "    }\n",
       "\n",
       "    .dataframe tbody tr th {\n",
       "        vertical-align: top;\n",
       "    }\n",
       "\n",
       "    .dataframe thead th {\n",
       "        text-align: right;\n",
       "    }\n",
       "</style>\n",
       "<table border=\"1\" class=\"dataframe\">\n",
       "  <thead>\n",
       "    <tr style=\"text-align: right;\">\n",
       "      <th></th>\n",
       "      <th>dataset</th>\n",
       "      <th>metric</th>\n",
       "      <th>mean</th>\n",
       "      <th>std</th>\n",
       "      <th>max</th>\n",
       "    </tr>\n",
       "  </thead>\n",
       "  <tbody>\n",
       "    <tr>\n",
       "      <th>0</th>\n",
       "      <td>ABIDE</td>\n",
       "      <td>Accuracy</td>\n",
       "      <td>0.669082</td>\n",
       "      <td>0.017231</td>\n",
       "      <td>0.705314</td>\n",
       "    </tr>\n",
       "    <tr>\n",
       "      <th>1</th>\n",
       "      <td>ABIDE</td>\n",
       "      <td>F1 Score</td>\n",
       "      <td>0.709383</td>\n",
       "      <td>0.011618</td>\n",
       "      <td>0.722689</td>\n",
       "    </tr>\n",
       "    <tr>\n",
       "      <th>2</th>\n",
       "      <td>ABIDE</td>\n",
       "      <td>ROC-AUC</td>\n",
       "      <td>0.705147</td>\n",
       "      <td>0.015131</td>\n",
       "      <td>0.727489</td>\n",
       "    </tr>\n",
       "    <tr>\n",
       "      <th>3</th>\n",
       "      <td>COBRE</td>\n",
       "      <td>Accuracy</td>\n",
       "      <td>0.776923</td>\n",
       "      <td>0.024325</td>\n",
       "      <td>0.807692</td>\n",
       "    </tr>\n",
       "    <tr>\n",
       "      <th>4</th>\n",
       "      <td>COBRE</td>\n",
       "      <td>F1 Score</td>\n",
       "      <td>0.794592</td>\n",
       "      <td>0.017934</td>\n",
       "      <td>0.814815</td>\n",
       "    </tr>\n",
       "    <tr>\n",
       "      <th>5</th>\n",
       "      <td>COBRE</td>\n",
       "      <td>ROC-AUC</td>\n",
       "      <td>0.797576</td>\n",
       "      <td>0.037843</td>\n",
       "      <td>0.854545</td>\n",
       "    </tr>\n",
       "  </tbody>\n",
       "</table>\n",
       "</div>"
      ],
      "text/plain": [
       "  dataset    metric      mean       std       max\n",
       "0   ABIDE  Accuracy  0.669082  0.017231  0.705314\n",
       "1   ABIDE  F1 Score  0.709383  0.011618  0.722689\n",
       "2   ABIDE   ROC-AUC  0.705147  0.015131  0.727489\n",
       "3   COBRE  Accuracy  0.776923  0.024325  0.807692\n",
       "4   COBRE  F1 Score  0.794592  0.017934  0.814815\n",
       "5   COBRE   ROC-AUC  0.797576  0.037843  0.854545"
      ]
     },
     "execution_count": 439,
     "metadata": {},
     "output_type": "execute_result"
    }
   ],
   "source": [
    "res"
   ]
  },
  {
   "cell_type": "markdown",
   "metadata": {},
   "source": [
    "# Aggregation of metrics from bgbGAT and MLP"
   ]
  },
  {
   "cell_type": "code",
   "execution_count": 464,
   "metadata": {},
   "outputs": [],
   "source": [
    "df['network'] = ['Graph NN (bgbGAT)']*60\n",
    "df2['network'] = ['MLP']*60"
   ]
  },
  {
   "cell_type": "code",
   "execution_count": 465,
   "metadata": {},
   "outputs": [],
   "source": [
    "all_df = pd.concat([df, df2], axis=0)"
   ]
  },
  {
   "cell_type": "code",
   "execution_count": 466,
   "metadata": {},
   "outputs": [
    {
     "data": {
      "image/png": "[encoded data removed]",
      "text/plain": [
       "<Figure size 1500x500 with 2 Axes>"
      ]
     },
     "metadata": {
      "needs_background": "light"
     },
     "output_type": "display_data"
    }
   ],
   "source": [
    "fig, axes = plt.subplots(nrows=1, ncols=2, figsize=(15,5), dpi=100, sharey=True)\n",
    "for i, net in enumerate(['Graph NN (bgbGAT)', 'MLP']):\n",
    "    sns.swarmplot(data=all_df[all_df.network==net], x='dataset', y='value', hue='metric', ax=axes[i], dodge=True)\n",
    "    sns.boxplot(data=all_df[all_df.network==net], x='dataset', y='value', hue='metric', showfliers=False, palette='pastel', ax=axes[i])\n",
    "    axes[i].set_ylabel('')\n",
    "    axes[i].set_xlabel('')\n",
    "    axes[i].set_title(net, fontsize=14, fontweight='bold')\n",
    "    handles, labels = axes[i].get_legend_handles_labels()\n",
    "    axes[i].legend(handles[:3], labels[:3], loc=2)\n",
    "plt.suptitle('60 epochs, 10 reinitializations', fontsize=16, fontweight='bold', y=1.03)\n",
    "plt.show()"
   ]
  },
  {
   "cell_type": "markdown",
   "metadata": {},
   "source": [
    "Unfortunately, even the simple MLP is better than Graph NN on both datasets. We suppose reasons for that are small datasets (lack of data) and specific nature of medical data. The problem is that in case of biologic/medical research it is ofter impossible to get \"Big Data\" so application of Graph NN seems to be overkill."
   ]
  },
  {
   "cell_type": "code",
   "execution_count": null,
   "metadata": {},
   "outputs": [],
   "source": []
  }
 ],
 "metadata": {
  "colab": {
   "provenance": []
  },
  "kernelspec": {
   "display_name": "Python 3",
   "language": "python",
   "name": "python3"
  },
  "language_info": {
   "codemirror_mode": {
    "name": "ipython",
    "version": 3
   },
   "file_extension": ".py",
   "mimetype": "text/x-python",
   "name": "python",
   "nbconvert_exporter": "python",
   "pygments_lexer": "ipython3",
   "version": "3.8.5"
  }
 },
 "nbformat": 4,
 "nbformat_minor": 1
}
