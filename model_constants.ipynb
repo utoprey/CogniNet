{
 "cells": [
  {
   "cell_type": "code",
   "execution_count": null,
   "id": "4699ed10",
   "metadata": {},
   "outputs": [],
   "source": [
    "GRID_CONFIG_MODELS = {\n",
    "    \n",
    "    'xgb': {\n",
    "        'objective': ['binary:logistic'],\n",
    "        'eta': [0.1],\n",
    "        'max_depth':  [7,3,10],\n",
    "        'scale_pos_weight': [1],\n",
    "        'alpha': [0],\n",
    "        'random_state': [1380],\n",
    "   },\n",
    "   \"svm\": {\n",
    "        'C': [0.01, 0.1, 1, 10],\n",
    "        'kernel': ['linear', 'rbf'],\n",
    "        'class_weight': [\"balanced\", None],\n",
    "        'probability': [True],\n",
    "        'random_state': [1380],\n",
    "    },\n",
    "    \"svm+pca\": {\n",
    "        'C': [0.01, 0.1, 1, 10],\n",
    "        'kernel': ['linear', 'rbf'],\n",
    "        'class_weight': [\"balanced\", None],\n",
    "        'probability': [True],\n",
    "        'n_components':70\n",
    "        'random_state': [1380],\n",
    "    },\n",
    "    \"rf\": {\n",
    "        'n_estimators': [10, 50, 100],\n",
    "        'max_depth':  [3,5,7,9],\n",
    "        'class_weight': [None],\n",
    "        'random_state': [1380],\n",
    "    },\n",
    "   \"lr\": {\n",
    "        'class_weight': [\"balanced\", None],\n",
    "        'penalty': ['l1', 'l2'],\n",
    "        'C': [0.01,0.1,1,3,10],\n",
    "        'solver' : ['liblinear'],\n",
    "        'random_state': [1380],\n",
    "    }\n",
    "}"
   ]
  }
 ],
 "metadata": {
  "kernelspec": {
   "display_name": "Python 3 (ipykernel)",
   "language": "python",
   "name": "python3"
  },
  "language_info": {
   "codemirror_mode": {
    "name": "ipython",
    "version": 3
   },
   "file_extension": ".py",
   "mimetype": "text/x-python",
   "name": "python",
   "nbconvert_exporter": "python",
   "pygments_lexer": "ipython3",
   "version": "3.9.12"
  }
 },
 "nbformat": 4,
 "nbformat_minor": 5
}
