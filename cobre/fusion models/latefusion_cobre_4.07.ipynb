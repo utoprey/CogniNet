{
 "cells": [
  {
   "cell_type": "code",
   "execution_count": 3,
   "id": "f083f3f8",
   "metadata": {},
   "outputs": [
    {
     "name": "stdout",
     "output_type": "stream",
     "text": [
      "Collecting xgboost\n",
      "  Downloading xgboost-1.7.6-py3-none-manylinux2014_x86_64.whl (200.3 MB)\n",
      "\u001b[K     |████████████████████████████████| 200.3 MB 27 kB/s  eta 0:00:01    |███                             | 19.0 MB 8.6 MB/s eta 0:00:21     |████                            | 25.1 MB 4.9 MB/s eta 0:00:36     |█████████▍                      | 59.0 MB 455 kB/s eta 0:05:11     |███████████▍                    | 71.4 MB 1.9 MB/s eta 0:01:09     |███████████████████████▍        | 146.3 MB 2.4 MB/s eta 0:00:23     |████████████████████████▏       | 151.5 MB 1.4 MB/s eta 0:00:35     |█████████████████████████████▋  | 185.6 MB 2.1 MB/s eta 0:00:07     |██████████████████████████████▋ | 191.7 MB 2.0 MB/s eta 0:00:05\n",
      "\u001b[?25hRequirement already satisfied: scipy in /opt/conda/lib/python3.9/site-packages (from xgboost) (1.7.1)\n",
      "Requirement already satisfied: numpy in /opt/conda/lib/python3.9/site-packages (from xgboost) (1.20.3)\n",
      "Installing collected packages: xgboost\n",
      "Successfully installed xgboost-1.7.6\n",
      "\u001b[33mWARNING: Running pip as the 'root' user can result in broken permissions and conflicting behaviour with the system package manager. It is recommended to use a virtual environment instead: https://pip.pypa.io/warnings/venv\u001b[0m\n"
     ]
    }
   ],
   "source": [
    "!pip install xgboost"
   ]
  },
  {
   "cell_type": "code",
   "execution_count": 4,
   "id": "88ab7898",
   "metadata": {},
   "outputs": [],
   "source": [
    "import pandas as pd\n",
    "import json\n",
    "import pandas as pd\n",
    "from sklearn.linear_model import LogisticRegression\n",
    "from sklearn.metrics import f1_score, accuracy_score, roc_auc_score\n",
    "from collections import defaultdict\n",
    "from pathlib import Path\n",
    "import os\n",
    "import itertools \n",
    "import numpy as np\n",
    "import random\n",
    "from sklearn.model_selection import GridSearchCV\n",
    "from sklearn.pipeline import Pipeline\n",
    "from sklearn.preprocessing import StandardScaler\n",
    "from sklearn.ensemble import VotingClassifier, RandomForestClassifier\n",
    "from sklearn.svm import SVC\n",
    "from sklearn.feature_selection import VarianceThreshold\n",
    "from sklearn.base import TransformerMixin, BaseEstimator\n",
    "from sklearn.feature_selection import SelectFromModel\n",
    "from sklearn.pipeline import Pipeline\n",
    "from sklearn.model_selection import cross_val_score, StratifiedKFold\n",
    "from xgboost import XGBClassifier\n",
    "from sklearn.feature_selection import SelectKBest, f_classif\n",
    "from sklearn.decomposition import PCA\n",
    "from sklearn.metrics import f1_score\n",
    "import warnings\n",
    "warnings.filterwarnings(\"ignore\")"
   ]
  },
  {
   "cell_type": "code",
   "execution_count": 5,
   "id": "6130ba30",
   "metadata": {},
   "outputs": [],
   "source": [
    "seed =1380\n",
    "np.random.seed(seed)\n",
    "random.seed(seed) \n",
    "os.environ['PYTHONHASHSEED']=str(seed)"
   ]
  },
  {
   "cell_type": "code",
   "execution_count": 6,
   "id": "459e31a1",
   "metadata": {},
   "outputs": [],
   "source": [
    "fmri_dataset = pd.read_csv('fmri_cobre_initial.csv')\n",
    "morp_dataset = pd.read_csv('morphometry_initial.csv')"
   ]
  },
  {
   "cell_type": "markdown",
   "id": "31a01874",
   "metadata": {},
   "source": [
    "# Define unique IDs for each file"
   ]
  },
  {
   "cell_type": "code",
   "execution_count": 5,
   "id": "183922a6",
   "metadata": {},
   "outputs": [
    {
     "name": "stdout",
     "output_type": "stream",
     "text": [
      "IDs in file1.csv that are different from file2.csv:\n",
      "22     A00013363\n",
      "40     A00016720\n",
      "43     A00017294\n",
      "55     A00020805\n",
      "69     A00022592\n",
      "84     A00023246\n",
      "97     A00024372\n",
      "113    A00027487\n",
      "124    A00029226\n",
      "141    A00037224\n",
      "Name: ID, dtype: object\n",
      "\n",
      "IDs in file2.csv that are different from file1.csv:\n",
      "5      A00028402\n",
      "16     A00038172\n",
      "19     A00019750\n",
      "26     A00028189\n",
      "38     A00035859\n",
      "79     A00014175\n",
      "82     A00000300\n",
      "87     A00020416\n",
      "88     A00020416\n",
      "91     A00027755\n",
      "92     A00027755\n",
      "98     A00031271\n",
      "106    A00035836\n",
      "113    A00027969\n",
      "Name: ID, dtype: object\n"
     ]
    }
   ],
   "source": [
    "# Read the CSV files\n",
    "file1 = pd.read_csv('fmri_cobre_initial.csv')\n",
    "file2 = pd.read_csv('morphometry_initial.csv')\n",
    "\n",
    "# Extract the ID column from each file\n",
    "id_col_file1 = file1['ID']\n",
    "id_col_file2 = file2['ID']\n",
    "\n",
    "# Find the IDs that are different between the two files\n",
    "ids_different_file1 = id_col_file1[~id_col_file1.isin(id_col_file2)]\n",
    "ids_different_file2 = id_col_file2[~id_col_file2.isin(id_col_file1)]\n",
    "\n",
    "# Print the IDs that are different between the two files\n",
    "print(\"IDs in file1.csv that are different from file2.csv:\")\n",
    "print(ids_different_file1)\n",
    "\n",
    "print(\"\\nIDs in file2.csv that are different from file1.csv:\")\n",
    "print(ids_different_file2)"
   ]
  },
  {
   "cell_type": "markdown",
   "id": "0450b83f",
   "metadata": {},
   "source": [
    "# Drop duplicates from morphometry"
   ]
  },
  {
   "cell_type": "code",
   "execution_count": 46,
   "id": "2916e02f",
   "metadata": {},
   "outputs": [
    {
     "name": "stdout",
     "output_type": "stream",
     "text": [
      "Duplicates dropped from the 'morphometry_common.csv' file and saved.\n"
     ]
    }
   ],
   "source": [
    "# Read the 'morphometry_common.csv' file\n",
    "morphometry_common = pd.read_csv('morphometry_common.csv')\n",
    "\n",
    "# Drop duplicates based on the 'ID' column\n",
    "morphometry_common.drop_duplicates(subset='ID', inplace=True)\n",
    "\n",
    "# Save the updated DataFrame to 'morphometry_common.csv'\n",
    "morphometry_common.to_csv('morphometry_common.csv', index=False)\n",
    "\n",
    "print(\"Duplicates dropped from the 'morphometry_common.csv' file and saved.\")"
   ]
  },
  {
   "cell_type": "markdown",
   "id": "32be84a8",
   "metadata": {},
   "source": [
    "# Define datsets for each modality"
   ]
  },
  {
   "cell_type": "code",
   "execution_count": 58,
   "id": "9292bbc5",
   "metadata": {},
   "outputs": [],
   "source": [
    "fmri_dataset = pd.read_csv('fmri_common_cobre.csv')\n",
    "morp_dataset = pd.read_csv('morphometry_common.csv')"
   ]
  },
  {
   "cell_type": "markdown",
   "id": "bfd07a1d",
   "metadata": {},
   "source": [
    "# Concatennate datasets"
   ]
  },
  {
   "cell_type": "code",
   "execution_count": 52,
   "id": "624562c2",
   "metadata": {},
   "outputs": [
    {
     "name": "stdout",
     "output_type": "stream",
     "text": [
      "CSV files concatenated based on the ID column and saved as 'concatenated.csv'.\n"
     ]
    }
   ],
   "source": [
    "# Path to the CSV files\n",
    "file1_path = 'morphometry_common.csv'\n",
    "file2_path = 'fmri_common_cobre.csv'\n",
    "\n",
    "# Read the CSV files\n",
    "df1 = pd.read_csv(file1_path)\n",
    "df2 = pd.read_csv(file2_path)\n",
    "\n",
    "# Concatenate the dataframes based on the ID column\n",
    "concatenated_df = pd.merge(df1, df2, on='ID')\n",
    "\n",
    "# Save the concatenated dataframe to a new CSV file\n",
    "output_path = 'fmri_and_morph_3.07.csv'\n",
    "concatenated_df.to_csv(output_path, index=False)\n",
    "\n",
    "print(\"CSV files concatenated based on the ID column and saved as 'concatenated.csv'.\")"
   ]
  },
  {
   "cell_type": "markdown",
   "id": "c1097384",
   "metadata": {},
   "source": [
    "# Label target in morphometry"
   ]
  },
  {
   "cell_type": "code",
   "execution_count": 55,
   "id": "54c54bea",
   "metadata": {},
   "outputs": [],
   "source": [
    "# Read the CSV file\n",
    "df = pd.read_csv('morphometry_common.csv')\n",
    "\n",
    "# Filter rows where the 'target' column is not equal to 'Schizoaffective'\n",
    "df = df[df['target'] != 'Schizoaffective']\n",
    "\n",
    "df['target'].replace({'Schizophrenia_Strict': 0, 'No_Known_Disorder': 1}, inplace=True)\n",
    "\n",
    "# Save the modified dataframe to a new CSV file\n",
    "output_path = 'morphometry_common.csv'\n",
    "df.to_csv(output_path, index=False)"
   ]
  },
  {
   "cell_type": "markdown",
   "id": "fd4db5a5",
   "metadata": {},
   "source": [
    "# Look at shape and target values"
   ]
  },
  {
   "cell_type": "code",
   "execution_count": 60,
   "id": "b7a86360",
   "metadata": {},
   "outputs": [
    {
     "data": {
      "text/plain": [
       "(142, 931)"
      ]
     },
     "execution_count": 60,
     "metadata": {},
     "output_type": "execute_result"
    }
   ],
   "source": [
    "morp_dataset.shape"
   ]
  },
  {
   "cell_type": "code",
   "execution_count": 59,
   "id": "78943f1c",
   "metadata": {},
   "outputs": [
    {
     "data": {
      "text/plain": [
       "1    76\n",
       "0    66\n",
       "Name: target, dtype: int64"
      ]
     },
     "execution_count": 59,
     "metadata": {},
     "output_type": "execute_result"
    }
   ],
   "source": [
    "morp_dataset.target.value_counts()"
   ]
  },
  {
   "cell_type": "code",
   "execution_count": 52,
   "id": "2b27f3a2",
   "metadata": {},
   "outputs": [
    {
     "data": {
      "text/plain": [
       "(142, 6672)"
      ]
     },
     "execution_count": 52,
     "metadata": {},
     "output_type": "execute_result"
    }
   ],
   "source": [
    "fmri_dataset.shape"
   ]
  },
  {
   "cell_type": "code",
   "execution_count": 53,
   "id": "5e3dffb6",
   "metadata": {},
   "outputs": [
    {
     "data": {
      "text/plain": [
       "0    76\n",
       "1    66\n",
       "Name: target, dtype: int64"
      ]
     },
     "execution_count": 53,
     "metadata": {},
     "output_type": "execute_result"
    }
   ],
   "source": [
    "fmri_dataset.target.value_counts()"
   ]
  },
  {
   "cell_type": "code",
   "execution_count": 7,
   "id": "bd26cea1",
   "metadata": {},
   "outputs": [],
   "source": [
    "morh_and_fmri = pd.read_csv('fmri_and_morph_3.07.csv')"
   ]
  },
  {
   "cell_type": "code",
   "execution_count": 54,
   "id": "c413581d",
   "metadata": {},
   "outputs": [
    {
     "data": {
      "text/plain": [
       "0    76\n",
       "1    66\n",
       "Name: target, dtype: int64"
      ]
     },
     "execution_count": 54,
     "metadata": {},
     "output_type": "execute_result"
    }
   ],
   "source": [
    "morh_and_fmri.target.value_counts()"
   ]
  },
  {
   "cell_type": "markdown",
   "id": "071a3930",
   "metadata": {},
   "source": [
    "# Code to doublecheck if Schizoaffective is drop from target"
   ]
  },
  {
   "cell_type": "code",
   "execution_count": 9,
   "id": "b1e166f7",
   "metadata": {},
   "outputs": [],
   "source": [
    "# # Read the datasets\n",
    "# fmri_dataset = pd.read_csv('fmri_common_cobre.csv')\n",
    "# morp_dataset = pd.read_csv('morphometry_common.csv')\n",
    "# morh_and_fmri = pd.read_csv('fmri_and_morph_3.07.csv')\n",
    "\n",
    "# # Drop rows with \"Schizoaffective\" in the target column\n",
    "# fmri_dataset = fmri_dataset[fmri_dataset['target'] != 'Schizoaffective']\n",
    "# morp_dataset = morp_dataset[morp_dataset['target'] != 'Schizoaffective']\n",
    "# morh_and_fmri = morh_and_fmri[morh_and_fmri['target'] != 'Schizoaffective']\n",
    "\n",
    "# # Save the modified datasets back to the original files\n",
    "# fmri_dataset.to_csv('fmri_cobre_initial.csv', index=False)\n",
    "# morp_dataset.to_csv('morphometry_initial.csv', index=False)\n",
    "# morh_and_fmri.to_csv('fmri_and_morph_3.07.csv', index=False)"
   ]
  },
  {
   "cell_type": "code",
   "execution_count": 10,
   "id": "20a6f6f5",
   "metadata": {},
   "outputs": [],
   "source": [
    "# fmri_dataset = pd.read_csv('fmri_common_cobre.csv')\n",
    "# morp_dataset = pd.read_csv('morphometry_common.csv')\n",
    "# morh_and_fmri = pd.read_csv('fmri_and_morph_3.07.csv')"
   ]
  },
  {
   "cell_type": "markdown",
   "id": "1baa22ef",
   "metadata": {},
   "source": [
    "# Early fusion for fMRI dataset"
   ]
  },
  {
   "cell_type": "code",
   "execution_count": 61,
   "id": "b48f60f5",
   "metadata": {},
   "outputs": [],
   "source": [
    "target =fmri_dataset.target\n",
    "data =fmri_dataset.drop(columns=['target', 'ID'])"
   ]
  },
  {
   "cell_type": "code",
   "execution_count": 63,
   "id": "58377ebb",
   "metadata": {},
   "outputs": [],
   "source": [
    "# Define the pipeline for feature selection and model training\n",
    "pipeline_rf = Pipeline([\n",
    "    (\"scaler\", StandardScaler()),\n",
    "    (\"fs\", SelectFromModel(estimator=LogisticRegression(random_state=seed), max_features=92)),\n",
    "    (\"model\", RandomForestClassifier(random_state=seed))\n",
    "])\n",
    "\n",
    "pipeline_svc = Pipeline([\n",
    "    (\"scaler\", StandardScaler()),\n",
    "    (\"fs\", SelectFromModel(estimator=LogisticRegression(random_state=seed), max_features=92)),\n",
    "    (\"model\", SVC(random_state=seed))\n",
    "])\n",
    "\n",
    "pipeline_xgb = Pipeline([\n",
    "    (\"scaler\", StandardScaler()),\n",
    "    (\"fs\", SelectFromModel(estimator=LogisticRegression(random_state=seed), max_features=92)),\n",
    "    (\"model\", XGBClassifier(random_state=seed))\n",
    "])"
   ]
  },
  {
   "cell_type": "code",
   "execution_count": 64,
   "id": "031eff5d",
   "metadata": {},
   "outputs": [],
   "source": [
    "# Define the parameter grids for each model\n",
    "param_grid_rf = {\n",
    "    'model__n_estimators': [10, 50, 100],\n",
    "    'model__max_depth': [3, 5, 7, 9],\n",
    "    'model__random_state': [1380]\n",
    "}\n",
    "\n",
    "param_grid_svc = {\n",
    "    'model__C': [0.01, 0.1, 1],\n",
    "    'model__class_weight': ['balanced', None],\n",
    "    'model__kernel': ['linear', 'rbf'],\n",
    "    'model__probability': [True],\n",
    "    'model__random_state': [1380]\n",
    "}\n",
    "\n",
    "param_grid_xgb = {\n",
    "    'model__learning_rate': [0.1],\n",
    "    'model__max_depth': [6, 7, 3, 10],\n",
    "    'model__scale_pos_weight': [1],\n",
    "    'model__subsample': [1, 0.5],\n",
    "    'model__alpha': [0],\n",
    "    'model__random_state': [1380],\n",
    "    'model__use_label_encoder': [False],\n",
    "    'model__objective': ['binary:logistic'],\n",
    "    \n",
    "}"
   ]
  },
  {
   "cell_type": "code",
   "execution_count": 65,
   "id": "cbbdcd8c",
   "metadata": {},
   "outputs": [
    {
     "name": "stdout",
     "output_type": "stream",
     "text": [
      "Random Forest: Mean score using nested cross-validation is: 0.636 ± 0.117\n",
      "SVC: Mean score using nested cross-validation is: 0.659 ± 0.117\n",
      "XGBoost: Mean score using nested cross-validation is: 0.656 ± 0.105\n"
     ]
    }
   ],
   "source": [
    "# Declare the inner and outer cross-validation strategies\n",
    "inner_cv = StratifiedKFold(n_splits=10, shuffle=True, random_state=seed)\n",
    "outer_cv = StratifiedKFold(n_splits=10, shuffle=True, random_state=seed)\n",
    "\n",
    "# Models to evaluate\n",
    "models = {\n",
    "    'Random Forest': (pipeline_rf, param_grid_rf),\n",
    "    'SVC': (pipeline_svc, param_grid_svc),\n",
    "    'XGBoost': (pipeline_xgb, param_grid_xgb)\n",
    "}\n",
    "\n",
    "# Perform nested cross-validation for each model\n",
    "for model_name, (pipeline, param_grid) in models.items():\n",
    "    # Inner cross-validation for parameter search\n",
    "    model = GridSearchCV(estimator=pipeline, param_grid=param_grid, cv=inner_cv, n_jobs=1, scoring='f1_macro')\n",
    "\n",
    "    # Outer cross-validation to compute the testing score\n",
    "    test_score = cross_val_score(model, data, target, cv=outer_cv, n_jobs=1, scoring='f1_macro')\n",
    "\n",
    "    print(f\"{model_name}: Mean score using nested cross-validation is: {test_score.mean():.3f} ± {test_score.std():.3f}\")"
   ]
  },
  {
   "cell_type": "markdown",
   "id": "58adf405",
   "metadata": {},
   "source": [
    "# fMRI dataset. Scores estimation without feature extraction"
   ]
  },
  {
   "cell_type": "code",
   "execution_count": 17,
   "id": "96e71390",
   "metadata": {},
   "outputs": [],
   "source": [
    "target =fmri_dataset.target\n",
    "data =fmri_dataset.drop(columns=['target', 'ID'])"
   ]
  },
  {
   "cell_type": "code",
   "execution_count": 18,
   "id": "48870853",
   "metadata": {},
   "outputs": [],
   "source": [
    "# Define the pipeline for feature selection and model training\n",
    "pipeline_lr = Pipeline([\n",
    "    (\"scaler\", StandardScaler()),\n",
    "    (\"model\", LogisticRegression(random_state=seed))\n",
    "])\n",
    "\n",
    "pipeline_rf = Pipeline([\n",
    "    (\"scaler\", StandardScaler()),\n",
    "    (\"model\", RandomForestClassifier(random_state=seed))\n",
    "])\n",
    "\n",
    "pipeline_svc = Pipeline([\n",
    "    (\"scaler\", StandardScaler()),\n",
    "    (\"model\", SVC(random_state=seed))\n",
    "])\n",
    "\n",
    "pipeline_xgb = Pipeline([\n",
    "    (\"scaler\", StandardScaler()),\n",
    "    (\"model\", XGBClassifier(random_state=seed))\n",
    "])"
   ]
  },
  {
   "cell_type": "code",
   "execution_count": 19,
   "id": "9f000fec",
   "metadata": {},
   "outputs": [],
   "source": [
    "# Define the parameter grids for each model\n",
    "param_grid_lr = {\n",
    "    'model__C': [0.01, 0.1, 1],\n",
    "    'model__solver': ['liblinear'],\n",
    "    'model__penalty': ['l1', 'l2'],\n",
    "    'model__random_state': [1380]\n",
    "}\n",
    "\n",
    "param_grid_rf = {\n",
    "    'model__n_estimators': [10, 50, 100],\n",
    "    'model__max_depth': [3, 5, 7, 9],\n",
    "    'model__random_state': [1380]\n",
    "}\n",
    "\n",
    "param_grid_svc = {\n",
    "    'model__C': [0.01, 0.1, 1],\n",
    "    'model__class_weight': ['balanced', None],\n",
    "    'model__kernel': ['linear', 'rbf'],\n",
    "    'model__probability': [True],\n",
    "    'model__random_state': [1380]\n",
    "}\n",
    "\n",
    "param_grid_xgb = {\n",
    "    'model__learning_rate': [0.1],\n",
    "    'model__max_depth': [6, 7, 3, 10],\n",
    "    'model__scale_pos_weight': [1],\n",
    "    'model__subsample': [1, 0.5],\n",
    "    'model__alpha': [0],\n",
    "    'model__random_state': [1380],\n",
    "    'model__use_label_encoder': [False],\n",
    "    'model__objective': ['binary:logistic'],\n",
    "    \n",
    "}"
   ]
  },
  {
   "cell_type": "code",
   "execution_count": 21,
   "id": "962af5ff",
   "metadata": {},
   "outputs": [
    {
     "name": "stdout",
     "output_type": "stream",
     "text": [
      "Logistic Regression: Mean score using nested cross-validation is: 0.721 ± 0.133\n"
     ]
    },
    {
     "name": "stderr",
     "output_type": "stream",
     "text": [
      "/opt/conda/lib/python3.9/site-packages/sklearn/utils/deprecation.py:101: FutureWarning: Attribute _pairwise was deprecated in version 0.24 and will be removed in 1.1 (renaming of 0.26).\n",
      "  warnings.warn(msg, category=FutureWarning)\n"
     ]
    },
    {
     "name": "stdout",
     "output_type": "stream",
     "text": [
      "Random Forest: Mean score using nested cross-validation is: 0.662 ± 0.129\n",
      "SVC: Mean score using nested cross-validation is: 0.728 ± 0.128\n"
     ]
    },
    {
     "name": "stderr",
     "output_type": "stream",
     "text": [
      "/opt/conda/lib/python3.9/site-packages/xgboost/sklearn.py:1395: UserWarning: `use_label_encoder` is deprecated in 1.7.0.\n",
      "  warnings.warn(\"`use_label_encoder` is deprecated in 1.7.0.\")\n",
      "/opt/conda/lib/python3.9/site-packages/xgboost/sklearn.py:1395: UserWarning: `use_label_encoder` is deprecated in 1.7.0.\n",
      "  warnings.warn(\"`use_label_encoder` is deprecated in 1.7.0.\")\n",
      "/opt/conda/lib/python3.9/site-packages/xgboost/sklearn.py:1395: UserWarning: `use_label_encoder` is deprecated in 1.7.0.\n",
      "  warnings.warn(\"`use_label_encoder` is deprecated in 1.7.0.\")\n",
      "/opt/conda/lib/python3.9/site-packages/xgboost/sklearn.py:1395: UserWarning: `use_label_encoder` is deprecated in 1.7.0.\n",
      "  warnings.warn(\"`use_label_encoder` is deprecated in 1.7.0.\")\n",
      "/opt/conda/lib/python3.9/site-packages/xgboost/sklearn.py:1395: UserWarning: `use_label_encoder` is deprecated in 1.7.0.\n",
      "  warnings.warn(\"`use_label_encoder` is deprecated in 1.7.0.\")\n",
      "/opt/conda/lib/python3.9/site-packages/xgboost/sklearn.py:1395: UserWarning: `use_label_encoder` is deprecated in 1.7.0.\n",
      "  warnings.warn(\"`use_label_encoder` is deprecated in 1.7.0.\")\n",
      "/opt/conda/lib/python3.9/site-packages/xgboost/sklearn.py:1395: UserWarning: `use_label_encoder` is deprecated in 1.7.0.\n",
      "  warnings.warn(\"`use_label_encoder` is deprecated in 1.7.0.\")\n",
      "/opt/conda/lib/python3.9/site-packages/xgboost/sklearn.py:1395: UserWarning: `use_label_encoder` is deprecated in 1.7.0.\n",
      "  warnings.warn(\"`use_label_encoder` is deprecated in 1.7.0.\")\n",
      "/opt/conda/lib/python3.9/site-packages/xgboost/sklearn.py:1395: UserWarning: `use_label_encoder` is deprecated in 1.7.0.\n",
      "  warnings.warn(\"`use_label_encoder` is deprecated in 1.7.0.\")\n",
      "/opt/conda/lib/python3.9/site-packages/xgboost/sklearn.py:1395: UserWarning: `use_label_encoder` is deprecated in 1.7.0.\n",
      "  warnings.warn(\"`use_label_encoder` is deprecated in 1.7.0.\")\n"
     ]
    },
    {
     "name": "stdout",
     "output_type": "stream",
     "text": [
      "XGBoost: Mean score using nested cross-validation is: 0.698 ± 0.105\n"
     ]
    }
   ],
   "source": [
    "# Declare the inner and outer cross-validation strategies\n",
    "inner_cv = StratifiedKFold(n_splits=10, shuffle=True, random_state=seed)\n",
    "outer_cv = StratifiedKFold(n_splits=10, shuffle=True, random_state=seed)\n",
    "\n",
    "# Models to evaluate\n",
    "models = {\n",
    "    'Logistic Regression': (pipeline_lr, param_grid_lr),\n",
    "    'Random Forest': (pipeline_rf, param_grid_rf),\n",
    "    'SVC': (pipeline_svc, param_grid_svc),\n",
    "    'XGBoost': (pipeline_xgb, param_grid_xgb)\n",
    "}\n",
    "\n",
    "# Perform nested cross-validation for each model\n",
    "for model_name, (pipeline, param_grid) in models.items():\n",
    "    # Inner cross-validation for parameter search\n",
    "    model = GridSearchCV(estimator=pipeline, param_grid=param_grid, cv=inner_cv, n_jobs=-1, scoring='f1_macro')\n",
    "\n",
    "    # Outer cross-validation to compute the testing score\n",
    "    test_score = cross_val_score(model, data, target, cv=outer_cv, n_jobs=-1, scoring='f1_macro')\n",
    "\n",
    "    print(f\"{model_name}: Mean score using nested cross-validation is: {test_score.mean():.3f} ± {test_score.std():.3f}\")"
   ]
  },
  {
   "cell_type": "markdown",
   "id": "f3dde41b",
   "metadata": {},
   "source": [
    "# Early fusion for fMRI+morphometry dataset"
   ]
  },
  {
   "cell_type": "code",
   "execution_count": 71,
   "id": "1b098bf3",
   "metadata": {},
   "outputs": [],
   "source": [
    "target =morh_and_fmri.target\n",
    "data =morh_and_fmri.drop(columns=['target', 'ID'])"
   ]
  },
  {
   "cell_type": "code",
   "execution_count": 72,
   "id": "19affacc",
   "metadata": {},
   "outputs": [],
   "source": [
    "# Define the pipeline for feature selection and model training\n",
    "pipeline_rf = Pipeline([\n",
    "    (\"scaler\", StandardScaler()),\n",
    "    (\"fs\", SelectFromModel(estimator=LogisticRegression(random_state=seed), max_features=92)),\n",
    "    (\"model\", RandomForestClassifier(random_state=seed))\n",
    "])\n",
    "\n",
    "pipeline_svc = Pipeline([\n",
    "    (\"scaler\", StandardScaler()),\n",
    "    (\"fs\", SelectFromModel(estimator=LogisticRegression(random_state=seed), max_features=92)),\n",
    "    (\"model\", SVC(random_state=seed))\n",
    "])\n",
    "\n",
    "pipeline_xgb = Pipeline([\n",
    "    (\"scaler\", StandardScaler()),\n",
    "    (\"fs\", SelectFromModel(estimator=LogisticRegression(random_state=seed), max_features=92)),\n",
    "    (\"model\", XGBClassifier(random_state=seed))\n",
    "])"
   ]
  },
  {
   "cell_type": "code",
   "execution_count": 73,
   "id": "baf675ab",
   "metadata": {},
   "outputs": [],
   "source": [
    "# Define the parameter grids for each model\n",
    "param_grid_rf = {\n",
    "    'model__n_estimators': [10, 50, 100],\n",
    "    'model__max_depth': [3, 5, 7, 9],\n",
    "    'model__random_state': [1380]\n",
    "}\n",
    "\n",
    "param_grid_svc = {\n",
    "    'model__C': [0.01, 0.1, 1],\n",
    "    'model__class_weight': ['balanced', None],\n",
    "    'model__kernel': ['linear', 'rbf'],\n",
    "    'model__probability': [True],\n",
    "    'model__random_state': [1380]\n",
    "}\n",
    "\n",
    "param_grid_xgb = {\n",
    "    'model__learning_rate': [0.1],\n",
    "    'model__max_depth': [6, 7, 3, 10],\n",
    "    'model__scale_pos_weight': [1],\n",
    "    'model__subsample': [1, 0.5],\n",
    "    'model__alpha': [0],\n",
    "    'model__random_state': [1380],\n",
    "    'model__use_label_encoder': [False],\n",
    "    'model__objective': ['binary:logistic'],\n",
    "    \n",
    "}"
   ]
  },
  {
   "cell_type": "code",
   "execution_count": 74,
   "id": "73d4b2d6",
   "metadata": {},
   "outputs": [
    {
     "name": "stdout",
     "output_type": "stream",
     "text": [
      "Random Forest: Mean score using nested cross-validation is: 0.675 ± 0.134\n",
      "SVC: Mean score using nested cross-validation is: 0.652 ± 0.144\n",
      "XGBoost: Mean score using nested cross-validation is: 0.719 ± 0.092\n"
     ]
    }
   ],
   "source": [
    "# Declare the inner and outer cross-validation strategies\n",
    "inner_cv = StratifiedKFold(n_splits=10, shuffle=True, random_state=seed)\n",
    "outer_cv = StratifiedKFold(n_splits=10, shuffle=True, random_state=seed)\n",
    "\n",
    "# Models to evaluate\n",
    "models = {\n",
    "    'Random Forest': (pipeline_rf, param_grid_rf),\n",
    "    'SVC': (pipeline_svc, param_grid_svc),\n",
    "    'XGBoost': (pipeline_xgb, param_grid_xgb)\n",
    "}\n",
    "\n",
    "# Perform nested cross-validation for each model\n",
    "for model_name, (pipeline, param_grid) in models.items():\n",
    "    # Inner cross-validation for parameter search\n",
    "    model = GridSearchCV(estimator=pipeline, param_grid=param_grid, cv=inner_cv, n_jobs=1, scoring='f1_macro')\n",
    "\n",
    "    # Outer cross-validation to compute the testing score\n",
    "    test_score = cross_val_score(model, data, target, cv=outer_cv, n_jobs=1, scoring='f1_macro')\n",
    "\n",
    "    print(f\"{model_name}: Mean score using nested cross-validation is: {test_score.mean():.3f} ± {test_score.std():.3f}\")"
   ]
  },
  {
   "cell_type": "markdown",
   "id": "3a98e19f",
   "metadata": {},
   "source": [
    "# fMRI+morphometry dataset. Scores estimation without feature extraction"
   ]
  },
  {
   "cell_type": "code",
   "execution_count": 23,
   "id": "cef2edbc",
   "metadata": {},
   "outputs": [],
   "source": [
    "target =morh_and_fmri.target\n",
    "data =morh_and_fmri.drop(columns=['target', 'ID'])"
   ]
  },
  {
   "cell_type": "code",
   "execution_count": 24,
   "id": "5993eee4",
   "metadata": {},
   "outputs": [],
   "source": [
    "# Define the pipeline for feature selection and model training\n",
    "pipeline_lr = Pipeline([\n",
    "    (\"scaler\", StandardScaler()),\n",
    "    (\"model\", LogisticRegression(random_state=seed))\n",
    "])\n",
    "\n",
    "pipeline_rf = Pipeline([\n",
    "    (\"scaler\", StandardScaler()),\n",
    "    (\"model\", RandomForestClassifier(random_state=seed))\n",
    "])\n",
    "\n",
    "pipeline_svc = Pipeline([\n",
    "    (\"scaler\", StandardScaler()),\n",
    "    (\"model\", SVC(random_state=seed))\n",
    "])\n",
    "\n",
    "pipeline_xgb = Pipeline([\n",
    "    (\"scaler\", StandardScaler()),\n",
    "    (\"model\", XGBClassifier(random_state=seed))\n",
    "])"
   ]
  },
  {
   "cell_type": "code",
   "execution_count": 25,
   "id": "7d69e2fc",
   "metadata": {},
   "outputs": [],
   "source": [
    "# Define the parameter grids for each model\n",
    "param_grid_lr = {\n",
    "    'model__C': [0.01, 0.1, 1],\n",
    "    'model__solver': ['liblinear'],\n",
    "    'model__penalty': ['l1', 'l2'],\n",
    "    'model__random_state': [1380]\n",
    "}\n",
    "\n",
    "param_grid_rf = {\n",
    "    'model__n_estimators': [10, 50, 100],\n",
    "    'model__max_depth': [3, 5, 7, 9],\n",
    "    'model__random_state': [1380]\n",
    "}\n",
    "\n",
    "param_grid_svc = {\n",
    "    'model__C': [0.01, 0.1, 1],\n",
    "    'model__class_weight': ['balanced', None],\n",
    "    'model__kernel': ['linear', 'rbf'],\n",
    "    'model__probability': [True],\n",
    "    'model__random_state': [1380]\n",
    "}\n",
    "\n",
    "param_grid_xgb = {\n",
    "    'model__learning_rate': [0.1],\n",
    "    'model__max_depth': [6, 7, 3, 10],\n",
    "    'model__scale_pos_weight': [1],\n",
    "    'model__subsample': [1, 0.5],\n",
    "    'model__alpha': [0],\n",
    "    'model__random_state': [1380],\n",
    "    'model__use_label_encoder': [False],\n",
    "    'model__objective': ['binary:logistic'],\n",
    "    \n",
    "}"
   ]
  },
  {
   "cell_type": "code",
   "execution_count": 26,
   "id": "b0055c6a",
   "metadata": {},
   "outputs": [
    {
     "name": "stderr",
     "output_type": "stream",
     "text": [
      "/opt/conda/lib/python3.9/site-packages/sklearn/utils/deprecation.py:101: FutureWarning: Attribute _pairwise was deprecated in version 0.24 and will be removed in 1.1 (renaming of 0.26).\n",
      "  warnings.warn(msg, category=FutureWarning)\n"
     ]
    },
    {
     "name": "stdout",
     "output_type": "stream",
     "text": [
      "Logistic Regression: Mean score using nested cross-validation is: 0.682 ± 0.117\n"
     ]
    },
    {
     "name": "stderr",
     "output_type": "stream",
     "text": [
      "/opt/conda/lib/python3.9/site-packages/sklearn/utils/deprecation.py:101: FutureWarning: Attribute _pairwise was deprecated in version 0.24 and will be removed in 1.1 (renaming of 0.26).\n",
      "  warnings.warn(msg, category=FutureWarning)\n",
      "/opt/conda/lib/python3.9/site-packages/sklearn/utils/deprecation.py:101: FutureWarning: Attribute _pairwise was deprecated in version 0.24 and will be removed in 1.1 (renaming of 0.26).\n",
      "  warnings.warn(msg, category=FutureWarning)\n"
     ]
    },
    {
     "name": "stdout",
     "output_type": "stream",
     "text": [
      "Random Forest: Mean score using nested cross-validation is: 0.613 ± 0.156\n"
     ]
    },
    {
     "name": "stderr",
     "output_type": "stream",
     "text": [
      "/opt/conda/lib/python3.9/site-packages/sklearn/utils/deprecation.py:101: FutureWarning: Attribute _pairwise was deprecated in version 0.24 and will be removed in 1.1 (renaming of 0.26).\n",
      "  warnings.warn(msg, category=FutureWarning)\n",
      "/opt/conda/lib/python3.9/site-packages/sklearn/utils/deprecation.py:101: FutureWarning: Attribute _pairwise was deprecated in version 0.24 and will be removed in 1.1 (renaming of 0.26).\n",
      "  warnings.warn(msg, category=FutureWarning)\n",
      "/opt/conda/lib/python3.9/site-packages/sklearn/utils/deprecation.py:101: FutureWarning: Attribute _pairwise was deprecated in version 0.24 and will be removed in 1.1 (renaming of 0.26).\n",
      "  warnings.warn(msg, category=FutureWarning)\n",
      "/opt/conda/lib/python3.9/site-packages/sklearn/utils/deprecation.py:101: FutureWarning: Attribute _pairwise was deprecated in version 0.24 and will be removed in 1.1 (renaming of 0.26).\n",
      "  warnings.warn(msg, category=FutureWarning)\n"
     ]
    },
    {
     "name": "stdout",
     "output_type": "stream",
     "text": [
      "SVC: Mean score using nested cross-validation is: 0.687 ± 0.110\n"
     ]
    },
    {
     "name": "stderr",
     "output_type": "stream",
     "text": [
      "/opt/conda/lib/python3.9/site-packages/sklearn/utils/deprecation.py:101: FutureWarning: Attribute _pairwise was deprecated in version 0.24 and will be removed in 1.1 (renaming of 0.26).\n",
      "  warnings.warn(msg, category=FutureWarning)\n",
      "/opt/conda/lib/python3.9/site-packages/sklearn/utils/deprecation.py:101: FutureWarning: Attribute _pairwise was deprecated in version 0.24 and will be removed in 1.1 (renaming of 0.26).\n",
      "  warnings.warn(msg, category=FutureWarning)\n",
      "/opt/conda/lib/python3.9/site-packages/xgboost/sklearn.py:1395: UserWarning: `use_label_encoder` is deprecated in 1.7.0.\n",
      "  warnings.warn(\"`use_label_encoder` is deprecated in 1.7.0.\")\n",
      "/opt/conda/lib/python3.9/site-packages/xgboost/sklearn.py:1395: UserWarning: `use_label_encoder` is deprecated in 1.7.0.\n",
      "  warnings.warn(\"`use_label_encoder` is deprecated in 1.7.0.\")\n",
      "/opt/conda/lib/python3.9/site-packages/xgboost/sklearn.py:1395: UserWarning: `use_label_encoder` is deprecated in 1.7.0.\n",
      "  warnings.warn(\"`use_label_encoder` is deprecated in 1.7.0.\")\n",
      "/opt/conda/lib/python3.9/site-packages/xgboost/sklearn.py:1395: UserWarning: `use_label_encoder` is deprecated in 1.7.0.\n",
      "  warnings.warn(\"`use_label_encoder` is deprecated in 1.7.0.\")\n",
      "/opt/conda/lib/python3.9/site-packages/xgboost/sklearn.py:1395: UserWarning: `use_label_encoder` is deprecated in 1.7.0.\n",
      "  warnings.warn(\"`use_label_encoder` is deprecated in 1.7.0.\")\n",
      "/opt/conda/lib/python3.9/site-packages/xgboost/sklearn.py:1395: UserWarning: `use_label_encoder` is deprecated in 1.7.0.\n",
      "  warnings.warn(\"`use_label_encoder` is deprecated in 1.7.0.\")\n",
      "/opt/conda/lib/python3.9/site-packages/xgboost/sklearn.py:1395: UserWarning: `use_label_encoder` is deprecated in 1.7.0.\n",
      "  warnings.warn(\"`use_label_encoder` is deprecated in 1.7.0.\")\n",
      "/opt/conda/lib/python3.9/site-packages/xgboost/sklearn.py:1395: UserWarning: `use_label_encoder` is deprecated in 1.7.0.\n",
      "  warnings.warn(\"`use_label_encoder` is deprecated in 1.7.0.\")\n",
      "/opt/conda/lib/python3.9/site-packages/xgboost/sklearn.py:1395: UserWarning: `use_label_encoder` is deprecated in 1.7.0.\n",
      "  warnings.warn(\"`use_label_encoder` is deprecated in 1.7.0.\")\n",
      "/opt/conda/lib/python3.9/site-packages/xgboost/sklearn.py:1395: UserWarning: `use_label_encoder` is deprecated in 1.7.0.\n",
      "  warnings.warn(\"`use_label_encoder` is deprecated in 1.7.0.\")\n"
     ]
    },
    {
     "name": "stdout",
     "output_type": "stream",
     "text": [
      "XGBoost: Mean score using nested cross-validation is: 0.749 ± 0.152\n"
     ]
    }
   ],
   "source": [
    "# Declare the inner and outer cross-validation strategies\n",
    "inner_cv = StratifiedKFold(n_splits=10, shuffle=True, random_state=seed)\n",
    "outer_cv = StratifiedKFold(n_splits=10, shuffle=True, random_state=seed)\n",
    "\n",
    "# Models to evaluate\n",
    "models = {\n",
    "    'Logistic Regression': (pipeline_lr, param_grid_lr),\n",
    "    'Random Forest': (pipeline_rf, param_grid_rf),\n",
    "    'SVC': (pipeline_svc, param_grid_svc),\n",
    "    'XGBoost': (pipeline_xgb, param_grid_xgb)\n",
    "}\n",
    "\n",
    "# Perform nested cross-validation for each model\n",
    "for model_name, (pipeline, param_grid) in models.items():\n",
    "    # Inner cross-validation for parameter search\n",
    "    model = GridSearchCV(estimator=pipeline, param_grid=param_grid, cv=inner_cv, n_jobs=-1, scoring='f1_macro')\n",
    "\n",
    "    # Outer cross-validation to compute the testing score\n",
    "    test_score = cross_val_score(model, data, target, cv=outer_cv, n_jobs=-1, scoring='f1_macro')\n",
    "\n",
    "    print(f\"{model_name}: Mean score using nested cross-validation is: {test_score.mean():.3f} ± {test_score.std():.3f}\")"
   ]
  },
  {
   "cell_type": "markdown",
   "id": "98044f37",
   "metadata": {},
   "source": [
    "# Early fusion for morphometry dataset"
   ]
  },
  {
   "cell_type": "code",
   "execution_count": 42,
   "id": "e91f111f",
   "metadata": {},
   "outputs": [],
   "source": [
    "target =morp_dataset.target\n",
    "data =morp_dataset.drop(columns=['target', 'ID', 'file', 'Sex'])"
   ]
  },
  {
   "cell_type": "code",
   "execution_count": 43,
   "id": "8b622eca",
   "metadata": {},
   "outputs": [],
   "source": [
    "# Define the pipeline for feature selection and model training\n",
    "pipeline_rf = Pipeline([\n",
    "    (\"scaler\", StandardScaler()),\n",
    "    (\"fs\", SelectFromModel(estimator=LogisticRegression(random_state=seed), max_features=92)),\n",
    "    (\"model\", RandomForestClassifier(random_state=seed))\n",
    "])\n",
    "\n",
    "pipeline_svc = Pipeline([\n",
    "    (\"scaler\", StandardScaler()),\n",
    "    (\"fs\", SelectFromModel(estimator=LogisticRegression(random_state=seed), max_features=92)),\n",
    "    (\"model\", SVC(random_state=seed))\n",
    "])\n",
    "\n",
    "pipeline_xgb = Pipeline([\n",
    "    (\"scaler\", StandardScaler()),\n",
    "    (\"fs\", SelectFromModel(estimator=LogisticRegression(random_state=seed), max_features=92)),\n",
    "    (\"model\", XGBClassifier(random_state=seed))\n",
    "])"
   ]
  },
  {
   "cell_type": "code",
   "execution_count": 44,
   "id": "43dadc06",
   "metadata": {},
   "outputs": [],
   "source": [
    "# Define the parameter grids for each model\n",
    "param_grid_rf = {\n",
    "    'model__n_estimators': [10, 50, 100],\n",
    "    'model__max_depth': [3, 5, 7, 9],\n",
    "    'model__random_state': [1380]\n",
    "}\n",
    "\n",
    "param_grid_svc = {\n",
    "    'model__C': [0.01, 0.1, 1],\n",
    "    'model__class_weight': ['balanced', None],\n",
    "    'model__kernel': ['linear', 'rbf'],\n",
    "    'model__probability': [True],\n",
    "    'model__random_state': [1380]\n",
    "}\n",
    "\n",
    "param_grid_xgb = {\n",
    "    'model__learning_rate': [0.1],\n",
    "    'model__max_depth': [6, 7, 3, 10],\n",
    "    'model__scale_pos_weight': [1],\n",
    "    'model__subsample': [1, 0.5],\n",
    "    'model__alpha': [0],\n",
    "    'model__random_state': [1380],\n",
    "    'model__use_label_encoder': [False],\n",
    "    'model__objective': ['binary:logistic'],\n",
    "    \n",
    "}"
   ]
  },
  {
   "cell_type": "code",
   "execution_count": 45,
   "id": "dca5fe23",
   "metadata": {},
   "outputs": [
    {
     "name": "stdout",
     "output_type": "stream",
     "text": [
      "Random Forest: Mean score using nested cross-validation is: 0.567 ± 0.114\n",
      "SVC: Mean score using nested cross-validation is: 0.565 ± 0.119\n",
      "XGBoost: Mean score using nested cross-validation is: 0.565 ± 0.093\n"
     ]
    }
   ],
   "source": [
    "# Declare the inner and outer cross-validation strategies\n",
    "inner_cv = StratifiedKFold(n_splits=10, shuffle=True, random_state=seed)\n",
    "outer_cv = StratifiedKFold(n_splits=10, shuffle=True, random_state=seed)\n",
    "\n",
    "# Models to evaluate\n",
    "models = {\n",
    "    'Random Forest': (pipeline_rf, param_grid_rf),\n",
    "    'SVC': (pipeline_svc, param_grid_svc),\n",
    "    'XGBoost': (pipeline_xgb, param_grid_xgb)\n",
    "}\n",
    "\n",
    "# Perform nested cross-validation for each model\n",
    "for model_name, (pipeline, param_grid) in models.items():\n",
    "    # Inner cross-validation for parameter search\n",
    "    model = GridSearchCV(estimator=pipeline, param_grid=param_grid, cv=inner_cv, n_jobs=1, scoring='f1_macro')\n",
    "\n",
    "    # Outer cross-validation to compute the testing score\n",
    "    test_score = cross_val_score(model, data, target, cv=outer_cv, n_jobs=1, scoring='f1_macro')\n",
    "\n",
    "    print(f\"{model_name}: Mean score using nested cross-validation is: {test_score.mean():.3f} ± {test_score.std():.3f}\")"
   ]
  },
  {
   "cell_type": "markdown",
   "id": "e1fe57c8",
   "metadata": {},
   "source": [
    "# Morphometry dataset. Scores estimation without feature extraction"
   ]
  },
  {
   "cell_type": "code",
   "execution_count": 20,
   "id": "c9fe8179",
   "metadata": {},
   "outputs": [],
   "source": [
    "target =morp_dataset.target\n",
    "data =morp_dataset.drop(columns=['target', 'ID', 'file', 'Sex'])"
   ]
  },
  {
   "cell_type": "code",
   "execution_count": 21,
   "id": "300d7189",
   "metadata": {},
   "outputs": [],
   "source": [
    "# Define the pipeline for feature selection and model training\n",
    "pipeline_lr = Pipeline([\n",
    "    (\"scaler\", StandardScaler()),\n",
    "    (\"model\", LogisticRegression(random_state=seed))\n",
    "])\n",
    "\n",
    "pipeline_rf = Pipeline([\n",
    "    (\"scaler\", StandardScaler()),\n",
    "    (\"model\", RandomForestClassifier(random_state=seed))\n",
    "])\n",
    "\n",
    "pipeline_svc = Pipeline([\n",
    "    (\"scaler\", StandardScaler()),\n",
    "    (\"model\", SVC(random_state=seed))\n",
    "])\n",
    "\n",
    "pipeline_xgb = Pipeline([\n",
    "    (\"scaler\", StandardScaler()),\n",
    "    (\"model\", XGBClassifier(random_state=seed))\n",
    "])"
   ]
  },
  {
   "cell_type": "code",
   "execution_count": 22,
   "id": "afc38976",
   "metadata": {},
   "outputs": [],
   "source": [
    "# Define the parameter grids for each model\n",
    "param_grid_lr = {\n",
    "    'model__C': [0.01, 0.1, 1],\n",
    "    'model__solver': ['liblinear'],\n",
    "    'model__penalty': ['l1', 'l2'],\n",
    "    'model__random_state': [1380]\n",
    "}\n",
    "\n",
    "param_grid_rf = {\n",
    "    'model__n_estimators': [10, 50, 100],\n",
    "    'model__max_depth': [3, 5, 7, 9],\n",
    "    'model__random_state': [1380]\n",
    "}\n",
    "\n",
    "param_grid_svc = {\n",
    "    'model__C': [0.01, 0.1, 1],\n",
    "    'model__class_weight': ['balanced', None],\n",
    "    'model__kernel': ['linear', 'rbf'],\n",
    "    'model__probability': [True],\n",
    "    'model__random_state': [1380]\n",
    "}\n",
    "\n",
    "param_grid_xgb = {\n",
    "    'model__learning_rate': [0.1],\n",
    "    'model__max_depth': [6, 7, 3, 10],\n",
    "    'model__scale_pos_weight': [1],\n",
    "    'model__subsample': [1, 0.5],\n",
    "    'model__alpha': [0],\n",
    "    'model__random_state': [1380],\n",
    "    'model__use_label_encoder': [False],\n",
    "    'model__objective': ['binary:logistic'],\n",
    "    \n",
    "}"
   ]
  },
  {
   "cell_type": "code",
   "execution_count": 23,
   "id": "5affbc53",
   "metadata": {},
   "outputs": [
    {
     "name": "stdout",
     "output_type": "stream",
     "text": [
      "Logistic Regression: Mean score using nested cross-validation is: 0.662 ± 0.095\n",
      "Random Forest: Mean score using nested cross-validation is: 0.581 ± 0.117\n",
      "SVC: Mean score using nested cross-validation is: 0.609 ± 0.114\n"
     ]
    },
    {
     "name": "stderr",
     "output_type": "stream",
     "text": [
      "/opt/conda/lib/python3.9/site-packages/sklearn/utils/deprecation.py:101: FutureWarning: Attribute _pairwise was deprecated in version 0.24 and will be removed in 1.1 (renaming of 0.26).\n",
      "  warnings.warn(msg, category=FutureWarning)\n",
      "/opt/conda/lib/python3.9/site-packages/xgboost/sklearn.py:1395: UserWarning: `use_label_encoder` is deprecated in 1.7.0.\n",
      "  warnings.warn(\"`use_label_encoder` is deprecated in 1.7.0.\")\n",
      "/opt/conda/lib/python3.9/site-packages/xgboost/sklearn.py:1395: UserWarning: `use_label_encoder` is deprecated in 1.7.0.\n",
      "  warnings.warn(\"`use_label_encoder` is deprecated in 1.7.0.\")\n",
      "/opt/conda/lib/python3.9/site-packages/xgboost/sklearn.py:1395: UserWarning: `use_label_encoder` is deprecated in 1.7.0.\n",
      "  warnings.warn(\"`use_label_encoder` is deprecated in 1.7.0.\")\n",
      "/opt/conda/lib/python3.9/site-packages/xgboost/sklearn.py:1395: UserWarning: `use_label_encoder` is deprecated in 1.7.0.\n",
      "  warnings.warn(\"`use_label_encoder` is deprecated in 1.7.0.\")\n",
      "/opt/conda/lib/python3.9/site-packages/xgboost/sklearn.py:1395: UserWarning: `use_label_encoder` is deprecated in 1.7.0.\n",
      "  warnings.warn(\"`use_label_encoder` is deprecated in 1.7.0.\")\n",
      "/opt/conda/lib/python3.9/site-packages/xgboost/sklearn.py:1395: UserWarning: `use_label_encoder` is deprecated in 1.7.0.\n",
      "  warnings.warn(\"`use_label_encoder` is deprecated in 1.7.0.\")\n",
      "/opt/conda/lib/python3.9/site-packages/xgboost/sklearn.py:1395: UserWarning: `use_label_encoder` is deprecated in 1.7.0.\n",
      "  warnings.warn(\"`use_label_encoder` is deprecated in 1.7.0.\")\n",
      "/opt/conda/lib/python3.9/site-packages/xgboost/sklearn.py:1395: UserWarning: `use_label_encoder` is deprecated in 1.7.0.\n",
      "  warnings.warn(\"`use_label_encoder` is deprecated in 1.7.0.\")\n",
      "/opt/conda/lib/python3.9/site-packages/xgboost/sklearn.py:1395: UserWarning: `use_label_encoder` is deprecated in 1.7.0.\n",
      "  warnings.warn(\"`use_label_encoder` is deprecated in 1.7.0.\")\n",
      "/opt/conda/lib/python3.9/site-packages/xgboost/sklearn.py:1395: UserWarning: `use_label_encoder` is deprecated in 1.7.0.\n",
      "  warnings.warn(\"`use_label_encoder` is deprecated in 1.7.0.\")\n"
     ]
    },
    {
     "name": "stdout",
     "output_type": "stream",
     "text": [
      "XGBoost: Mean score using nested cross-validation is: 0.631 ± 0.083\n"
     ]
    }
   ],
   "source": [
    "# Declare the inner and outer cross-validation strategies\n",
    "inner_cv = StratifiedKFold(n_splits=10, shuffle=True, random_state=seed)\n",
    "outer_cv = StratifiedKFold(n_splits=10, shuffle=True, random_state=seed)\n",
    "\n",
    "# Models to evaluate\n",
    "models = {\n",
    "    'Logistic Regression': (pipeline_lr, param_grid_lr),\n",
    "    'Random Forest': (pipeline_rf, param_grid_rf),\n",
    "    'SVC': (pipeline_svc, param_grid_svc),\n",
    "    'XGBoost': (pipeline_xgb, param_grid_xgb)\n",
    "}\n",
    "\n",
    "# Perform nested cross-validation for each model\n",
    "for model_name, (pipeline, param_grid) in models.items():\n",
    "    # Inner cross-validation for parameter search\n",
    "    model = GridSearchCV(estimator=pipeline, param_grid=param_grid, cv=inner_cv, n_jobs=-1, scoring='f1_macro')\n",
    "\n",
    "    # Outer cross-validation to compute the testing score\n",
    "    test_score = cross_val_score(model, data, target, cv=outer_cv, n_jobs=-1, scoring='f1_macro')\n",
    "\n",
    "    print(f\"{model_name}: Mean score using nested cross-validation is: {test_score.mean():.3f} ± {test_score.std():.3f}\")"
   ]
  },
  {
   "cell_type": "markdown",
   "id": "60fa080e",
   "metadata": {},
   "source": [
    "# Late fusion. ML models without feature selection"
   ]
  },
  {
   "cell_type": "markdown",
   "id": "c5f8d656",
   "metadata": {},
   "source": [
    "### Logistic Regression"
   ]
  },
  {
   "cell_type": "code",
   "execution_count": 8,
   "id": "33564b9e",
   "metadata": {},
   "outputs": [],
   "source": [
    "# custom transformer for sklearn pipeline\n",
    "class ColumnExtractor(TransformerMixin, BaseEstimator):\n",
    "    def __init__(self, cols):\n",
    "        self.cols = cols\n",
    "\n",
    "    def transform(self, X):\n",
    "        col_list = []\n",
    "        for c in self.cols:\n",
    "            col_list.append(X.iloc[:, c:c+1])\n",
    "        return np.concatenate(col_list, axis=1)\n",
    "\n",
    "    def fit(self, X, y=None):\n",
    "        return self"
   ]
  },
  {
   "cell_type": "code",
   "execution_count": 92,
   "id": "17aee37d",
   "metadata": {},
   "outputs": [],
   "source": [
    "   # fit clf1 with df1\n",
    "pipe1 = Pipeline([\n",
    "    ('col_extract', ColumnExtractor( cols=range(0,927) )),\n",
    "    ( \"scaler\", StandardScaler()),\n",
    "    ('clf', LogisticRegression(random_state=seed))\n",
    "    ])\n",
    "\n",
    "\n",
    "pipe2 = Pipeline([\n",
    "    ('col_extract', ColumnExtractor( cols=range(927,7598) )),\n",
    "    ( \"scaler\", StandardScaler()),\n",
    "    ('clf', LogisticRegression(random_state=seed))\n",
    "    ])\n",
    "\n",
    "\n",
    "eclf = VotingClassifier(estimators=[('df1-clf1', pipe1), ('df2-clf2', pipe2)], voting='soft')"
   ]
  },
  {
   "cell_type": "code",
   "execution_count": 96,
   "id": "e57545db",
   "metadata": {},
   "outputs": [],
   "source": [
    "target =morh_and_fmri.target\n",
    "data_late =morh_and_fmri.drop(columns=['target', 'ID'])"
   ]
  },
  {
   "cell_type": "code",
   "execution_count": 97,
   "id": "65ea20c6",
   "metadata": {},
   "outputs": [],
   "source": [
    "param_grid = [\n",
    "    {\n",
    "        'df1-clf1__clf__penalty': ['l1', 'l2'],\n",
    "        'df1-clf1__clf__C': [0.1, 1, 10],\n",
    "        'df1-clf1__clf__fit_intercept': [True, False],\n",
    "        'df1-clf1__clf__solver': ['liblinear'],\n",
    "        'df1-clf1__clf__random_state': [1380]\n",
    "    },\n",
    "    {\n",
    "        'df2-clf2__clf__penalty': ['l1', 'l2'],\n",
    "        'df2-clf2__clf__C': [0.1, 1, 10],\n",
    "        'df2-clf2__clf__fit_intercept': [True, False],\n",
    "        'df2-clf2__clf__solver': ['liblinear'],\n",
    "        'df2-clf2__clf__random_state': [1380]\n",
    "    }\n",
    "]"
   ]
  },
  {
   "cell_type": "code",
   "execution_count": 98,
   "id": "7234c740",
   "metadata": {},
   "outputs": [
    {
     "name": "stdout",
     "output_type": "stream",
     "text": [
      "The mean score using nested cross-validation is: 0.740 ± 0.129\n"
     ]
    }
   ],
   "source": [
    "from sklearn.model_selection import cross_val_score, KFold\n",
    "\n",
    "# Declare the inner and outer cross-validation strategies\n",
    "inner_cv = StratifiedKFold(n_splits=10, shuffle=True, random_state=1380)\n",
    "outer_cv = StratifiedKFold(n_splits=10, shuffle=True, random_state=1380)\n",
    "\n",
    "# Inner cross-validation for parameter search\n",
    "model = GridSearchCV(\n",
    "    estimator=eclf, param_grid=param_grid, cv=inner_cv, n_jobs=-1\n",
    ")\n",
    "\n",
    "# Outer cross-validation to compute the testing score\n",
    "test_score = cross_val_score(model, data_late, target, cv=outer_cv, n_jobs=1,scoring='f1_macro')\n",
    "print(f\"The mean score using nested cross-validation is: \"\n",
    "      f\"{test_score.mean():.3f} ± {test_score.std():.3f}\")"
   ]
  },
  {
   "cell_type": "markdown",
   "id": "91a24098",
   "metadata": {},
   "source": [
    "### Random forest"
   ]
  },
  {
   "cell_type": "code",
   "execution_count": 99,
   "id": "364c8f97",
   "metadata": {},
   "outputs": [],
   "source": [
    "   # fit clf1 with df1\n",
    "pipe1 = Pipeline([\n",
    "    ('col_extract', ColumnExtractor( cols=range(0,927) )),\n",
    "    ( \"scaler\", StandardScaler()),\n",
    "    ('clf', RandomForestClassifier(random_state=seed))\n",
    "    ])\n",
    "\n",
    "\n",
    "pipe2 = Pipeline([\n",
    "    ('col_extract', ColumnExtractor( cols=range(927,7598) )),\n",
    "    ( \"scaler\", StandardScaler()),\n",
    "    ('clf', RandomForestClassifier(random_state=seed))\n",
    "    ])\n",
    "\n",
    "\n",
    "eclf = VotingClassifier(estimators=[('df1-clf1', pipe1), ('df2-clf2', pipe2)], voting='soft')"
   ]
  },
  {
   "cell_type": "code",
   "execution_count": null,
   "id": "e8283423",
   "metadata": {},
   "outputs": [],
   "source": [
    "target =morh_and_fmri.target\n",
    "data_late =morh_and_fmri.drop(columns=['target', 'ID'])"
   ]
  },
  {
   "cell_type": "code",
   "execution_count": 100,
   "id": "b86a67f5",
   "metadata": {},
   "outputs": [],
   "source": [
    "param_grid = [\n",
    "    {\n",
    "        'df1-clf1__clf__n_estimators': [10, 50, 100],\n",
    "        'df1-clf1__clf__max_depth': [3, 5, 7, 9],\n",
    "        'df1-clf1__clf__random_state': [1380]\n",
    "    },\n",
    "    {\n",
    "        'df2-clf2__clf__n_estimators': [10, 50, 100],\n",
    "        'df2-clf2__clf__max_depth': [3, 5, 7, 9],\n",
    "        'df2-clf2__clf__random_state': [1380]\n",
    "    }\n",
    "]"
   ]
  },
  {
   "cell_type": "code",
   "execution_count": 101,
   "id": "2a532d0f",
   "metadata": {},
   "outputs": [
    {
     "name": "stdout",
     "output_type": "stream",
     "text": [
      "The mean score using nested cross-validation is: 0.652 ± 0.138\n"
     ]
    }
   ],
   "source": [
    "from sklearn.model_selection import cross_val_score, KFold\n",
    "\n",
    "# Declare the inner and outer cross-validation strategies\n",
    "inner_cv = StratifiedKFold(n_splits=10, shuffle=True, random_state=1380)\n",
    "outer_cv = StratifiedKFold(n_splits=10, shuffle=True, random_state=1380)\n",
    "\n",
    "# Inner cross-validation for parameter search\n",
    "model = GridSearchCV(\n",
    "    estimator=eclf, param_grid=param_grid, cv=inner_cv, n_jobs=-1\n",
    ")\n",
    "\n",
    "# Outer cross-validation to compute the testing score\n",
    "test_score = cross_val_score(model, data_late, target, cv=outer_cv, n_jobs=1,scoring='f1_macro')\n",
    "print(f\"The mean score using nested cross-validation is: \"\n",
    "      f\"{test_score.mean():.3f} ± {test_score.std():.3f}\")"
   ]
  },
  {
   "cell_type": "markdown",
   "id": "53c9603f",
   "metadata": {},
   "source": [
    "### Random Forest+feature extraction from Logistic Regression"
   ]
  },
  {
   "cell_type": "code",
   "execution_count": 45,
   "id": "d15424e5",
   "metadata": {},
   "outputs": [],
   "source": [
    "# custom transformer for sklearn pipeline\n",
    "class ColumnExtractor(TransformerMixin, BaseEstimator):\n",
    "    def __init__(self, cols):\n",
    "        self.cols = cols\n",
    "\n",
    "    def transform(self, X):\n",
    "        col_list = []\n",
    "        for c in self.cols:\n",
    "            col_list.append(X.iloc[:, c:c+1])\n",
    "        return np.concatenate(col_list, axis=1)\n",
    "\n",
    "    def fit(self, X, y=None):\n",
    "        return self"
   ]
  },
  {
   "cell_type": "code",
   "execution_count": 46,
   "id": "5c4d9d08",
   "metadata": {},
   "outputs": [],
   "source": [
    "   # fit clf1 with df1\n",
    "pipe1 = Pipeline([\n",
    "    ('col_extract', ColumnExtractor( cols=range(0,927) )), \n",
    "    ( \"scaler\", StandardScaler()),\n",
    "    (\"fs\", SelectFromModel(estimator=LogisticRegression(random_state=seed), max_features=92)),\n",
    "    ('clf', RandomForestClassifier(random_state=seed))\n",
    "    ])\n",
    "\n",
    "\n",
    "pipe2 = Pipeline([\n",
    "    ('col_extract', ColumnExtractor( cols=range(927,7598) )),\n",
    "    ( \"scaler\", StandardScaler()),\n",
    "    (\"fs\", SelectFromModel(estimator=LogisticRegression(random_state=seed), max_features=92)),\n",
    "    ('clf', RandomForestClassifier(random_state=seed))\n",
    "    ])\n",
    "\n",
    "\n",
    "eclf = VotingClassifier(estimators=[('df1-clf1', pipe1), ('df2-clf2', pipe2)], voting='soft')\n"
   ]
  },
  {
   "cell_type": "code",
   "execution_count": 47,
   "id": "9002cfce",
   "metadata": {},
   "outputs": [],
   "source": [
    "target =morh_and_fmri.target\n",
    "data_late =morh_and_fmri.drop(columns=['target', 'ID'])"
   ]
  },
  {
   "cell_type": "code",
   "execution_count": 48,
   "id": "0712ab94",
   "metadata": {},
   "outputs": [],
   "source": [
    "param_grid = [\n",
    "    {\n",
    "        'df1-clf1__clf__n_estimators': [10, 50, 100],\n",
    "        'df1-clf1__clf__max_depth': [3, 5, 7, 9],\n",
    "        'df1-clf1__clf__random_state': [1380]\n",
    "    },\n",
    "    {\n",
    "        'df2-clf2__clf__n_estimators': [10, 50, 100],\n",
    "        'df2-clf2__clf__max_depth': [3, 5, 7, 9],\n",
    "        'df2-clf2__clf__random_state': [1380]\n",
    "    }\n",
    "]"
   ]
  },
  {
   "cell_type": "code",
   "execution_count": 49,
   "id": "8a1e87e3",
   "metadata": {},
   "outputs": [
    {
     "name": "stdout",
     "output_type": "stream",
     "text": [
      "The mean score using nested cross-validation is: 0.734 ± 0.123\n"
     ]
    }
   ],
   "source": [
    "from sklearn.model_selection import cross_val_score, KFold\n",
    "\n",
    "# Declare the inner and outer cross-validation strategies\n",
    "inner_cv = StratifiedKFold(n_splits=10, shuffle=True, random_state=1380)\n",
    "outer_cv = StratifiedKFold(n_splits=10, shuffle=True, random_state=1380)\n",
    "\n",
    "# Inner cross-validation for parameter search\n",
    "model = GridSearchCV(\n",
    "    estimator=eclf, param_grid=param_grid, cv=inner_cv, n_jobs=-1\n",
    ")\n",
    "\n",
    "# Outer cross-validation to compute the testing score\n",
    "test_score = cross_val_score(model, data_late, target, cv=outer_cv, n_jobs=-1,scoring='f1_macro')\n",
    "print(f\"The mean score using nested cross-validation is: \"\n",
    "      f\"{test_score.mean():.3f} ± {test_score.std():.3f}\")"
   ]
  },
  {
   "cell_type": "markdown",
   "id": "7733bbb6",
   "metadata": {},
   "source": [
    "### SVC"
   ]
  },
  {
   "cell_type": "code",
   "execution_count": 31,
   "id": "5c2cec6f",
   "metadata": {},
   "outputs": [],
   "source": [
    "# custom transformer for sklearn pipeline\n",
    "class ColumnExtractor(TransformerMixin, BaseEstimator):\n",
    "    def __init__(self, cols):\n",
    "        self.cols = cols\n",
    "\n",
    "    def transform(self, X):\n",
    "        col_list = []\n",
    "        for c in self.cols:\n",
    "            col_list.append(X.iloc[:, c:c+1])\n",
    "        return np.concatenate(col_list, axis=1)\n",
    "\n",
    "    def fit(self, X, y=None):\n",
    "        return self"
   ]
  },
  {
   "cell_type": "code",
   "execution_count": 32,
   "id": "64f71ca4",
   "metadata": {},
   "outputs": [],
   "source": [
    "   # fit clf1 with df1\n",
    "pipe1 = Pipeline([\n",
    "    ('col_extract', ColumnExtractor( cols=range(0,927) )), \n",
    "    ( \"scaler\", StandardScaler()),\n",
    "    (\"fs\", SelectFromModel(estimator=LogisticRegression(random_state=seed), max_features=92)),\n",
    "    ('clf', SVC(random_state=seed, probability=True))\n",
    "    ])\n",
    "\n",
    "\n",
    "pipe2 = Pipeline([\n",
    "    ('col_extract', ColumnExtractor( cols=range(927,7598) )),\n",
    "    ( \"scaler\", StandardScaler()),\n",
    "    (\"fs\", SelectFromModel(estimator=LogisticRegression(random_state=seed), max_features=92)),\n",
    "    ('clf', SVC(random_state=seed,probability=True))\n",
    "    ])\n",
    "\n",
    "\n",
    "eclf = VotingClassifier(estimators=[('df1-clf1', pipe1), ('df2-clf2', pipe2)], voting='soft')\n"
   ]
  },
  {
   "cell_type": "code",
   "execution_count": 33,
   "id": "4381f918",
   "metadata": {},
   "outputs": [],
   "source": [
    "target =morh_and_fmri.target\n",
    "data_late =morh_and_fmri.drop(columns=['target', 'ID'])"
   ]
  },
  {
   "cell_type": "code",
   "execution_count": 34,
   "id": "c7efe166",
   "metadata": {},
   "outputs": [
    {
     "data": {
      "text/plain": [
       "0      0\n",
       "1      1\n",
       "2      1\n",
       "3      1\n",
       "4      1\n",
       "      ..\n",
       "137    0\n",
       "138    0\n",
       "139    0\n",
       "140    1\n",
       "141    0\n",
       "Name: target, Length: 142, dtype: int64"
      ]
     },
     "execution_count": 34,
     "metadata": {},
     "output_type": "execute_result"
    }
   ],
   "source": [
    "target"
   ]
  },
  {
   "cell_type": "code",
   "execution_count": 35,
   "id": "46434625",
   "metadata": {},
   "outputs": [],
   "source": [
    "param_grid = [\n",
    "    {\n",
    "        'df1-clf1__clf__C': [0.01, 0.1, 1],\n",
    "        'df1-clf1__clf__class_weight': ['balanced', None],\n",
    "        'df1-clf1__clf__kernel': ['linear', 'rbf'],\n",
    "        'df1-clf1__clf__probability': [True],\n",
    "        'df1-clf1__clf__random_state': [seed]\n",
    "    },\n",
    "    {\n",
    "        'df2-clf2__clf__C': [0.01, 0.1, 1],\n",
    "        'df2-clf2__clf__class_weight': ['balanced', None],\n",
    "        'df2-clf2__clf__kernel': ['linear', 'rbf'],\n",
    "        'df2-clf2__clf__probability': [True],\n",
    "        'df2-clf2__clf__random_state': [seed]\n",
    "    }\n",
    "]"
   ]
  },
  {
   "cell_type": "code",
   "execution_count": 36,
   "id": "9e642a8a",
   "metadata": {},
   "outputs": [
    {
     "name": "stdout",
     "output_type": "stream",
     "text": [
      "The mean score using nested cross-validation is: 0.732 ± 0.091\n"
     ]
    }
   ],
   "source": [
    "from sklearn.model_selection import cross_val_score, KFold\n",
    "\n",
    "# Declare the inner and outer cross-validation strategies\n",
    "inner_cv = StratifiedKFold(n_splits=10, shuffle=True, random_state=1380)\n",
    "outer_cv = StratifiedKFold(n_splits=10, shuffle=True, random_state=1380)\n",
    "\n",
    "# Inner cross-validation for parameter search\n",
    "model = GridSearchCV(\n",
    "    estimator=eclf, param_grid=param_grid, cv=inner_cv, n_jobs=-1\n",
    ")\n",
    "\n",
    "# Outer cross-validation to compute the testing score\n",
    "test_score = cross_val_score(model, data_late, target, cv=outer_cv, n_jobs=-1,scoring='f1_macro')\n",
    "print(f\"The mean score using nested cross-validation is: \"\n",
    "      f\"{test_score.mean():.3f} ± {test_score.std():.3f}\")"
   ]
  },
  {
   "cell_type": "markdown",
   "id": "062e8431",
   "metadata": {},
   "source": [
    "### SVC+feature extraction from Logistic Regression"
   ]
  },
  {
   "cell_type": "code",
   "execution_count": 8,
   "id": "75dedf0a",
   "metadata": {},
   "outputs": [],
   "source": [
    "# custom transformer for sklearn pipeline\n",
    "class ColumnExtractor(TransformerMixin, BaseEstimator):\n",
    "    def __init__(self, cols):\n",
    "        self.cols = cols\n",
    "\n",
    "    def transform(self, X):\n",
    "        col_list = []\n",
    "        for c in self.cols:\n",
    "            col_list.append(X.iloc[:, c:c+1])\n",
    "        return np.concatenate(col_list, axis=1)\n",
    "\n",
    "    def fit(self, X, y=None):\n",
    "        return self"
   ]
  },
  {
   "cell_type": "code",
   "execution_count": 9,
   "id": "239e253f",
   "metadata": {},
   "outputs": [],
   "source": [
    "   # fit clf1 with df1\n",
    "pipe1 = Pipeline([\n",
    "    ('col_extract', ColumnExtractor( cols=range(0,927) )), \n",
    "    ( \"scaler\", StandardScaler()),\n",
    "    (\"fs\", SelectFromModel(estimator=LogisticRegression(random_state=seed), max_features=92)),\n",
    "    ('clf', SVC(random_state=seed,probability=True))\n",
    "    ])\n",
    "\n",
    "\n",
    "pipe2 = Pipeline([\n",
    "    ('col_extract', ColumnExtractor( cols=range(927,7598) )),\n",
    "    ( \"scaler\", StandardScaler()),\n",
    "    (\"fs\", SelectFromModel(estimator=LogisticRegression(random_state=seed), max_features=92)),\n",
    "    ('clf', SVC(random_state=seed,probability=True))\n",
    "    ])\n",
    "\n",
    "\n",
    "eclf = VotingClassifier(estimators=[('df1-clf1', pipe1), ('df2-clf2', pipe2)], voting='soft')\n"
   ]
  },
  {
   "cell_type": "code",
   "execution_count": 10,
   "id": "2af87e2d",
   "metadata": {},
   "outputs": [],
   "source": [
    "target =morh_and_fmri.target\n",
    "data_late =morh_and_fmri.drop(columns=['target', 'ID'])"
   ]
  },
  {
   "cell_type": "code",
   "execution_count": 11,
   "id": "a47d5127",
   "metadata": {},
   "outputs": [],
   "source": [
    "param_grid = [\n",
    "    {\n",
    "        'df1-clf1__clf__C': [0.01, 0.1, 1],\n",
    "        'df1-clf1__clf__class_weight': ['balanced', None],\n",
    "        'df1-clf1__clf__kernel': ['linear', 'rbf'],\n",
    "        'df1-clf1__clf__probability': [True],\n",
    "        'df1-clf1__clf__random_state': [seed]\n",
    "    },\n",
    "    {\n",
    "        'df2-clf2__clf__C': [0.01, 0.1, 1],\n",
    "        'df2-clf2__clf__class_weight': ['balanced', None],\n",
    "        'df2-clf2__clf__kernel': ['linear', 'rbf'],\n",
    "        'df2-clf2__clf__probability': [True],\n",
    "        'df2-clf2__clf__random_state': [seed]\n",
    "    }\n",
    "]"
   ]
  },
  {
   "cell_type": "code",
   "execution_count": 12,
   "id": "6d2bf31a",
   "metadata": {},
   "outputs": [
    {
     "name": "stdout",
     "output_type": "stream",
     "text": [
      "The mean score using nested cross-validation is: 0.732 ± 0.091\n"
     ]
    }
   ],
   "source": [
    "from sklearn.model_selection import cross_val_score, KFold\n",
    "\n",
    "# Declare the inner and outer cross-validation strategies\n",
    "inner_cv = StratifiedKFold(n_splits=10, shuffle=True, random_state=1380)\n",
    "outer_cv = StratifiedKFold(n_splits=10, shuffle=True, random_state=1380)\n",
    "\n",
    "# Inner cross-validation for parameter search\n",
    "model = GridSearchCV(\n",
    "    estimator=eclf, param_grid=param_grid, cv=inner_cv, n_jobs=-1\n",
    ")\n",
    "\n",
    "# Outer cross-validation to compute the testing score\n",
    "test_score = cross_val_score(model, data_late, target, cv=outer_cv, n_jobs=-1,scoring='f1_macro')\n",
    "print(f\"The mean score using nested cross-validation is: \"\n",
    "      f\"{test_score.mean():.3f} ± {test_score.std():.3f}\")"
   ]
  },
  {
   "cell_type": "markdown",
   "id": "10dc90fd",
   "metadata": {},
   "source": [
    "### XGBoost"
   ]
  },
  {
   "cell_type": "code",
   "execution_count": 13,
   "id": "eaadb381",
   "metadata": {},
   "outputs": [
    {
     "name": "stdout",
     "output_type": "stream",
     "text": [
      "The mean score using nested cross-validation is: 0.631 ± 0.083\n"
     ]
    }
   ],
   "source": [
    "from sklearn.pipeline import Pipeline\n",
    "from sklearn.preprocessing import StandardScaler\n",
    "from sklearn.model_selection import GridSearchCV, cross_val_score, StratifiedKFold\n",
    "from xgboost import XGBClassifier\n",
    "import numpy as np\n",
    "\n",
    "# Load the data\n",
    "target = morh_and_fmri.target\n",
    "data_late = morh_and_fmri.drop(columns=['target', 'ID'])\n",
    "\n",
    "# Custom transformer for sklearn pipeline\n",
    "class ColumnExtractor(TransformerMixin, BaseEstimator):\n",
    "    def __init__(self, cols):\n",
    "        self.cols = cols\n",
    "\n",
    "    def transform(self, X):\n",
    "        col_list = []\n",
    "        for c in self.cols:\n",
    "            col_list.append(X.iloc[:, c:c+1])\n",
    "        return np.concatenate(col_list, axis=1)\n",
    "\n",
    "    def fit(self, X, y=None):\n",
    "        return self\n",
    "\n",
    "\n",
    "# Define the pipeline\n",
    "pipe1 = Pipeline([\n",
    "    ('col_extract', ColumnExtractor(cols=range(0, 927))),\n",
    "    (\"scaler\", StandardScaler()),\n",
    "    ('clf', XGBClassifier(random_state=seed, use_label_encoder=False, objective='binary:logistic'))\n",
    "])\n",
    "\n",
    "pipe2 = Pipeline([\n",
    "    ('col_extract', ColumnExtractor(cols=range(927, 7598))),\n",
    "    (\"scaler\", StandardScaler()),\n",
    "    ('clf', XGBClassifier(random_state=seed, use_label_encoder=False, objective='binary:logistic'))\n",
    "])\n",
    "\n",
    "\n",
    "# Define the parameter grid\n",
    "param_grid = [\n",
    "    {\n",
    "        'clf__learning_rate': [0.1],\n",
    "        'clf__max_depth': [6, 7, 3, 10],\n",
    "        'clf__scale_pos_weight': [1],\n",
    "        'clf__subsample': [1, 0.5],\n",
    "        'clf__alpha': [0],\n",
    "        'clf__random_state': [1380],\n",
    "        'clf__use_label_encoder': [False],\n",
    "        'clf__objective': ['binary:logistic']\n",
    "    }\n",
    "]\n",
    "\n",
    "# Declare the inner and outer cross-validation strategies\n",
    "inner_cv = StratifiedKFold(n_splits=10, shuffle=True, random_state=1380)\n",
    "outer_cv = StratifiedKFold(n_splits=10, shuffle=True, random_state=1380)\n",
    "\n",
    "# Inner cross-validation for parameter search\n",
    "model = GridSearchCV(estimator=pipe1, param_grid=param_grid, cv=inner_cv, n_jobs=-1)\n",
    "\n",
    "# Outer cross-validation to compute the testing score\n",
    "test_score = cross_val_score(model, data_late, target, cv=outer_cv, n_jobs=1, scoring='f1_macro')\n",
    "print(f\"The mean score using nested cross-validation is: {test_score.mean():.3f} ± {test_score.std():.3f}\")"
   ]
  },
  {
   "cell_type": "markdown",
   "id": "b3bda3b4",
   "metadata": {},
   "source": [
    "### XGBoost+feature extraction from Logistic Regression"
   ]
  },
  {
   "cell_type": "code",
   "execution_count": 14,
   "id": "d6cb6f2b",
   "metadata": {},
   "outputs": [
    {
     "name": "stdout",
     "output_type": "stream",
     "text": [
      "The mean score using nested cross-validation is: 0.552 ± 0.076\n"
     ]
    }
   ],
   "source": [
    "from sklearn.pipeline import Pipeline\n",
    "from sklearn.preprocessing import StandardScaler\n",
    "from sklearn.model_selection import GridSearchCV, cross_val_score, StratifiedKFold\n",
    "from xgboost import XGBClassifier\n",
    "import numpy as np\n",
    "\n",
    "# Load the data\n",
    "target = morh_and_fmri.target\n",
    "data_late = morh_and_fmri.drop(columns=['target', 'ID'])\n",
    "\n",
    "# Custom transformer for sklearn pipeline\n",
    "class ColumnExtractor(TransformerMixin, BaseEstimator):\n",
    "    def __init__(self, cols):\n",
    "        self.cols = cols\n",
    "\n",
    "    def transform(self, X):\n",
    "        col_list = []\n",
    "        for c in self.cols:\n",
    "            col_list.append(X.iloc[:, c:c+1])\n",
    "        return np.concatenate(col_list, axis=1)\n",
    "\n",
    "    def fit(self, X, y=None):\n",
    "        return self\n",
    "\n",
    "\n",
    "# Define the pipeline\n",
    "pipe1 = Pipeline([\n",
    "    ('col_extract', ColumnExtractor(cols=range(0, 927))),\n",
    "    (\"scaler\", StandardScaler()),\n",
    "    (\"fs\", SelectFromModel(estimator=LogisticRegression(random_state=seed), max_features=92)),\n",
    "    ('clf', XGBClassifier(random_state=seed, use_label_encoder=False, objective='binary:logistic'))\n",
    "])\n",
    "\n",
    "pipe2 = Pipeline([\n",
    "    ('col_extract', ColumnExtractor(cols=range(927, 7598))),\n",
    "    (\"scaler\", StandardScaler()),\n",
    "    (\"fs\", SelectFromModel(estimator=LogisticRegression(random_state=seed), max_features=92)),\n",
    "    ('clf', XGBClassifier(random_state=seed, use_label_encoder=False, objective='binary:logistic'))\n",
    "])\n",
    "\n",
    "\n",
    "# Define the parameter grid\n",
    "param_grid = [\n",
    "    {\n",
    "        'clf__learning_rate': [0.1],\n",
    "        'clf__max_depth': [6, 7, 3, 10],\n",
    "        'clf__scale_pos_weight': [1],\n",
    "        'clf__subsample': [1, 0.5],\n",
    "        'clf__alpha': [0],\n",
    "        'clf__random_state': [1380],\n",
    "        'clf__use_label_encoder': [False],\n",
    "        'clf__objective': ['binary:logistic']\n",
    "    }\n",
    "]\n",
    "\n",
    "# Declare the inner and outer cross-validation strategies\n",
    "inner_cv = StratifiedKFold(n_splits=10, shuffle=True, random_state=1380)\n",
    "outer_cv = StratifiedKFold(n_splits=10, shuffle=True, random_state=1380)\n",
    "\n",
    "# Inner cross-validation for parameter search\n",
    "model = GridSearchCV(estimator=pipe1, param_grid=param_grid, cv=inner_cv, n_jobs=-1)\n",
    "\n",
    "# Outer cross-validation to compute the testing score\n",
    "test_score = cross_val_score(model, data_late, target, cv=outer_cv, n_jobs=1, scoring='f1_macro')\n",
    "print(f\"The mean score using nested cross-validation is: {test_score.mean():.3f} ± {test_score.std():.3f}\")\n"
   ]
  }
 ],
 "metadata": {
  "kernelspec": {
   "display_name": "Python 3 (ipykernel)",
   "language": "python",
   "name": "python3"
  },
  "language_info": {
   "codemirror_mode": {
    "name": "ipython",
    "version": 3
   },
   "file_extension": ".py",
   "mimetype": "text/x-python",
   "name": "python",
   "nbconvert_exporter": "python",
   "pygments_lexer": "ipython3",
   "version": "3.9.7"
  }
 },
 "nbformat": 4,
 "nbformat_minor": 5
}
